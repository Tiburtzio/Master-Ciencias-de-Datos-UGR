{
 "cells": [
  {
   "cell_type": "markdown",
   "metadata": {},
   "source": [
    "# Ejercicios R"
   ]
  },
  {
   "cell_type": "markdown",
   "metadata": {},
   "source": [
    "## 1. Escribe una función contar_letras(palabra,letra) que devuelva el número de veces que aparece una letra en una palabra."
   ]
  },
  {
   "cell_type": "code",
   "execution_count": 5,
   "metadata": {},
   "outputs": [
    {
     "name": "stdout",
     "output_type": "stream",
     "text": [
      "1\n",
      "0\n"
     ]
    }
   ],
   "source": [
    "def contar_letras(palabra,letra):\n",
    "    num_letras = 0\n",
    "    for l in palabra:\n",
    "        if(letra == l):\n",
    "            num_letras += 1\n",
    "            \n",
    "    return num_letras\n",
    "\n",
    "print(contar_letras(\"hola\",\"a\"))\n",
    "print(contar_letras(\"hola\",\"e\"))"
   ]
  },
  {
   "cell_type": "markdown",
   "metadata": {},
   "source": [
    "## 2. Escribe una función eliminar_letras(palabra, letra) que devuelva una versión de palabra que no contiene el carácter letra."
   ]
  },
  {
   "cell_type": "code",
   "execution_count": 20,
   "metadata": {},
   "outputs": [
    {
     "name": "stdout",
     "output_type": "stream",
     "text": [
      "hol\n",
      "hla\n"
     ]
    }
   ],
   "source": [
    "def eliminar_letras(palabra,letra):\n",
    "    new_palabra = ''\n",
    "    for l in palabra:\n",
    "        if l != letra:\n",
    "            new_palabra += l\n",
    "            \n",
    "    \n",
    "    return new_palabra\n",
    "            \n",
    "\n",
    "print(eliminar_letras(\"hola\",\"a\"))\n",
    "print(eliminar_letras(\"hola\",\"o\"))\n"
   ]
  },
  {
   "cell_type": "markdown",
   "metadata": {},
   "source": [
    "## 3. Escribe una función buscar(palabra,sub) que devuelva la posición en la que se puede encontrar sub dentro de una palabra o -1 en caso de que no esté."
   ]
  },
  {
   "cell_type": "code",
   "execution_count": 23,
   "metadata": {},
   "outputs": [
    {
     "name": "stdout",
     "output_type": "stream",
     "text": [
      "2\n",
      "-1\n"
     ]
    }
   ],
   "source": [
    "def buscar(palabra,sub):\n",
    "    sub_index = 0\n",
    "    index = -1\n",
    "    for i in range(len(palabra)):\n",
    "        if palabra[i] == sub[0]:\n",
    "            index = i\n",
    "            for j in range(1,len(sub)):\n",
    "                if i+j >= len(palabra):\n",
    "                    index = -1\n",
    "                elif palabra[i+j] != sub[j]:\n",
    "                    index = -1\n",
    "        \n",
    "    return index\n",
    "\n",
    "\n",
    "print(buscar(\"hola\",\"la\"))\n",
    "print(buscar(\"hola\",\"lo\"))"
   ]
  },
  {
   "cell_type": "markdown",
   "metadata": {},
   "source": [
    "## 4. Escribe una función num_vocales(palabra) que devuelva el número de vocales que aparece en la palabra."
   ]
  },
  {
   "cell_type": "code",
   "execution_count": 25,
   "metadata": {},
   "outputs": [
    {
     "name": "stdout",
     "output_type": "stream",
     "text": [
      "2\n",
      "3\n"
     ]
    }
   ],
   "source": [
    "def num_vocales(palabra):\n",
    "    vocales = 0\n",
    "    vocals =  ['a','e','i','o','u']\n",
    "    for l in palabra:\n",
    "        if l in vocals:\n",
    "            vocales += 1\n",
    "    \n",
    "    return vocales\n",
    "\n",
    "print(num_vocales(\"hola\"))\n",
    "print(num_vocales(\"pepino\"))"
   ]
  },
  {
   "cell_type": "markdown",
   "metadata": {},
   "source": [
    "## 5. Escribe una función vocales(palabra) que devuelva las vocales que aparecen en la palabra."
   ]
  },
  {
   "cell_type": "code",
   "execution_count": 28,
   "metadata": {},
   "outputs": [
    {
     "name": "stdout",
     "output_type": "stream",
     "text": [
      "['o', 'a']\n"
     ]
    }
   ],
   "source": [
    "def vocales(palabra):\n",
    "    vocales = []\n",
    "    vocals = ['a','e','i','o','u']\n",
    "    for l in palabra:\n",
    "        if l in vocals:\n",
    "            vocales.append(l)\n",
    "    return vocales\n",
    "\n",
    "print(vocales(\"hola\"))"
   ]
  },
  {
   "cell_type": "markdown",
   "metadata": {},
   "source": [
    "## 6. Escribe una función es_inversa(palabra1, palabra2) que devuelva True si una palabra es la misma que la otra pero ocn los caracteres en orden inverso. Por ejemplo 'absd' y 'dsba'"
   ]
  },
  {
   "cell_type": "code",
   "execution_count": 34,
   "metadata": {},
   "outputs": [
    {
     "name": "stdout",
     "output_type": "stream",
     "text": [
      "True\n"
     ]
    }
   ],
   "source": [
    "def es_inversa(palabra1, palabra2):\n",
    "    ini = 0\n",
    "    fin = len(palabra2)-1\n",
    "    inversa = True\n",
    "    \n",
    "    if len(palabra1) != len(palabra2):\n",
    "        inversa = False\n",
    "    else:\n",
    "        while( ini < len(palabra1) and inversa):\n",
    "            if(palabra1[ini] != palabra2[fin]):\n",
    "                inversa = False\n",
    "            ini += 1\n",
    "            fin -= 1\n",
    "                \n",
    "    return inversa\n",
    "\n",
    "print(es_inversa(\"absd\",\"dsba\"))"
   ]
  },
  {
   "cell_type": "markdown",
   "metadata": {},
   "source": [
    "## 7. Escribe una función comunes(palabra1, palabra2) que devuelva una cadena formada por los caracteres comunes a las dos palabras."
   ]
  },
  {
   "cell_type": "code",
   "execution_count": 35,
   "metadata": {},
   "outputs": [
    {
     "name": "stdout",
     "output_type": "stream",
     "text": [
      "ola\n"
     ]
    }
   ],
   "source": [
    "def comunes(palabra1,palabra2):\n",
    "    caracteres_comunes = ''\n",
    "    for l in palabra1:\n",
    "        if l in palabra2 and l not in caracteres_comunes:\n",
    "            caracteres_comunes += l\n",
    "    return caracteres_comunes\n",
    "\n",
    "print(comunes(\"hola\",\"olaa\"))"
   ]
  },
  {
   "cell_type": "markdown",
   "metadata": {},
   "source": [
    "## 8. Escribe una función eco_palabra(palabra) que devuelva una cadena formada por palabra repetida tantas veces como sesa su longitud. Por ejemplo 'hola' -> 'holaholaholahola'"
   ]
  },
  {
   "cell_type": "code",
   "execution_count": 38,
   "metadata": {},
   "outputs": [
    {
     "name": "stdout",
     "output_type": "stream",
     "text": [
      "holaholaholahola\n"
     ]
    }
   ],
   "source": [
    "def eco_palabra(palabra):\n",
    "    eco = ''\n",
    "    for veces in range(len(palabra)):\n",
    "        eco += palabra\n",
    "    \n",
    "    return eco\n",
    "\n",
    "print(eco_palabra(\"hola\"))"
   ]
  },
  {
   "cell_type": "markdown",
   "metadata": {},
   "source": [
    "## 9.Escribe una funicón palindromo(frase) que determiensi frase es un palíndromo. Es decir, que se lea igual de izquierda a derecha que de derecha a izquierda (sin considerar espacios)."
   ]
  },
  {
   "cell_type": "code",
   "execution_count": 44,
   "metadata": {},
   "outputs": [
    {
     "name": "stdout",
     "output_type": "stream",
     "text": [
      "True\n",
      "False\n"
     ]
    }
   ],
   "source": [
    "def palindromo(frase):\n",
    "    es_palindromo = True\n",
    "    mitad = (len(frase)-1)/2\n",
    "    frase = frase.replace(\" \",\"\")\n",
    "    ini = 0\n",
    "    fin = len(frase)-1\n",
    "    while( es_palindromo and ini < mitad\n",
    "         and fin > mitad):\n",
    "        \n",
    "        if frase[ini] != frase[fin]:\n",
    "            es_palindromo = False\n",
    "        \n",
    "        ini += 1\n",
    "        fin -= 1\n",
    "    \n",
    "    return es_palindromo\n",
    "\n",
    "print(palindromo(\"a cavar a caravaca\"))\n",
    "print(palindromo(\"hola hola\"))"
   ]
  },
  {
   "cell_type": "markdown",
   "metadata": {},
   "source": [
    "## 10 Escribe una función orden_alfabético(palabra) que determina si las letras que forman palabra aparecen en orden alfabético. Por ejemplo 'abejo'"
   ]
  },
  {
   "cell_type": "code",
   "execution_count": 53,
   "metadata": {},
   "outputs": [
    {
     "name": "stdout",
     "output_type": "stream",
     "text": [
      "True\n",
      "False\n"
     ]
    }
   ],
   "source": [
    "def orden_alfabetico(palabra):\n",
    "    palabra_ord = ''.join(sorted(palabra))\n",
    "    return palabra_ord == palabra\n",
    "\n",
    "print(orden_alfabetico(\"abejo\"))\n",
    "print(orden_alfabetico(\"hola\"))"
   ]
  },
  {
   "cell_type": "markdown",
   "metadata": {},
   "source": [
    "## 11. Escribe una función trocear(palabra, num) que devuelva una lista con trozos de tamaño num de palabra."
   ]
  },
  {
   "cell_type": "code",
   "execution_count": 58,
   "metadata": {},
   "outputs": [
    {
     "name": "stdout",
     "output_type": "stream",
     "text": [
      "['h', 'o', 'l', 'a']\n",
      "['ho', 'la']\n",
      "['hol', 'a']\n"
     ]
    }
   ],
   "source": [
    "def trocear(palabra,num):\n",
    "    ini = 0\n",
    "    trozos = []\n",
    "    while( (ini+num) < len(palabra)):\n",
    "        trozos.append(palabra[ini:ini+num])\n",
    "        ini += num\n",
    "    \n",
    "    trozos.append(palabra[ini:])\n",
    "    return trozos\n",
    "\n",
    "print(trocear(\"hola\",1))\n",
    "print(trocear(\"hola\",2))\n",
    "print(trocear(\"hola\",3))"
   ]
  },
  {
   "cell_type": "markdown",
   "metadata": {},
   "source": [
    "## 12. Un anagrama de una palabra pal1 es una palabra formada con las mismas letras que pal1 pero en orden disitinto. Escribe una función anagrama(palabra1,palabra2) que determine si es una anagrama. Ejemplo: marta - trama"
   ]
  },
  {
   "cell_type": "code",
   "execution_count": 60,
   "metadata": {},
   "outputs": [
    {
     "name": "stdout",
     "output_type": "stream",
     "text": [
      "True\n",
      "False\n"
     ]
    }
   ],
   "source": [
    "def anagrama(palabra1,palabra2):\n",
    "    palabra1_ord = ''.join(sorted(palabra1))\n",
    "    palabra2_ord = ''.join(sorted(palabra2))\n",
    "    return palabra1_ord == palabra2_ord\n",
    "\n",
    "print(anagrama(\"marta\",\"trama\"))\n",
    "print(anagrama(\"patatas\",\"hola\"))"
   ]
  }
 ],
 "metadata": {
  "kernelspec": {
   "display_name": "Python 3",
   "language": "python",
   "name": "python3"
  },
  "language_info": {
   "codemirror_mode": {
    "name": "ipython",
    "version": 3
   },
   "file_extension": ".py",
   "mimetype": "text/x-python",
   "name": "python",
   "nbconvert_exporter": "python",
   "pygments_lexer": "ipython3",
   "version": "3.7.0"
  }
 },
 "nbformat": 4,
 "nbformat_minor": 2
}
