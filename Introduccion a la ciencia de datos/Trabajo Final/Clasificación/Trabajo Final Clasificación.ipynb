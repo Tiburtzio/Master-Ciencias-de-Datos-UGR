{
 "cells": [
  {
   "cell_type": "markdown",
   "metadata": {},
   "source": [
    "## Clasificación sobre el dataset hayes-roth\n",
    "Alberto Armijo Ruiz"
   ]
  },
  {
   "cell_type": "markdown",
   "metadata": {},
   "source": [
    "### Información sobre el dataset\n",
    "El dataset *hayes-roth* se trata de un dataset artificial utilizado para estudiar el comportamiento de clasificadores , el atributo *Hobby* está generado de forma aleatoria y se utiliza para introducir ruido dentro del dataset.  Este dataset cuenta con cuatro variables predictoras: *Hobby*, *Age*, *EducationalLevel* y *MaritalStatus*; también contamos con una variable, llamada *Class* que representa la clase en la que se encuentra cada dato.\n",
    "\n",
    "Cada una de las variables predictoras se encuentran con valores enteros del 1 al 4, menos la variable *Hobby* que va del 1 al 3. La variable que tenemos que predecir cuenta con tres clases (1,2 y 3).\n",
    "\n",
    "Este dataset cuenta con 160 instancias y no cuenta con datos pérdidos. Se puede encontrar información sobre este dataset en [https://sci2s.ugr.es/keel/dataset.php?cod=186](https://sci2s.ugr.es/keel/dataset.php?cod=186) ."
   ]
  },
  {
   "cell_type": "markdown",
   "metadata": {},
   "source": [
    "## Análisis exploratorio de los datos\n",
    "Para leer los datos, deberemos que leer el archivo llamado *hayes-roth.dat* que se encuentra dentro de la carpeta *hayes-roth*. Tras esto, deberemos añadirle los nombres a las variables."
   ]
  },
  {
   "cell_type": "code",
   "execution_count": 3,
   "metadata": {
    "scrolled": true
   },
   "outputs": [
    {
     "data": {
      "text/html": [
       "<table>\n",
       "<thead><tr><th scope=col>Hobby</th><th scope=col>Age</th><th scope=col>EducationalLevel</th><th scope=col>MaritalStatus</th><th scope=col>Class</th></tr></thead>\n",
       "<tbody>\n",
       "\t<tr><td>2</td><td>1</td><td>1</td><td>2</td><td>1</td></tr>\n",
       "\t<tr><td>2</td><td>1</td><td>3</td><td>2</td><td>2</td></tr>\n",
       "\t<tr><td>3</td><td>1</td><td>4</td><td>1</td><td>3</td></tr>\n",
       "\t<tr><td>2</td><td>4</td><td>2</td><td>2</td><td>3</td></tr>\n",
       "\t<tr><td>1</td><td>1</td><td>3</td><td>4</td><td>3</td></tr>\n",
       "\t<tr><td>1</td><td>1</td><td>3</td><td>2</td><td>2</td></tr>\n",
       "</tbody>\n",
       "</table>\n"
      ],
      "text/latex": [
       "\\begin{tabular}{r|lllll}\n",
       " Hobby & Age & EducationalLevel & MaritalStatus & Class\\\\\n",
       "\\hline\n",
       "\t 2 & 1 & 1 & 2 & 1\\\\\n",
       "\t 2 & 1 & 3 & 2 & 2\\\\\n",
       "\t 3 & 1 & 4 & 1 & 3\\\\\n",
       "\t 2 & 4 & 2 & 2 & 3\\\\\n",
       "\t 1 & 1 & 3 & 4 & 3\\\\\n",
       "\t 1 & 1 & 3 & 2 & 2\\\\\n",
       "\\end{tabular}\n"
      ],
      "text/markdown": [
       "\n",
       "| Hobby | Age | EducationalLevel | MaritalStatus | Class |\n",
       "|---|---|---|---|---|\n",
       "| 2 | 1 | 1 | 2 | 1 |\n",
       "| 2 | 1 | 3 | 2 | 2 |\n",
       "| 3 | 1 | 4 | 1 | 3 |\n",
       "| 2 | 4 | 2 | 2 | 3 |\n",
       "| 1 | 1 | 3 | 4 | 3 |\n",
       "| 1 | 1 | 3 | 2 | 2 |\n",
       "\n"
      ],
      "text/plain": [
       "  Hobby Age EducationalLevel MaritalStatus Class\n",
       "1 2     1   1                2             1    \n",
       "2 2     1   3                2             2    \n",
       "3 3     1   4                1             3    \n",
       "4 2     4   2                2             3    \n",
       "5 1     1   3                4             3    \n",
       "6 1     1   3                2             2    "
      ]
     },
     "metadata": {},
     "output_type": "display_data"
    },
    {
     "name": "stdout",
     "output_type": "stream",
     "text": [
      "'data.frame':\t160 obs. of  5 variables:\n",
      " $ Hobby           : int  2 2 3 2 1 1 3 3 2 1 ...\n",
      " $ Age             : int  1 1 1 4 1 1 1 4 2 2 ...\n",
      " $ EducationalLevel: int  1 3 4 2 3 3 3 2 1 1 ...\n",
      " $ MaritalStatus   : int  2 2 1 2 4 2 2 4 1 1 ...\n",
      " $ Class           : int  1 2 3 3 3 2 2 3 1 1 ...\n"
     ]
    }
   ],
   "source": [
    "# Leemos el dataset\n",
    "hayesroth = read.csv('hayes-roth//hayes-roth.dat', comment.char = '@', header = FALSE)\n",
    "nombres = c('Hobby', 'Age', 'EducationalLevel', 'MaritalStatus','Class')\n",
    "colnames(hayesroth) = nombres\n",
    "\n",
    "head(hayesroth)\n",
    "str(hayesroth)"
   ]
  },
  {
   "cell_type": "markdown",
   "metadata": {},
   "source": [
    "### Cálculo de medias y desviaciones"
   ]
  },
  {
   "cell_type": "markdown",
   "metadata": {},
   "source": [
    "Ahora calcularemos la media y desviación estandar de cada uno de los atributos."
   ]
  },
  {
   "cell_type": "code",
   "execution_count": 4,
   "metadata": {},
   "outputs": [
    {
     "data": {
      "text/html": [
       "<table>\n",
       "<thead><tr><th></th><th scope=col>medias</th><th scope=col>desviaciones</th></tr></thead>\n",
       "<tbody>\n",
       "\t<tr><th scope=row>Hobby</th><td>1.8250   </td><td>0.8359080</td></tr>\n",
       "\t<tr><th scope=row>Age</th><td>1.9750   </td><td>0.9380161</td></tr>\n",
       "\t<tr><th scope=row>EducationalLevel</th><td>1.9750   </td><td>0.9380161</td></tr>\n",
       "\t<tr><th scope=row>MaritalStatus</th><td>1.9750   </td><td>0.9380161</td></tr>\n",
       "\t<tr><th scope=row>Class</th><td>1.7875   </td><td>0.7472171</td></tr>\n",
       "</tbody>\n",
       "</table>\n"
      ],
      "text/latex": [
       "\\begin{tabular}{r|ll}\n",
       "  & medias & desviaciones\\\\\n",
       "\\hline\n",
       "\tHobby & 1.8250    & 0.8359080\\\\\n",
       "\tAge & 1.9750    & 0.9380161\\\\\n",
       "\tEducationalLevel & 1.9750    & 0.9380161\\\\\n",
       "\tMaritalStatus & 1.9750    & 0.9380161\\\\\n",
       "\tClass & 1.7875    & 0.7472171\\\\\n",
       "\\end{tabular}\n"
      ],
      "text/markdown": [
       "\n",
       "| <!--/--> | medias | desviaciones |\n",
       "|---|---|---|\n",
       "| Hobby | 1.8250    | 0.8359080 |\n",
       "| Age | 1.9750    | 0.9380161 |\n",
       "| EducationalLevel | 1.9750    | 0.9380161 |\n",
       "| MaritalStatus | 1.9750    | 0.9380161 |\n",
       "| Class | 1.7875    | 0.7472171 |\n",
       "\n"
      ],
      "text/plain": [
       "                 medias desviaciones\n",
       "Hobby            1.8250 0.8359080   \n",
       "Age              1.9750 0.9380161   \n",
       "EducationalLevel 1.9750 0.9380161   \n",
       "MaritalStatus    1.9750 0.9380161   \n",
       "Class            1.7875 0.7472171   "
      ]
     },
     "metadata": {},
     "output_type": "display_data"
    }
   ],
   "source": [
    "# Calculamos la media y la desviación.\n",
    "medias = sapply(hayesroth, mean)\n",
    "desviaciones = sapply(hayesroth, sd)\n",
    "\n",
    "# Creamos una tabla y mostramos los resultados.\n",
    "medydesv = cbind(medias, desviaciones)\n",
    "medydesv"
   ]
  },
  {
   "cell_type": "markdown",
   "metadata": {},
   "source": [
    "Por lo que podemos ver, las medias y desviaciones tiene bastante sentido, por lo que parece que los datos están bien distribuido, de todas formas, pintaremos las distribuciones de las variables."
   ]
  },
  {
   "cell_type": "markdown",
   "metadata": {},
   "source": [
    "### Representación de los datos"
   ]
  },
  {
   "cell_type": "code",
   "execution_count": 5,
   "metadata": {},
   "outputs": [],
   "source": [
    "# cargamos la librería.\n",
    "library(ggplot2)"
   ]
  },
  {
   "cell_type": "code",
   "execution_count": 6,
   "metadata": {},
   "outputs": [
    {
     "data": {},
     "metadata": {},
     "output_type": "display_data"
    },
    {
     "data": {
      "image/png": "[encoded data removed]",
      "text/plain": [
       "plot without title"
      ]
     },
     "metadata": {},
     "output_type": "display_data"
    }
   ],
   "source": [
    "# Pintamos un histograma por cada variable. Dibujaremos la media y la mediana también.\n",
    "ggplot(hayesroth, aes(x=Hobby))+\n",
    "    geom_histogram(bins = length(unique(hayesroth$Hobby)), fill=\"lightblue\", \n",
    "                   color=\"black\")+\n",
    "    geom_vline(aes(xintercept = mean(Hobby),color = \"mean\"), \n",
    "             linetype = \"dashed\", size = 0.6) +\n",
    "    geom_vline(aes(xintercept = median(Hobby),color=\"median\"),\n",
    "                  linetype = \"dashed\", size = 0.6 ) +\n",
    "    scale_color_manual(name = \"statistics\", values = c(mean = \"#FC4E07\", median = \"blue\"))"
   ]
  },
  {
   "cell_type": "code",
   "execution_count": 7,
   "metadata": {},
   "outputs": [
    {
     "data": {},
     "metadata": {},
     "output_type": "display_data"
    },
    {
     "data": {
      "image/png": "[encoded data removed]",
      "text/plain": [
       "plot without title"
      ]
     },
     "metadata": {},
     "output_type": "display_data"
    }
   ],
   "source": [
    "# Pintamos un histograma por cada variable. Dibujaremos la media y la mediana también.\n",
    "ggplot(hayesroth, aes(x=Age))+\n",
    "    geom_histogram(bins = length(unique(hayesroth$Age)), fill=\"lightblue\", \n",
    "                   color=\"black\")+\n",
    "    geom_vline(aes(xintercept = mean(Age),color = \"mean\"), \n",
    "             linetype = \"dashed\", size = 0.6) +\n",
    "    geom_vline(aes(xintercept = median(Age),color=\"median\"),\n",
    "                  linetype = \"dashed\", size = 0.6 ) +\n",
    "    scale_color_manual(name = \"statistics\", values = c(mean = \"#FC4E07\", median = \"blue\"))"
   ]
  },
  {
   "cell_type": "code",
   "execution_count": 8,
   "metadata": {},
   "outputs": [
    {
     "data": {},
     "metadata": {},
     "output_type": "display_data"
    },
    {
     "data": {
      "image/png": "[encoded data removed]",
      "text/plain": [
       "plot without title"
      ]
     },
     "metadata": {},
     "output_type": "display_data"
    }
   ],
   "source": [
    "# Pintamos un histograma por cada variable. Dibujaremos la media y la mediana también.\n",
    "ggplot(hayesroth, aes(x=EducationalLevel))+\n",
    "    geom_histogram(bins = length(unique(hayesroth$EducationalLevel)), fill=\"lightblue\", \n",
    "                   color=\"black\")+\n",
    "    geom_vline(aes(xintercept = mean(EducationalLevel),color = \"mean\"), \n",
    "             linetype = \"dashed\", size = 0.6) +\n",
    "    geom_vline(aes(xintercept = median(EducationalLevel),color=\"median\"),\n",
    "                  linetype = \"dashed\", size = 0.6 ) +\n",
    "    scale_color_manual(name = \"statistics\", values = c(mean = \"#FC4E07\", median = \"blue\"))"
   ]
  },
  {
   "cell_type": "code",
   "execution_count": 9,
   "metadata": {},
   "outputs": [
    {
     "data": {},
     "metadata": {},
     "output_type": "display_data"
    },
    {
     "data": {
      "image/png": "[encoded data removed]",
      "text/plain": [
       "plot without title"
      ]
     },
     "metadata": {},
     "output_type": "display_data"
    }
   ],
   "source": [
    "# Pintamos un histograma por cada variable. Dibujaremos la media y la mediana también.\n",
    "ggplot(hayesroth, aes(x=MaritalStatus))+\n",
    "    geom_histogram(bins = length(unique(hayesroth$MaritalStatus)), fill=\"lightblue\", \n",
    "                   color=\"black\")+\n",
    "    geom_vline(aes(xintercept = mean(MaritalStatus),color = \"mean\"), \n",
    "             linetype = \"dashed\", size = 0.6) +\n",
    "    geom_vline(aes(xintercept = median(MaritalStatus),color=\"median\"),\n",
    "                  linetype = \"dashed\", size = 0.6 ) +\n",
    "    scale_color_manual(name = \"statistics\", values = c(mean = \"#FC4E07\", median = \"blue\"))"
   ]
  },
  {
   "cell_type": "code",
   "execution_count": 10,
   "metadata": {},
   "outputs": [
    {
     "data": {},
     "metadata": {},
     "output_type": "display_data"
    },
    {
     "data": {
      "image/png": "[encoded data removed]",
      "text/plain": [
       "plot without title"
      ]
     },
     "metadata": {},
     "output_type": "display_data"
    }
   ],
   "source": [
    "# Pintamos un histograma por cada variable. Dibujaremos la media y la mediana también.\n",
    "ggplot(hayesroth, aes(x=Class))+\n",
    "    geom_histogram(bins = length(unique(hayesroth$Class)), fill=\"lightblue\", color=\"black\")+\n",
    "    geom_vline(aes(xintercept = mean(Class),color = \"mean\"), \n",
    "             linetype = \"dashed\", size = 0.6) +\n",
    "    geom_vline(aes(xintercept = median(Class),color=\"median\"),\n",
    "                  linetype = \"dashed\", size = 0.6 ) +\n",
    "    scale_color_manual(name = \"statistics\", values = c(mean = \"#FC4E07\", median = \"blue\"))"
   ]
  },
  {
   "cell_type": "markdown",
   "metadata": {},
   "source": [
    "Como se puede ver en las gráficas, nos encontramos ante un problema con desvalanceo de clases, ya que la variable *Class* cuenta con un número menor de ejemplos de la clase 3 que para las otras clases. También podemos ver que en las variables *Age*, *EducationalLevel* y *MaritalStatus* existe un número mayor de ejemplos sobre los niveles 1 y 2 que para los niveles 3 y 4; para la variable *Hobby* pasa lo mismo pero del nivel 1 sobre los niveles 2 y 3.\n",
    "\n",
    "Lo siguiente que haremos será dibujar cada una de las variables predictoras según la clase, de esta forma podremos ver si los datos de las diferentes clases están bien diferenciados unos de los otros."
   ]
  },
  {
   "cell_type": "code",
   "execution_count": 11,
   "metadata": {},
   "outputs": [
    {
     "data": {
      "image/png": "[encoded data removed]",
      "text/plain": [
       "plot without title"
      ]
     },
     "metadata": {},
     "output_type": "display_data"
    }
   ],
   "source": [
    "# Dibujamos los datos y pintamos dependiendo de la clase a la que pertenezcan.\n",
    "plot(hayesroth[,1:4],col=hayesroth[,5])"
   ]
  },
  {
   "cell_type": "code",
   "execution_count": 12,
   "metadata": {},
   "outputs": [
    {
     "data": {},
     "metadata": {},
     "output_type": "display_data"
    },
    {
     "data": {
      "image/png": "[encoded data removed]",
      "text/plain": [
       "plot without title"
      ]
     },
     "metadata": {},
     "output_type": "display_data"
    }
   ],
   "source": [
    "ggplot(hayesroth,aes(y=Hobby,x=Age))+\n",
    "geom_point(aes(col=as.factor(Class)),size=2)+\n",
    "facet_grid(~Class)"
   ]
  },
  {
   "cell_type": "code",
   "execution_count": 13,
   "metadata": {},
   "outputs": [
    {
     "data": {},
     "metadata": {},
     "output_type": "display_data"
    },
    {
     "data": {
      "image/png": "[encoded data removed]",
      "text/plain": [
       "plot without title"
      ]
     },
     "metadata": {},
     "output_type": "display_data"
    }
   ],
   "source": [
    "ggplot(hayesroth,aes(y=Hobby,x=EducationalLevel))+\n",
    "geom_point(aes(col=as.factor(Class)),size=2)+\n",
    "facet_grid(~Class)"
   ]
  },
  {
   "cell_type": "code",
   "execution_count": 14,
   "metadata": {},
   "outputs": [
    {
     "data": {},
     "metadata": {},
     "output_type": "display_data"
    },
    {
     "data": {
      "image/png": "[encoded data removed]",
      "text/plain": [
       "plot without title"
      ]
     },
     "metadata": {},
     "output_type": "display_data"
    }
   ],
   "source": [
    "ggplot(hayesroth,aes(y=Hobby,x=MaritalStatus))+\n",
    "geom_point(aes(col=as.factor(Class)),size=2) +\n",
    "facet_grid(~Class)"
   ]
  },
  {
   "cell_type": "code",
   "execution_count": 15,
   "metadata": {},
   "outputs": [
    {
     "data": {},
     "metadata": {},
     "output_type": "display_data"
    },
    {
     "data": {
      "image/png": "[encoded data removed]",
      "text/plain": [
       "plot without title"
      ]
     },
     "metadata": {},
     "output_type": "display_data"
    }
   ],
   "source": [
    "ggplot(hayesroth,aes(y=Age,x=EducationalLevel))+\n",
    "geom_point(aes(col=as.factor(Class)),size=2) +\n",
    "facet_grid(~Class)"
   ]
  },
  {
   "cell_type": "code",
   "execution_count": 16,
   "metadata": {},
   "outputs": [
    {
     "data": {},
     "metadata": {},
     "output_type": "display_data"
    },
    {
     "data": {
      "image/png": "[encoded data removed]",
      "text/plain": [
       "plot without title"
      ]
     },
     "metadata": {},
     "output_type": "display_data"
    }
   ],
   "source": [
    "ggplot(hayesroth,aes(y=Age,x=MaritalStatus))+\n",
    "geom_point(aes(col=as.factor(Class)),size=2)+\n",
    "facet_grid(~Class)"
   ]
  },
  {
   "cell_type": "code",
   "execution_count": 17,
   "metadata": {
    "scrolled": false
   },
   "outputs": [
    {
     "data": {},
     "metadata": {},
     "output_type": "display_data"
    },
    {
     "data": {
      "image/png": "[encoded data removed]",
      "text/plain": [
       "plot without title"
      ]
     },
     "metadata": {},
     "output_type": "display_data"
    }
   ],
   "source": [
    "ggplot(hayesroth,aes(y=MaritalStatus,x=EducationalLevel))+\n",
    "    geom_point(aes(col=as.factor(Class)),size=2)+\n",
    "    facet_grid(~Class)"
   ]
  },
  {
   "cell_type": "code",
   "execution_count": 18,
   "metadata": {},
   "outputs": [],
   "source": [
    "library(reshape2)\n",
    "temp = hayesroth\n",
    "nhayes <- melt(temp, id.vars = \"Class\")"
   ]
  },
  {
   "cell_type": "code",
   "execution_count": 19,
   "metadata": {},
   "outputs": [
    {
     "data": {},
     "metadata": {},
     "output_type": "display_data"
    },
    {
     "data": {
      "image/png": "[encoded data removed]",
      "text/plain": [
       "plot without title"
      ]
     },
     "metadata": {},
     "output_type": "display_data"
    }
   ],
   "source": [
    "ggplot(nhayes, aes(x=variable, y=value, group=Class)) + \n",
    "    geom_point(aes(color=as.factor(Class))) +\n",
    "                facet_grid(~ Class) +\n",
    "    theme(axis.text.x = element_text(angle = 45, hjust = 1))"
   ]
  },
  {
   "cell_type": "markdown",
   "metadata": {},
   "source": [
    "Como se puede ver en las gráficas anteriores, existen valores de todos los tipos en todas las clases, esto nos dice que la separación entre dichas clases es bastante mala, y por ello será bastante difícil obtener un buen clasificador.La diferencia más clara que se puede ver es que los elementos que toman valores 4 para las variables *Age*, *EducationalLevel* y *MaritalStatus* pertenecen siempre a la tercera clase.\n",
    "\n",
    "También podemos ver como la variable *Hobby* presenta valores en todas las clases para todos sus valores, por lo que no merece la pena utilizarla en la predicción (como está descrito en el apartado de información, la variable *Hobby* es una variable generada de forma aleatoria para introducir ruido en los datos). Para el resto de los datos, podemos ver que existen algunas diferencias entre los datos de las diferentes clases, por ejemplo, ningún dato con *MaritalStatus* y *EducationalLevel* 1 pertenecen a la segunda clase o los datos de *EducationalLevel* 2 ó 3 y *Age* 2 nunca pertencen a la primera clase. Con las pequeñas diferencias que hay entre las variables *Age*, *EducationalLevel* y *MaritalStatus* nuestro clasificador deberá de conseguir separar las 3 clases que existen."
   ]
  },
  {
   "cell_type": "markdown",
   "metadata": {},
   "source": [
    "Probaremos también ha transformar los datos con PCA, para ver si conseguimos una mejor separación de estos."
   ]
  },
  {
   "cell_type": "code",
   "execution_count": 20,
   "metadata": {
    "scrolled": true
   },
   "outputs": [
    {
     "name": "stderr",
     "output_type": "stream",
     "text": [
      "Loading required package: caret\n",
      "Loading required package: lattice\n"
     ]
    },
    {
     "data": {
      "text/html": [
       "<table>\n",
       "<thead><tr><th scope=col>PC1</th><th scope=col>PC2</th><th scope=col>PC3</th></tr></thead>\n",
       "<tbody>\n",
       "\t<tr><td> 1.018395e+00</td><td>-0.5879708   </td><td>-1.2103330   </td></tr>\n",
       "\t<tr><td>-5.957231e-01</td><td>-1.5198825   </td><td> 0.1075892   </td></tr>\n",
       "\t<tr><td>-2.036791e+00</td><td>-1.1759416   </td><td>-0.3788167   </td></tr>\n",
       "\t<tr><td>-8.326673e-17</td><td> 1.1759416   </td><td> 1.2842159   </td></tr>\n",
       "\t<tr><td> 4.226723e-01</td><td>-2.1078533   </td><td> 0.9391055   </td></tr>\n",
       "\t<tr><td>-5.957231e-01</td><td>-1.5198825   </td><td> 0.1075892   </td></tr>\n",
       "</tbody>\n",
       "</table>\n"
      ],
      "text/latex": [
       "\\begin{tabular}{r|lll}\n",
       " PC1 & PC2 & PC3\\\\\n",
       "\\hline\n",
       "\t  1.018395e+00 & -0.5879708    & -1.2103330   \\\\\n",
       "\t -5.957231e-01 & -1.5198825    &  0.1075892   \\\\\n",
       "\t -2.036791e+00 & -1.1759416    & -0.3788167   \\\\\n",
       "\t -8.326673e-17 &  1.1759416    &  1.2842159   \\\\\n",
       "\t  4.226723e-01 & -2.1078533    &  0.9391055   \\\\\n",
       "\t -5.957231e-01 & -1.5198825    &  0.1075892   \\\\\n",
       "\\end{tabular}\n"
      ],
      "text/markdown": [
       "\n",
       "| PC1 | PC2 | PC3 |\n",
       "|---|---|---|\n",
       "|  1.018395e+00 | -0.5879708    | -1.2103330    |\n",
       "| -5.957231e-01 | -1.5198825    |  0.1075892    |\n",
       "| -2.036791e+00 | -1.1759416    | -0.3788167    |\n",
       "| -8.326673e-17 |  1.1759416    |  1.2842159    |\n",
       "|  4.226723e-01 | -2.1078533    |  0.9391055    |\n",
       "| -5.957231e-01 | -1.5198825    |  0.1075892    |\n",
       "\n"
      ],
      "text/plain": [
       "  PC1           PC2        PC3       \n",
       "1  1.018395e+00 -0.5879708 -1.2103330\n",
       "2 -5.957231e-01 -1.5198825  0.1075892\n",
       "3 -2.036791e+00 -1.1759416 -0.3788167\n",
       "4 -8.326673e-17  1.1759416  1.2842159\n",
       "5  4.226723e-01 -2.1078533  0.9391055\n",
       "6 -5.957231e-01 -1.5198825  0.1075892"
      ]
     },
     "metadata": {},
     "output_type": "display_data"
    }
   ],
   "source": [
    "require(caret)\n",
    "temp = hayesroth\n",
    "temp = temp[,-1]\n",
    "transform = preProcess(temp[1:3],method=c(\"BoxCox\", \"center\", \n",
    "                            \"scale\", \"pca\"))\n",
    "PCA = predict(transform, temp[1:3])\n",
    "head(PCA)"
   ]
  },
  {
   "cell_type": "code",
   "execution_count": 21,
   "metadata": {
    "scrolled": false
   },
   "outputs": [
    {
     "data": {
      "image/png": "[encoded data removed]",
      "text/plain": [
       "plot without title"
      ]
     },
     "metadata": {},
     "output_type": "display_data"
    }
   ],
   "source": [
    "pairs(PCA, col=temp$Class)"
   ]
  },
  {
   "cell_type": "markdown",
   "metadata": {},
   "source": [
    "Como se puede ver, PCA no consigue separar los datos ni reduce en número de variables del problema, por lo que no utilizaremos esta transformación. Lo siguiente que vamos a hacer es comprobar si existe alguna correlación entre las variables."
   ]
  },
  {
   "cell_type": "code",
   "execution_count": 22,
   "metadata": {
    "scrolled": false
   },
   "outputs": [
    {
     "data": {
      "image/png": "[encoded data removed]",
      "text/plain": [
       "plot without title"
      ]
     },
     "metadata": {},
     "output_type": "display_data"
    }
   ],
   "source": [
    "pairs(hayesroth,col=hayesroth[,5])"
   ]
  },
  {
   "cell_type": "code",
   "execution_count": 23,
   "metadata": {},
   "outputs": [
    {
     "data": {
      "text/html": [
       "<table>\n",
       "<thead><tr><th></th><th scope=col>Hobby</th><th scope=col>Age</th><th scope=col>EducationalLevel</th><th scope=col>MaritalStatus</th><th scope=col>Class</th></tr></thead>\n",
       "<tbody>\n",
       "\t<tr><th scope=row>Hobby</th><td> 1.00000000</td><td>0.04251185 </td><td>-0.05374139</td><td>-0.05374139</td><td>0.0709883  </td></tr>\n",
       "\t<tr><th scope=row>Age</th><td> 0.04251185</td><td>1.00000000 </td><td> 0.01358113</td><td> 0.01358113</td><td>0.4141117  </td></tr>\n",
       "\t<tr><th scope=row>EducationalLevel</th><td>-0.05374139</td><td>0.01358113 </td><td> 1.00000000</td><td> 0.01358113</td><td>0.3961654  </td></tr>\n",
       "\t<tr><th scope=row>MaritalStatus</th><td>-0.05374139</td><td>0.01358113 </td><td> 0.01358113</td><td> 1.00000000</td><td>0.3782190  </td></tr>\n",
       "\t<tr><th scope=row>Class</th><td> 0.07098830</td><td>0.41411171 </td><td> 0.39616537</td><td> 0.37821903</td><td>1.0000000  </td></tr>\n",
       "</tbody>\n",
       "</table>\n"
      ],
      "text/latex": [
       "\\begin{tabular}{r|lllll}\n",
       "  & Hobby & Age & EducationalLevel & MaritalStatus & Class\\\\\n",
       "\\hline\n",
       "\tHobby &  1.00000000 & 0.04251185  & -0.05374139 & -0.05374139 & 0.0709883  \\\\\n",
       "\tAge &  0.04251185 & 1.00000000  &  0.01358113 &  0.01358113 & 0.4141117  \\\\\n",
       "\tEducationalLevel & -0.05374139 & 0.01358113  &  1.00000000 &  0.01358113 & 0.3961654  \\\\\n",
       "\tMaritalStatus & -0.05374139 & 0.01358113  &  0.01358113 &  1.00000000 & 0.3782190  \\\\\n",
       "\tClass &  0.07098830 & 0.41411171  &  0.39616537 &  0.37821903 & 1.0000000  \\\\\n",
       "\\end{tabular}\n"
      ],
      "text/markdown": [
       "\n",
       "| <!--/--> | Hobby | Age | EducationalLevel | MaritalStatus | Class |\n",
       "|---|---|---|---|---|---|\n",
       "| Hobby |  1.00000000 | 0.04251185  | -0.05374139 | -0.05374139 | 0.0709883   |\n",
       "| Age |  0.04251185 | 1.00000000  |  0.01358113 |  0.01358113 | 0.4141117   |\n",
       "| EducationalLevel | -0.05374139 | 0.01358113  |  1.00000000 |  0.01358113 | 0.3961654   |\n",
       "| MaritalStatus | -0.05374139 | 0.01358113  |  0.01358113 |  1.00000000 | 0.3782190   |\n",
       "| Class |  0.07098830 | 0.41411171  |  0.39616537 |  0.37821903 | 1.0000000   |\n",
       "\n"
      ],
      "text/plain": [
       "                 Hobby       Age        EducationalLevel MaritalStatus\n",
       "Hobby             1.00000000 0.04251185 -0.05374139      -0.05374139  \n",
       "Age               0.04251185 1.00000000  0.01358113       0.01358113  \n",
       "EducationalLevel -0.05374139 0.01358113  1.00000000       0.01358113  \n",
       "MaritalStatus    -0.05374139 0.01358113  0.01358113       1.00000000  \n",
       "Class             0.07098830 0.41411171  0.39616537       0.37821903  \n",
       "                 Class    \n",
       "Hobby            0.0709883\n",
       "Age              0.4141117\n",
       "EducationalLevel 0.3961654\n",
       "MaritalStatus    0.3782190\n",
       "Class            1.0000000"
      ]
     },
     "metadata": {},
     "output_type": "display_data"
    }
   ],
   "source": [
    "cor(hayesroth)"
   ]
  },
  {
   "cell_type": "markdown",
   "metadata": {},
   "source": [
    "Como podemos ver, no existen correlaciones entre las variables predictoras ni con la variable predictora, por ello no podemos crear variables nuevas a partir de estas ni eliminar ninguna."
   ]
  },
  {
   "cell_type": "markdown",
   "metadata": {},
   "source": [
    "## Creación de modelos de predicción\n",
    "En este apartado se crearán tres modelos diferentes para predecir la clase a la que pertenecen los datos y se realizará validación cruzada con el mejor modelo encontrado para cada algoritmo que utilizemos. Los algoritmos que se van a probar son *KNN*, *LDA* y *QDA*. Las variables que utilizaremmos con estos algoritmos serán *Age*, *MaritalStatus* y *EducationalLevel*."
   ]
  },
  {
   "cell_type": "markdown",
   "metadata": {},
   "source": [
    "### Creación de modelos con el algoritmo KNN\n",
    "En este apartado utilizaremos el algoritmo KNN para obtener un modelo, también probaremos con diferentes tamaños de k para ver cuales de estos se ajustan mejor al problema. Para ello, utilizaremos la librería *caret* que no permite especificar los diferentes tamaños de k que nos interesen."
   ]
  },
  {
   "cell_type": "code",
   "execution_count": 24,
   "metadata": {},
   "outputs": [],
   "source": [
    "# cargamos la librería.\n",
    "require(caret)"
   ]
  },
  {
   "cell_type": "code",
   "execution_count": 25,
   "metadata": {},
   "outputs": [],
   "source": [
    "# Para k utilizaremos los valores impares del 3 al 15, para evitar empates dentro de knn.\n",
    "ks = 3:15\n",
    "ks = ks[ks%%2 != 0]\n",
    "\n",
    "# Separamos las variables de entrada y las clases en dos variables distintas para poder utilizarlo con caret.\n",
    "hr.train = hayesroth[,c(\"Age\",\"EducationalLevel\",\"MaritalStatus\")]\n",
    "hr.labels.train = hayesroth[,\"Class\"]\n",
    "hr.labels.train = factor(hr.labels.train, levels=c(1,2,3))"
   ]
  },
  {
   "cell_type": "code",
   "execution_count": 26,
   "metadata": {},
   "outputs": [],
   "source": [
    "# Normalizamos los datos ya que estamos trabajando con knn, aunque al tener\n",
    "# la misma escala en todas las variables de entrada no es necesario.\n",
    "hr.train = as.data.frame(lapply(hr.train,\n",
    "                               scale, center = TRUE, scale = TRUE))"
   ]
  },
  {
   "cell_type": "code",
   "execution_count": 27,
   "metadata": {},
   "outputs": [
    {
     "data": {
      "text/plain": [
       "k-Nearest Neighbors \n",
       "\n",
       "160 samples\n",
       "  3 predictor\n",
       "  3 classes: '1', '2', '3' \n",
       "\n",
       "No pre-processing\n",
       "Resampling: Bootstrapped (25 reps) \n",
       "Summary of sample sizes: 160, 160, 160, 160, 160, 160, ... \n",
       "Resampling results across tuning parameters:\n",
       "\n",
       "  k   Accuracy   Kappa      \n",
       "   3  0.7490596   0.60210814\n",
       "   5  0.7297015   0.56865711\n",
       "   7  0.6980379   0.51838195\n",
       "   9  0.6077774   0.37436830\n",
       "  11  0.5077708   0.21683303\n",
       "  13  0.4278375   0.08812888\n",
       "  15  0.3447960  -0.04870711\n",
       "\n",
       "Accuracy was used to select the optimal model using the largest value.\n",
       "The final value used for the model was k = 3."
      ]
     },
     "metadata": {},
     "output_type": "display_data"
    }
   ],
   "source": [
    "# creamos nuestro modelo y obtenemos nuestro mejor k.\n",
    "knnModel <- train(hr.train,hr.labels.train,\n",
    "                  method=\"knn\", metric=\"Accuracy\",\n",
    "                  tuneGrid = data.frame(.k=ks))\n",
    "knnModel"
   ]
  },
  {
   "cell_type": "code",
   "execution_count": 28,
   "metadata": {},
   "outputs": [],
   "source": [
    "# dibujamos los resultados de cada k.\n",
    "resultados_k = knnModel$results[,c(\"k\",\"Accuracy\")]"
   ]
  },
  {
   "cell_type": "code",
   "execution_count": 29,
   "metadata": {},
   "outputs": [],
   "source": [
    "# cargamos la librería ggplot\n",
    "require(ggplot2)"
   ]
  },
  {
   "cell_type": "code",
   "execution_count": 30,
   "metadata": {},
   "outputs": [
    {
     "data": {},
     "metadata": {},
     "output_type": "display_data"
    },
    {
     "data": {
      "image/png": "[encoded data removed]",
      "text/plain": [
       "plot without title"
      ]
     },
     "metadata": {},
     "output_type": "display_data"
    }
   ],
   "source": [
    "ggplot(resultados_k, aes(x=k, y=Accuracy)) + geom_point(col=\"deepskyblue\") +\n",
    "    geom_line() + scale_x_continuous(breaks=resultados_k$k)"
   ]
  },
  {
   "cell_type": "markdown",
   "metadata": {},
   "source": [
    "Como se puede ver en la gráfica, el mejor resultado se obtiene para *k* igual a 3, nos quedaremos con este modelo para hacer validación cruzada (ya que caret crea el modelo final con el k que mejores valores a obtenido)."
   ]
  },
  {
   "cell_type": "code",
   "execution_count": 31,
   "metadata": {},
   "outputs": [
    {
     "data": {
      "text/plain": [
       "k-Nearest Neighbors \n",
       "\n",
       "160 samples\n",
       "  3 predictor\n",
       "  3 classes: '1', '2', '3' \n",
       "\n",
       "No pre-processing\n",
       "Resampling: Bootstrapped (25 reps) \n",
       "Summary of sample sizes: 160, 160, 160, 160, 160, 160, ... \n",
       "Resampling results:\n",
       "\n",
       "  Accuracy   Kappa    \n",
       "  0.7623892  0.6180869\n",
       "\n",
       "Tuning parameter 'k' was held constant at a value of 3"
      ]
     },
     "metadata": {},
     "output_type": "display_data"
    }
   ],
   "source": [
    "knnModel <- train(hr.train,hr.labels.train,\n",
    "                  method=\"knn\", metric=\"Accuracy\",\n",
    "                  tuneGrid = data.frame(.k=3))\n",
    "knnModel\n",
    "\n",
    "knnPred = predict(knnModel,newdata=hr.train) \n",
    "acc=postResample(pred = knnPred, obs = hr.labels.train)[1]"
   ]
  },
  {
   "cell_type": "code",
   "execution_count": 32,
   "metadata": {},
   "outputs": [
    {
     "name": "stdout",
     "output_type": "stream",
     "text": [
      "[1] 0.1395833\n",
      "[1] 0.2375\n"
     ]
    }
   ],
   "source": [
    "nombre <- \"hayes-roth/hayes-roth\"\n",
    "\n",
    "run_knn_fold <- function(i, x, tt = \"test\") {\n",
    "    file <- paste(x, \"-10-\", i, \"tra.dat\", sep=\"\")\n",
    "    x_tra <- read.csv(file, comment.char=\"@\", header=FALSE)\n",
    "    file <- paste(x, \"-10-\", i, \"tst.dat\", sep=\"\")\n",
    "    x_tst <- read.csv(file, comment.char=\"@\", header=FALSE)\n",
    "    In <- length(names(x_tra)) - 1\n",
    "    names(x_tra)[1:In] <- paste (\"X\", 1:In, sep=\"\")\n",
    "    names(x_tra)[In+1] <- \"Y\"\n",
    "    names(x_tst)[1:In] <- paste (\"X\", 1:In, sep=\"\")\n",
    "    names(x_tst)[In+1] <- \"Y\"\n",
    "    if (tt == \"train\") {\n",
    "        test <- x_tra\n",
    "    }\n",
    "    else {\n",
    "        test <- x_tst\n",
    "    }\n",
    "    \n",
    "    hr.train = x_tra[,c(\"X2\",\"X3\",\"X4\")]\n",
    "    hr.labels.train = x_tra[,\"Y\"]\n",
    "    hr.labels.train = factor(hr.labels.train, levels=c(1,2,3))\n",
    "    fitMulti=train(hr.train,hr.labels.train,\n",
    "                  method=\"knn\", metric=\"Accuracy\",\n",
    "                  tuneGrid = data.frame(.k=3))\n",
    "    \n",
    "    labels = factor(test[,\"Y\"],levels=c(1,2,3))\n",
    "    yprime=predict(fitMulti,newdata=test[,c(\"X2\",\"X3\",\"X4\")])\n",
    "    err = 1-postResample(pred = yprime, obs = labels)[1]\n",
    "    \n",
    "}\n",
    "knnMSEtrain.all<-mean(sapply(1:10,run_knn_fold,nombre,\"train\"))\n",
    "knnMSEtest.all<-mean(sapply(1:10,run_knn_fold,nombre,\"test\"))\n",
    "print(knnMSEtrain.all)\n",
    "print(knnMSEtest.all)"
   ]
  },
  {
   "cell_type": "markdown",
   "metadata": {},
   "source": [
    "Como se puede ver por los resultdos obtenidos, el algoritmo de knn tiene sobreaprendizaje."
   ]
  },
  {
   "cell_type": "markdown",
   "metadata": {},
   "source": [
    "### Modelos con el algoritmo LDA\n",
    "En este apartado utilizaremos el algoritmo LDA para crear un modelo que prediga la clase a que pertenece cada dato. Antes de crear los modelos con LDA, comprobaremos si las variables tienen una varianza igual y tienen una ditribución normal; al igual que pare el algoritmo KNN, solamente utilizaremos las variables *Age*, *EducationalLevel* y *MaritalStatus*."
   ]
  },
  {
   "cell_type": "code",
   "execution_count": 33,
   "metadata": {},
   "outputs": [],
   "source": [
    "# Separamos las variables de entrada y las clases en dos variables distintas para poder utilizarlo con caret.\n",
    "hr.train = hayesroth[,c(\"Age\",\"EducationalLevel\",\"MaritalStatus\")]\n",
    "hr.labels.train = hayesroth[,\"Class\"]\n",
    "hr.labels.train = factor(hr.labels.train, levels=c(1,2,3))\n",
    "\n",
    "# Normalizamos los datos.\n",
    "hr.train = as.data.frame(lapply(hr.train,\n",
    "                               scale, center = TRUE, scale = TRUE))"
   ]
  },
  {
   "cell_type": "code",
   "execution_count": 34,
   "metadata": {},
   "outputs": [
    {
     "name": "stderr",
     "output_type": "stream",
     "text": [
      "Loading required package: MASS\n"
     ]
    }
   ],
   "source": [
    "# Cargamos la librería necesaria para comprobar si las distribuciones son normales.\n",
    "require(MASS) # lda y qda."
   ]
  },
  {
   "cell_type": "code",
   "execution_count": 35,
   "metadata": {},
   "outputs": [
    {
     "data": {
      "text/plain": [
       "\n",
       "\tShapiro-Wilk normality test\n",
       "\n",
       "data:  hr.train$Age\n",
       "W = 0.8329, p-value = 3.074e-12\n"
      ]
     },
     "metadata": {},
     "output_type": "display_data"
    },
    {
     "data": {
      "text/plain": [
       "\n",
       "\tShapiro-Wilk normality test\n",
       "\n",
       "data:  hr.train$EducationalLevel\n",
       "W = 0.8329, p-value = 3.074e-12\n"
      ]
     },
     "metadata": {},
     "output_type": "display_data"
    },
    {
     "data": {
      "text/plain": [
       "\n",
       "\tShapiro-Wilk normality test\n",
       "\n",
       "data:  hr.train$MaritalStatus\n",
       "W = 0.8329, p-value = 3.074e-12\n"
      ]
     },
     "metadata": {},
     "output_type": "display_data"
    },
    {
     "data": {
      "text/html": [
       "1"
      ],
      "text/latex": [
       "1"
      ],
      "text/markdown": [
       "1"
      ],
      "text/plain": [
       "[1] 1"
      ]
     },
     "metadata": {},
     "output_type": "display_data"
    },
    {
     "data": {
      "text/html": [
       "1"
      ],
      "text/latex": [
       "1"
      ],
      "text/markdown": [
       "1"
      ],
      "text/plain": [
       "[1] 1"
      ]
     },
     "metadata": {},
     "output_type": "display_data"
    },
    {
     "data": {
      "text/html": [
       "1"
      ],
      "text/latex": [
       "1"
      ],
      "text/markdown": [
       "1"
      ],
      "text/plain": [
       "[1] 1"
      ]
     },
     "metadata": {},
     "output_type": "display_data"
    }
   ],
   "source": [
    "# Comprobamos si tienen una distribución normal y misma varianza.\n",
    "shapiro.test(hr.train$Age)\n",
    "shapiro.test(hr.train$EducationalLevel)\n",
    "shapiro.test(hr.train$MaritalStatus)\n",
    "\n",
    "var(hr.train$Age)\n",
    "var(hr.train$EducationalLevel)\n",
    "var(hr.train$MaritalStatus)"
   ]
  },
  {
   "cell_type": "markdown",
   "metadata": {},
   "source": [
    "Como se puede ver según los resultados de los test de Shapiro-Wilk, ninguna de las variables predictoras tiene una distribución normal, esto hará que el algoritmo LDA no funcione correctamente. Las varianzas de las variables es 1 para todas (esto ocurre porque los datos están normalizados)."
   ]
  },
  {
   "cell_type": "code",
   "execution_count": 36,
   "metadata": {
    "scrolled": false
   },
   "outputs": [
    {
     "data": {
      "text/plain": [
       "Call:\n",
       "lda(Class ~ Age + EducationalLevel + MaritalStatus, data = temp)\n",
       "\n",
       "Prior probabilities of groups:\n",
       "      1       2       3 \n",
       "0.40625 0.40000 0.19375 \n",
       "\n",
       "Group means:\n",
       "         Age EducationalLevel MaritalStatus\n",
       "1 -0.3669775      -0.33417501   -0.30137255\n",
       "2 -0.0233205      -0.05663549   -0.08995048\n",
       "3  0.8176144       0.81761441    0.81761441\n",
       "\n",
       "Coefficients of linear discriminants:\n",
       "                      LD1         LD2\n",
       "Age              0.833050 -0.69799777\n",
       "EducationalLevel 0.815173  0.00993965\n",
       "MaritalStatus    0.797296  0.71787707\n",
       "\n",
       "Proportion of trace:\n",
       "   LD1    LD2 \n",
       "0.9985 0.0015 "
      ]
     },
     "metadata": {},
     "output_type": "display_data"
    }
   ],
   "source": [
    "# Ejecutamos el algoritmo LDA.\n",
    "temp = hr.train\n",
    "temp$Class = hr.labels.train\n",
    "lda.fit = lda(Class~Age+EducationalLevel+MaritalStatus,\n",
    "             data=temp)\n",
    "lda.fit"
   ]
  },
  {
   "cell_type": "code",
   "execution_count": 37,
   "metadata": {
    "scrolled": false
   },
   "outputs": [
    {
     "name": "stderr",
     "output_type": "stream",
     "text": [
      "Loading required package: klaR\n",
      "Warning message:\n",
      "\"package 'klaR' was built under R version 3.5.2\""
     ]
    },
    {
     "data": {
      "image/png": "[encoded data removed]",
      "text/plain": [
       "plot without title"
      ]
     },
     "metadata": {},
     "output_type": "display_data"
    },
    {
     "data": {
      "image/png": "[encoded data removed]",
      "text/plain": [
       "Plot with title \"Partition Plot\""
      ]
     },
     "metadata": {},
     "output_type": "display_data"
    }
   ],
   "source": [
    "require(klaR)\n",
    "partimat(Class~Age+EducationalLevel+MaritalStatus,\n",
    "             data=temp, method=\"lda\")"
   ]
  },
  {
   "cell_type": "code",
   "execution_count": 38,
   "metadata": {},
   "outputs": [
    {
     "data": {
      "text/html": [
       "0.45625"
      ],
      "text/latex": [
       "0.45625"
      ],
      "text/markdown": [
       "0.45625"
      ],
      "text/plain": [
       "[1] 0.45625"
      ]
     },
     "metadata": {},
     "output_type": "display_data"
    }
   ],
   "source": [
    "# Calculamos el error de LDA.\n",
    "lda.pred = predict(lda.fit, temp[,-4])\n",
    "mean(lda.pred$class!=temp$Class)"
   ]
  },
  {
   "cell_type": "code",
   "execution_count": 39,
   "metadata": {},
   "outputs": [
    {
     "name": "stdout",
     "output_type": "stream",
     "text": [
      "[1] 0.4583333\n",
      "[1] 0.4625\n"
     ]
    }
   ],
   "source": [
    "# Validación cruzada para LDA.\n",
    "nombre <- \"hayes-roth/hayes-roth\"\n",
    "\n",
    "run_knn_fold <- function(i, x, tt = \"test\") {\n",
    "    file <- paste(x, \"-10-\", i, \"tra.dat\", sep=\"\")\n",
    "    x_tra <- read.csv(file, comment.char=\"@\", header=FALSE)\n",
    "    file <- paste(x, \"-10-\", i, \"tst.dat\", sep=\"\")\n",
    "    x_tst <- read.csv(file, comment.char=\"@\", header=FALSE)\n",
    "    In <- length(names(x_tra)) - 1\n",
    "    names(x_tra)[1:In] <- paste (\"X\", 1:In, sep=\"\")\n",
    "    names(x_tra)[In+1] <- \"Y\"\n",
    "    names(x_tst)[1:In] <- paste (\"X\", 1:In, sep=\"\")\n",
    "    names(x_tst)[In+1] <- \"Y\"\n",
    "    if (tt == \"train\") {\n",
    "        test <- x_tra\n",
    "    }\n",
    "    else {\n",
    "        test <- x_tst\n",
    "    }\n",
    "    \n",
    "    hr.train = x_tra[,c(\"X2\",\"X3\",\"X4\")]\n",
    "    hr.labels.train = x_tra[,\"Y\"]\n",
    "    hr.labels.train = factor(hr.labels.train, levels=c(1,2,3))\n",
    "    hr.train$Y = hr.labels.train\n",
    "    fitMulti=lda(Y~X2+X3+X4, data=hr.train)\n",
    "    labels = factor(test[,\"Y\"],levels=c(1,2,3))\n",
    "    yprime=predict(fitMulti,test[,c(\"X2\",\"X3\",\"X4\")])\n",
    "    err = mean(yprime$class!=labels)\n",
    "    \n",
    "}\n",
    "ldaERRtrain.all<-mean(sapply(1:10,run_knn_fold,nombre,\"train\"))\n",
    "ldaERRtest.all<-mean(sapply(1:10,run_knn_fold,nombre,\"test\"))\n",
    "print(ldaERRtrain.all)\n",
    "print(ldaERRtest.all)"
   ]
  },
  {
   "cell_type": "markdown",
   "metadata": {},
   "source": [
    "Como se puede ver, el algoritmo LDA no tiene sobreaprendizaje, pero sí que obtiene peores resultados que el algoritmo KNN."
   ]
  },
  {
   "cell_type": "markdown",
   "metadata": {},
   "source": [
    "### Modelos con algoritmo QDA\n",
    "En este apartado utilizaremos el algoritmo QDA para predecir las clases, para ello utilizaremos comprobaremos sí los datos cumplen las características necesarias para que QDA funcione correctamente. Tras esto, crearemos un modelo con las variables *Age*, *MaritalStatus* y *EducationalLevel*  y realizaremos validación cruzada."
   ]
  },
  {
   "cell_type": "code",
   "execution_count": 40,
   "metadata": {},
   "outputs": [
    {
     "name": "stdout",
     "output_type": "stream",
     "text": [
      "Varianzas para Age:\n"
     ]
    },
    {
     "data": {
      "text/html": [
       "0.695029416616264"
      ],
      "text/latex": [
       "0.695029416616264"
      ],
      "text/markdown": [
       "0.695029416616264"
      ],
      "text/plain": [
       "[1] 0.6950294"
      ]
     },
     "metadata": {},
     "output_type": "display_data"
    },
    {
     "data": {
      "text/html": [
       "0.520625914769053"
      ],
      "text/latex": [
       "0.520625914769053"
      ],
      "text/markdown": [
       "0.520625914769053"
      ],
      "text/plain": [
       "[1] 0.5206259"
      ]
     },
     "metadata": {},
     "output_type": "display_data"
    },
    {
     "data": {
      "text/html": [
       "1.74022919596947"
      ],
      "text/latex": [
       "1.74022919596947"
      ],
      "text/markdown": [
       "1.74022919596947"
      ],
      "text/plain": [
       "[1] 1.740229"
      ]
     },
     "metadata": {},
     "output_type": "display_data"
    },
    {
     "name": "stdout",
     "output_type": "stream",
     "text": [
      "Varianzas para EducationalLevel:\n"
     ]
    },
    {
     "data": {
      "text/html": [
       "0.720164128223456"
      ],
      "text/latex": [
       "0.720164128223456"
      ],
      "text/markdown": [
       "0.720164128223456"
      ],
      "text/plain": [
       "[1] 0.7201641"
      ]
     },
     "metadata": {},
     "output_type": "display_data"
    },
    {
     "data": {
      "text/html": [
       "0.516115890602131"
      ],
      "text/latex": [
       "0.516115890602131"
      ],
      "text/markdown": [
       "0.516115890602131"
      ],
      "text/plain": [
       "[1] 0.5161159"
      ]
     },
     "metadata": {},
     "output_type": "display_data"
    },
    {
     "data": {
      "text/html": [
       "1.74022919596947"
      ],
      "text/latex": [
       "1.74022919596947"
      ],
      "text/markdown": [
       "1.74022919596947"
      ],
      "text/plain": [
       "[1] 1.740229"
      ]
     },
     "metadata": {},
     "output_type": "display_data"
    },
    {
     "name": "stdout",
     "output_type": "stream",
     "text": [
      "Varianzas para MaritalStatus:\n"
     ]
    },
    {
     "data": {
      "text/html": [
       "0.743113212734371"
      ],
      "text/latex": [
       "0.743113212734371"
      ],
      "text/markdown": [
       "0.743113212734371"
      ],
      "text/plain": [
       "[1] 0.7431132"
      ]
     },
     "metadata": {},
     "output_type": "display_data"
    },
    {
     "data": {
      "text/html": [
       "0.509350854351748"
      ],
      "text/latex": [
       "0.509350854351748"
      ],
      "text/markdown": [
       "0.509350854351748"
      ],
      "text/plain": [
       "[1] 0.5093509"
      ]
     },
     "metadata": {},
     "output_type": "display_data"
    },
    {
     "data": {
      "text/html": [
       "1.74022919596947"
      ],
      "text/latex": [
       "1.74022919596947"
      ],
      "text/markdown": [
       "1.74022919596947"
      ],
      "text/plain": [
       "[1] 1.740229"
      ]
     },
     "metadata": {},
     "output_type": "display_data"
    }
   ],
   "source": [
    "# Comprobamos que las varianzas de los predictores para las diferentes clases\n",
    "# son diferentes.\n",
    "cat(\"Varianzas para Age:\\n\")\n",
    "var(temp[temp$Class==1,]$Age)\n",
    "var(temp[temp$Class==2,]$Age)\n",
    "var(temp[temp$Class==3,]$Age)\n",
    "cat(\"Varianzas para EducationalLevel:\\n\")\n",
    "var(temp[temp$Class==1,]$EducationalLevel)\n",
    "var(temp[temp$Class==2,]$EducationalLevel)\n",
    "var(temp[temp$Class==3,]$EducationalLevel)\n",
    "cat(\"Varianzas para MaritalStatus:\\n\")\n",
    "var(temp[temp$Class==1,]$MaritalStatus)\n",
    "var(temp[temp$Class==2,]$MaritalStatus)\n",
    "var(temp[temp$Class==3,]$MaritalStatus)"
   ]
  },
  {
   "cell_type": "markdown",
   "metadata": {},
   "source": [
    "Como todas las varianzas son diferentes, en principio QDA debería de funcionar mejor que LDA. Lo siguiente que haremos será crear un modelo y ver los resultados que obtiene."
   ]
  },
  {
   "cell_type": "code",
   "execution_count": 41,
   "metadata": {},
   "outputs": [
    {
     "data": {
      "text/plain": [
       "Call:\n",
       "qda(Class ~ Age + EducationalLevel + MaritalStatus, data = temp)\n",
       "\n",
       "Prior probabilities of groups:\n",
       "      1       2       3 \n",
       "0.40625 0.40000 0.19375 \n",
       "\n",
       "Group means:\n",
       "         Age EducationalLevel MaritalStatus\n",
       "1 -0.3669775      -0.33417501   -0.30137255\n",
       "2 -0.0233205      -0.05663549   -0.08995048\n",
       "3  0.8176144       0.81761441    0.81761441"
      ]
     },
     "metadata": {},
     "output_type": "display_data"
    }
   ],
   "source": [
    "# creamos el modelo con QDA.\n",
    "qda.fit = qda(Class~Age+EducationalLevel+MaritalStatus,\n",
    "             data=temp)\n",
    "qda.fit"
   ]
  },
  {
   "cell_type": "code",
   "execution_count": 42,
   "metadata": {},
   "outputs": [
    {
     "data": {
      "image/png": "[encoded data removed]",
      "text/plain": [
       "plot without title"
      ]
     },
     "metadata": {},
     "output_type": "display_data"
    },
    {
     "data": {
      "image/png": "[encoded data removed]",
      "text/plain": [
       "Plot with title \"Partition Plot\""
      ]
     },
     "metadata": {},
     "output_type": "display_data"
    }
   ],
   "source": [
    "# dibujamos los resultados obtenidos por QDA.\n",
    "partimat(Class~Age+EducationalLevel+MaritalStatus,\n",
    "             data=temp, method=\"qda\")"
   ]
  },
  {
   "cell_type": "code",
   "execution_count": 43,
   "metadata": {},
   "outputs": [
    {
     "data": {
      "text/html": [
       "0.275"
      ],
      "text/latex": [
       "0.275"
      ],
      "text/markdown": [
       "0.275"
      ],
      "text/plain": [
       "[1] 0.275"
      ]
     },
     "metadata": {},
     "output_type": "display_data"
    }
   ],
   "source": [
    "# Calculamos el error para qda.\n",
    "qda.pred = predict(qda.fit, temp[,-4])\n",
    "mean(qda.pred$class!=temp$Class)"
   ]
  },
  {
   "cell_type": "code",
   "execution_count": 44,
   "metadata": {},
   "outputs": [
    {
     "name": "stdout",
     "output_type": "stream",
     "text": [
      "[1] 0.2590278\n",
      "[1] 0.35\n"
     ]
    }
   ],
   "source": [
    "# Realizamos validación cruzada para QDA\n",
    "nombre <- \"hayes-roth/hayes-roth\"\n",
    "\n",
    "run_knn_fold <- function(i, x, tt = \"test\") {\n",
    "    file <- paste(x, \"-10-\", i, \"tra.dat\", sep=\"\")\n",
    "    x_tra <- read.csv(file, comment.char=\"@\", header=FALSE)\n",
    "    file <- paste(x, \"-10-\", i, \"tst.dat\", sep=\"\")\n",
    "    x_tst <- read.csv(file, comment.char=\"@\", header=FALSE)\n",
    "    In <- length(names(x_tra)) - 1\n",
    "    names(x_tra)[1:In] <- paste (\"X\", 1:In, sep=\"\")\n",
    "    names(x_tra)[In+1] <- \"Y\"\n",
    "    names(x_tst)[1:In] <- paste (\"X\", 1:In, sep=\"\")\n",
    "    names(x_tst)[In+1] <- \"Y\"\n",
    "    if (tt == \"train\") {\n",
    "        test <- x_tra\n",
    "    }\n",
    "    else {\n",
    "        test <- x_tst\n",
    "    }\n",
    "    \n",
    "    hr.train = x_tra[,c(\"X2\",\"X3\",\"X4\")]\n",
    "    hr.labels.train = x_tra[,\"Y\"]\n",
    "    hr.labels.train = factor(hr.labels.train, levels=c(1,2,3))\n",
    "    hr.train$Y = hr.labels.train\n",
    "    fitMulti=qda(Y~X2+X3+X4, data=hr.train)\n",
    "    labels = factor(test[,\"Y\"],levels=c(1,2,3))\n",
    "    yprime=predict(fitMulti,test[,c(\"X2\",\"X3\",\"X4\")])\n",
    "    err = mean(yprime$class!=labels)\n",
    "    \n",
    "}\n",
    "qdaERRtrain.all<-mean(sapply(1:10,run_knn_fold,nombre,\"train\"))\n",
    "qdaERRtest.all<-mean(sapply(1:10,run_knn_fold,nombre,\"test\"))\n",
    "print(qdaERRtrain.all)\n",
    "print(qdaERRtest.all)"
   ]
  },
  {
   "cell_type": "markdown",
   "metadata": {},
   "source": [
    "Como se puede ver, QDA obtiene mejores resultados que LDA, pero tiene sobreaprendizaje. Por ahora, el mejor modelo que hemos obtenido es el generado por KNN, ya que obtiene un entre 22-26 por ciento de error, lo cual mejora en un 10% a QDA y un 20% a LDA."
   ]
  },
  {
   "cell_type": "markdown",
   "metadata": {},
   "source": [
    "### Modelos con árboles de decisión\n",
    "Este apartado es adicional y se ha hecho ya que parece que el dataset puede predecirse mejor con un árbol de decisión, ya que existen muy pocas diferencias entre los datos de cada clase y cada variable (pueden verse los scatterplots divididos por clase en el apartado de análisis exploratorio)."
   ]
  },
  {
   "cell_type": "code",
   "execution_count": 45,
   "metadata": {},
   "outputs": [
    {
     "name": "stderr",
     "output_type": "stream",
     "text": [
      "Loading required package: tree\n"
     ]
    },
    {
     "data": {
      "text/plain": [
       "\n",
       "Classification tree:\n",
       "tree(formula = Class ~ Age + EducationalLevel + MaritalStatus, \n",
       "    data = temp, subset = train)\n",
       "Number of terminal nodes:  12 \n",
       "Residual mean deviance:  0.6289 = 72.95 / 116 \n",
       "Misclassification error rate: 0.1484 = 19 / 128 "
      ]
     },
     "metadata": {},
     "output_type": "display_data"
    },
    {
     "data": {
      "text/plain": [
       "         \n",
       "tree.pred  1  2  3\n",
       "        1 12  0  2\n",
       "        2  4  9  2\n",
       "        3  0  0  3"
      ]
     },
     "metadata": {},
     "output_type": "display_data"
    },
    {
     "data": {
      "text/html": [
       "0.25"
      ],
      "text/latex": [
       "0.25"
      ],
      "text/markdown": [
       "0.25"
      ],
      "text/plain": [
       "[1] 0.25"
      ]
     },
     "metadata": {},
     "output_type": "display_data"
    }
   ],
   "source": [
    "# cargamos la librería que contiene los árboles de decisión.\n",
    "require(tree)\n",
    "\n",
    "temp=hayesroth\n",
    "temp$Class = factor(temp$Class,levels=c(1,2,3))\n",
    "\n",
    "set.seed (2)\n",
    "train=sample (1:nrow(temp), round(nrow(temp)*0.8) )\n",
    "hayes.test=temp[-train ,]\n",
    "\n",
    "# Construyo el arbol sobre el conjunto de entrenamiento\n",
    "tree.hayes =tree(Class~Age+EducationalLevel+MaritalStatus ,\n",
    "                temp ,subset =train )\n",
    "\n",
    "summary(tree.hayes)\n",
    "\n",
    "# Aplico el arbol sobre el conjunto de test\n",
    "tree.pred =predict (tree.hayes,hayes.test,type =\"class\")\n",
    "\n",
    "# Visualizo la matriz de confusion\n",
    "table(tree.pred , hayes.test[,\"Class\"])\n",
    "mean(tree.pred!=hayes.test$Class)"
   ]
  },
  {
   "cell_type": "code",
   "execution_count": 46,
   "metadata": {},
   "outputs": [
    {
     "data": {
      "image/png": "[encoded data removed]",
      "text/plain": [
       "plot without title"
      ]
     },
     "metadata": {},
     "output_type": "display_data"
    }
   ],
   "source": [
    "# Dibujamos el árbol.\n",
    "plot(tree.hayes)\n",
    "text(tree.hayes, pretty=0)"
   ]
  },
  {
   "cell_type": "code",
   "execution_count": 47,
   "metadata": {},
   "outputs": [
    {
     "name": "stdout",
     "output_type": "stream",
     "text": [
      "[1] 0.1125\n",
      "[1] 0.175\n"
     ]
    }
   ],
   "source": [
    "# Validación cruzada para el árbol de decisión.\n",
    "nombre <- \"hayes-roth/hayes-roth\"\n",
    "\n",
    "run_knn_fold <- function(i, x, tt = \"test\") {\n",
    "    file <- paste(x, \"-10-\", i, \"tra.dat\", sep=\"\")\n",
    "    x_tra <- read.csv(file, comment.char=\"@\", header=FALSE)\n",
    "    file <- paste(x, \"-10-\", i, \"tst.dat\", sep=\"\")\n",
    "    x_tst <- read.csv(file, comment.char=\"@\", header=FALSE)\n",
    "    In <- length(names(x_tra)) - 1\n",
    "    names(x_tra)[1:In] <- paste (\"X\", 1:In, sep=\"\")\n",
    "    names(x_tra)[In+1] <- \"Y\"\n",
    "    names(x_tst)[1:In] <- paste (\"X\", 1:In, sep=\"\")\n",
    "    names(x_tst)[In+1] <- \"Y\"\n",
    "    if (tt == \"train\") {\n",
    "        test <- x_tra\n",
    "    }\n",
    "    else {\n",
    "        test <- x_tst\n",
    "    }\n",
    "    \n",
    "    hr.train = x_tra[,c(\"X2\",\"X3\",\"X4\")]\n",
    "    hr.labels.train = x_tra[,\"Y\"]\n",
    "    hr.labels.train = factor(hr.labels.train, levels=c(1,2,3))\n",
    "    hr.train$Y = hr.labels.train\n",
    "    fitMulti=tree(Y~X2+X3+X4, data=hr.train)\n",
    "    labels = factor(test[,\"Y\"],levels=c(1,2,3))\n",
    "    yprime=predict(fitMulti,test, type=\"class\")\n",
    "    err = mean(yprime!=labels)\n",
    "    \n",
    "}\n",
    "treeERRtrain.all<-mean(sapply(1:10,run_knn_fold,nombre,\"train\"))\n",
    "treeERRtest.all<-mean(sapply(1:10,run_knn_fold,nombre,\"test\"))\n",
    "print(treeERRtrain.all)\n",
    "print(treeERRtest.all)"
   ]
  },
  {
   "cell_type": "markdown",
   "metadata": {},
   "source": [
    "Como se puede ver, el modelo con árboles de decisión cuenta también con cierto sobreaprendizaje, pero es el que mejores resultados obtiene de todos. Aún así no lo utilizaremos para compararlo con el resto de algoritmos ya que no se pide en la práctica."
   ]
  },
  {
   "cell_type": "markdown",
   "metadata": {},
   "source": [
    "## Comparación de los algoritmos\n",
    "En este apartado se compararán los algoritmos que se han creado en la práctica. Para ello, utilizaremos los datos que vienen en el archivo *clasif_test_alumnos.csv* y sustituiremos los valores obtenidos en la tabla, tras esto, utilizaremos el test de Friedman y el test de Holm para encontrar diferencias."
   ]
  },
  {
   "cell_type": "markdown",
   "metadata": {},
   "source": [
    "### Comparación de los algoritmos de test\n",
    "En este apartado se compararán los algoritmos de test y se comentarán los resultados. Además, se calculará el acierto de los modelos utilizando todas las variables, ya que los modelos anteriores no utilizan la variable *Hobby* para evitar ruido."
   ]
  },
  {
   "cell_type": "code",
   "execution_count": 48,
   "metadata": {
    "scrolled": false
   },
   "outputs": [
    {
     "name": "stdout",
     "output_type": "stream",
     "text": [
      "[1] 0.8270833\n",
      "[1] 0.625\n"
     ]
    }
   ],
   "source": [
    "nombre <- \"hayes-roth/hayes-roth\"\n",
    "\n",
    "run_knn_fold <- function(i, x, tt = \"test\") {\n",
    "    file <- paste(x, \"-10-\", i, \"tra.dat\", sep=\"\")\n",
    "    x_tra <- read.csv(file, comment.char=\"@\", header=FALSE)\n",
    "    file <- paste(x, \"-10-\", i, \"tst.dat\", sep=\"\")\n",
    "    x_tst <- read.csv(file, comment.char=\"@\", header=FALSE)\n",
    "    In <- length(names(x_tra)) - 1\n",
    "    names(x_tra)[1:In] <- paste (\"X\", 1:In, sep=\"\")\n",
    "    names(x_tra)[In+1] <- \"Y\"\n",
    "    names(x_tst)[1:In] <- paste (\"X\", 1:In, sep=\"\")\n",
    "    names(x_tst)[In+1] <- \"Y\"\n",
    "    if (tt == \"train\") {\n",
    "        test <- x_tra\n",
    "    }\n",
    "    else {\n",
    "        test <- x_tst\n",
    "    }\n",
    "    \n",
    "    hr.train = x_tra[,c(\"X1\",\"X2\",\"X3\",\"X4\")]\n",
    "    hr.labels.train = x_tra[,\"Y\"]\n",
    "    hr.labels.train = factor(hr.labels.train, levels=c(1,2,3))\n",
    "    fitMulti=train(hr.train,hr.labels.train,\n",
    "                  method=\"knn\", metric=\"Accuracy\",\n",
    "                  tuneGrid = data.frame(.k=3))\n",
    "    \n",
    "    labels = factor(test[,\"Y\"],levels=c(1,2,3))\n",
    "    yprime=predict(fitMulti,newdata=test[,c(\"X1\",\"X2\",\"X3\",\"X4\")])\n",
    "    err = postResample(pred = yprime, obs = labels)[1]\n",
    "    \n",
    "}\n",
    "knnACCtrain.all<-mean(sapply(1:10,run_knn_fold,nombre,\"train\"))\n",
    "knnACCtest.all<-mean(sapply(1:10,run_knn_fold,nombre,\"test\"))\n",
    "print(knnACCtrain.all)\n",
    "print(knnACCtest.all)"
   ]
  },
  {
   "cell_type": "code",
   "execution_count": 49,
   "metadata": {},
   "outputs": [
    {
     "name": "stdout",
     "output_type": "stream",
     "text": [
      "[1] 0.5416667\n",
      "[1] 0.5375\n"
     ]
    }
   ],
   "source": [
    "nombre <- \"hayes-roth/hayes-roth\"\n",
    "\n",
    "run_knn_fold <- function(i, x, tt = \"test\") {\n",
    "    file <- paste(x, \"-10-\", i, \"tra.dat\", sep=\"\")\n",
    "    x_tra <- read.csv(file, comment.char=\"@\", header=FALSE)\n",
    "    file <- paste(x, \"-10-\", i, \"tst.dat\", sep=\"\")\n",
    "    x_tst <- read.csv(file, comment.char=\"@\", header=FALSE)\n",
    "    In <- length(names(x_tra)) - 1\n",
    "    names(x_tra)[1:In] <- paste (\"X\", 1:In, sep=\"\")\n",
    "    names(x_tra)[In+1] <- \"Y\"\n",
    "    names(x_tst)[1:In] <- paste (\"X\", 1:In, sep=\"\")\n",
    "    names(x_tst)[In+1] <- \"Y\"\n",
    "    if (tt == \"train\") {\n",
    "        test <- x_tra\n",
    "    }\n",
    "    else {\n",
    "        test <- x_tst\n",
    "    }\n",
    "    \n",
    "    hr.train = x_tra[,c(\"X1\",\"X2\",\"X3\",\"X4\")]\n",
    "    hr.labels.train = x_tra[,\"Y\"]\n",
    "    hr.labels.train = factor(hr.labels.train, levels=c(1,2,3))\n",
    "    hr.train$Y = hr.labels.train\n",
    "    fitMulti=lda(Y~X2+X3+X4, data=hr.train)\n",
    "    labels = factor(test[,\"Y\"],levels=c(1,2,3))\n",
    "    yprime=predict(fitMulti,test[,c(\"X1\",\"X2\",\"X3\",\"X4\")])\n",
    "    err = mean(yprime$class==labels)\n",
    "    \n",
    "}\n",
    "ldaACCtrain.all<-mean(sapply(1:10,run_knn_fold,nombre,\"train\"))\n",
    "ldaACCtest.all<-mean(sapply(1:10,run_knn_fold,nombre,\"test\"))\n",
    "print(ldaACCtrain.all)\n",
    "print(ldaACCtest.all)"
   ]
  },
  {
   "cell_type": "code",
   "execution_count": 50,
   "metadata": {},
   "outputs": [
    {
     "name": "stdout",
     "output_type": "stream",
     "text": [
      "[1] 0.7409722\n",
      "[1] 0.65\n"
     ]
    }
   ],
   "source": [
    "nombre <- \"hayes-roth/hayes-roth\"\n",
    "\n",
    "run_knn_fold <- function(i, x, tt = \"test\") {\n",
    "    file <- paste(x, \"-10-\", i, \"tra.dat\", sep=\"\")\n",
    "    x_tra <- read.csv(file, comment.char=\"@\", header=FALSE)\n",
    "    file <- paste(x, \"-10-\", i, \"tst.dat\", sep=\"\")\n",
    "    x_tst <- read.csv(file, comment.char=\"@\", header=FALSE)\n",
    "    In <- length(names(x_tra)) - 1\n",
    "    names(x_tra)[1:In] <- paste (\"X\", 1:In, sep=\"\")\n",
    "    names(x_tra)[In+1] <- \"Y\"\n",
    "    names(x_tst)[1:In] <- paste (\"X\", 1:In, sep=\"\")\n",
    "    names(x_tst)[In+1] <- \"Y\"\n",
    "    if (tt == \"train\") {\n",
    "        test <- x_tra\n",
    "    }\n",
    "    else {\n",
    "        test <- x_tst\n",
    "    }\n",
    "    \n",
    "    hr.train = x_tra[,c(\"X1\",\"X2\",\"X3\",\"X4\")]\n",
    "    hr.labels.train = x_tra[,\"Y\"]\n",
    "    hr.labels.train = factor(hr.labels.train, levels=c(1,2,3))\n",
    "    hr.train$Y = hr.labels.train\n",
    "    fitMulti=qda(Y~X2+X3+X4, data=hr.train)\n",
    "    labels = factor(test[,\"Y\"],levels=c(1,2,3))\n",
    "    yprime=predict(fitMulti,test[,c(\"X1\",\"X2\",\"X3\",\"X4\")])\n",
    "    err = mean(yprime$class==labels)\n",
    "    \n",
    "}\n",
    "qdaACCtrain.all<-mean(sapply(1:10,run_knn_fold,nombre,\"train\"))\n",
    "qdaACCtest.all<-mean(sapply(1:10,run_knn_fold,nombre,\"test\"))\n",
    "print(qdaACCtrain.all)\n",
    "print(qdaACCtest.all)"
   ]
  },
  {
   "cell_type": "code",
   "execution_count": 51,
   "metadata": {},
   "outputs": [
    {
     "data": {
      "text/html": [
       "<table>\n",
       "<thead><tr><th></th><th scope=col>out_test_knn</th><th scope=col>out_test_lda</th><th scope=col>out_test_qda</th></tr></thead>\n",
       "<tbody>\n",
       "\t<tr><th scope=row>appendicitis</th><td>0.8966667</td><td>0.8690909</td><td>0.8109091</td></tr>\n",
       "\t<tr><th scope=row>australian</th><td>0.6838235</td><td>0.8579710</td><td>0.8028986</td></tr>\n",
       "\t<tr><th scope=row>balance</th><td>0.9024546</td><td>0.8624101</td><td>0.9167905</td></tr>\n",
       "\t<tr><th scope=row>bupa</th><td>0.6865775</td><td>0.6837924</td><td>0.5991759</td></tr>\n",
       "\t<tr><th scope=row>contraceptive</th><td>0.5448653</td><td>0.5091561</td><td>0.5173102</td></tr>\n",
       "\t<tr><th scope=row>haberman</th><td>0.7462069</td><td>0.7481720</td><td>0.7512903</td></tr>\n",
       "\t<tr><th scope=row>hayes-roth</th><td>0.6250000</td><td>0.5375000</td><td>0.6500000</td></tr>\n",
       "\t<tr><th scope=row>heart</th><td>0.6692308</td><td>0.8481481</td><td>0.8296296</td></tr>\n",
       "\t<tr><th scope=row>iris</th><td>0.9642857</td><td>0.9800000</td><td>0.9733333</td></tr>\n",
       "\t<tr><th scope=row>led7digit</th><td>0.7510204</td><td>0.7420000</td><td>0.6975000</td></tr>\n",
       "\t<tr><th scope=row>mammographic</th><td>0.7977698</td><td>0.8241269</td><td>0.8194042</td></tr>\n",
       "\t<tr><th scope=row>monk-2</th><td>0.9743632</td><td>0.7703433</td><td>0.9235535</td></tr>\n",
       "\t<tr><th scope=row>newthyroid</th><td>0.9071429</td><td>0.9164502</td><td>0.9629870</td></tr>\n",
       "\t<tr><th scope=row>pima</th><td>0.7348861</td><td>0.7709930</td><td>0.7412403</td></tr>\n",
       "\t<tr><th scope=row>tae</th><td>0.3838095</td><td>0.5245833</td><td>0.5425000</td></tr>\n",
       "\t<tr><th scope=row>titanic</th><td>0.7850353</td><td>0.7760304</td><td>0.7733032</td></tr>\n",
       "\t<tr><th scope=row>vehicle</th><td>0.6291452</td><td>0.7813305</td><td>0.8522409</td></tr>\n",
       "\t<tr><th scope=row>vowel</th><td>0.6428571</td><td>0.6030303</td><td>0.9191919</td></tr>\n",
       "\t<tr><th scope=row>wine</th><td>0.6959559</td><td>0.9944444</td><td>0.9888889</td></tr>\n",
       "\t<tr><th scope=row>wisconsin</th><td>0.9735023</td><td>0.9592185</td><td>0.9519476</td></tr>\n",
       "</tbody>\n",
       "</table>\n"
      ],
      "text/latex": [
       "\\begin{tabular}{r|lll}\n",
       "  & out\\_test\\_knn & out\\_test\\_lda & out\\_test\\_qda\\\\\n",
       "\\hline\n",
       "\tappendicitis & 0.8966667 & 0.8690909 & 0.8109091\\\\\n",
       "\taustralian & 0.6838235 & 0.8579710 & 0.8028986\\\\\n",
       "\tbalance & 0.9024546 & 0.8624101 & 0.9167905\\\\\n",
       "\tbupa & 0.6865775 & 0.6837924 & 0.5991759\\\\\n",
       "\tcontraceptive & 0.5448653 & 0.5091561 & 0.5173102\\\\\n",
       "\thaberman & 0.7462069 & 0.7481720 & 0.7512903\\\\\n",
       "\thayes-roth & 0.6250000 & 0.5375000 & 0.6500000\\\\\n",
       "\theart & 0.6692308 & 0.8481481 & 0.8296296\\\\\n",
       "\tiris & 0.9642857 & 0.9800000 & 0.9733333\\\\\n",
       "\tled7digit & 0.7510204 & 0.7420000 & 0.6975000\\\\\n",
       "\tmammographic & 0.7977698 & 0.8241269 & 0.8194042\\\\\n",
       "\tmonk-2 & 0.9743632 & 0.7703433 & 0.9235535\\\\\n",
       "\tnewthyroid & 0.9071429 & 0.9164502 & 0.9629870\\\\\n",
       "\tpima & 0.7348861 & 0.7709930 & 0.7412403\\\\\n",
       "\ttae & 0.3838095 & 0.5245833 & 0.5425000\\\\\n",
       "\ttitanic & 0.7850353 & 0.7760304 & 0.7733032\\\\\n",
       "\tvehicle & 0.6291452 & 0.7813305 & 0.8522409\\\\\n",
       "\tvowel & 0.6428571 & 0.6030303 & 0.9191919\\\\\n",
       "\twine & 0.6959559 & 0.9944444 & 0.9888889\\\\\n",
       "\twisconsin & 0.9735023 & 0.9592185 & 0.9519476\\\\\n",
       "\\end{tabular}\n"
      ],
      "text/markdown": [
       "\n",
       "| <!--/--> | out_test_knn | out_test_lda | out_test_qda |\n",
       "|---|---|---|---|\n",
       "| appendicitis | 0.8966667 | 0.8690909 | 0.8109091 |\n",
       "| australian | 0.6838235 | 0.8579710 | 0.8028986 |\n",
       "| balance | 0.9024546 | 0.8624101 | 0.9167905 |\n",
       "| bupa | 0.6865775 | 0.6837924 | 0.5991759 |\n",
       "| contraceptive | 0.5448653 | 0.5091561 | 0.5173102 |\n",
       "| haberman | 0.7462069 | 0.7481720 | 0.7512903 |\n",
       "| hayes-roth | 0.6250000 | 0.5375000 | 0.6500000 |\n",
       "| heart | 0.6692308 | 0.8481481 | 0.8296296 |\n",
       "| iris | 0.9642857 | 0.9800000 | 0.9733333 |\n",
       "| led7digit | 0.7510204 | 0.7420000 | 0.6975000 |\n",
       "| mammographic | 0.7977698 | 0.8241269 | 0.8194042 |\n",
       "| monk-2 | 0.9743632 | 0.7703433 | 0.9235535 |\n",
       "| newthyroid | 0.9071429 | 0.9164502 | 0.9629870 |\n",
       "| pima | 0.7348861 | 0.7709930 | 0.7412403 |\n",
       "| tae | 0.3838095 | 0.5245833 | 0.5425000 |\n",
       "| titanic | 0.7850353 | 0.7760304 | 0.7733032 |\n",
       "| vehicle | 0.6291452 | 0.7813305 | 0.8522409 |\n",
       "| vowel | 0.6428571 | 0.6030303 | 0.9191919 |\n",
       "| wine | 0.6959559 | 0.9944444 | 0.9888889 |\n",
       "| wisconsin | 0.9735023 | 0.9592185 | 0.9519476 |\n",
       "\n"
      ],
      "text/plain": [
       "              out_test_knn out_test_lda out_test_qda\n",
       "appendicitis  0.8966667    0.8690909    0.8109091   \n",
       "australian    0.6838235    0.8579710    0.8028986   \n",
       "balance       0.9024546    0.8624101    0.9167905   \n",
       "bupa          0.6865775    0.6837924    0.5991759   \n",
       "contraceptive 0.5448653    0.5091561    0.5173102   \n",
       "haberman      0.7462069    0.7481720    0.7512903   \n",
       "hayes-roth    0.6250000    0.5375000    0.6500000   \n",
       "heart         0.6692308    0.8481481    0.8296296   \n",
       "iris          0.9642857    0.9800000    0.9733333   \n",
       "led7digit     0.7510204    0.7420000    0.6975000   \n",
       "mammographic  0.7977698    0.8241269    0.8194042   \n",
       "monk-2        0.9743632    0.7703433    0.9235535   \n",
       "newthyroid    0.9071429    0.9164502    0.9629870   \n",
       "pima          0.7348861    0.7709930    0.7412403   \n",
       "tae           0.3838095    0.5245833    0.5425000   \n",
       "titanic       0.7850353    0.7760304    0.7733032   \n",
       "vehicle       0.6291452    0.7813305    0.8522409   \n",
       "vowel         0.6428571    0.6030303    0.9191919   \n",
       "wine          0.6959559    0.9944444    0.9888889   \n",
       "wisconsin     0.9735023    0.9592185    0.9519476   "
      ]
     },
     "metadata": {},
     "output_type": "display_data"
    }
   ],
   "source": [
    "# Leemos los datos de la tabla\n",
    "resultados.test = read.csv(\"clasif_test_alumos.csv\", header=TRUE)\n",
    "row.names(resultados.test) = resultados.test$X\n",
    "resultados.test$X = NULL\n",
    "\n",
    "# substituimos los datos obtenidos por nuestro dataset.\n",
    "resultados.test[\"hayes-roth\",]$out_test_knn = knnACCtest.all\n",
    "resultados.test[\"hayes-roth\",]$out_test_lda = ldaACCtest.all\n",
    "resultados.test[\"hayes-roth\",]$out_test_qda = qdaACCtest.all\n",
    "resultados.test"
   ]
  },
  {
   "cell_type": "code",
   "execution_count": 52,
   "metadata": {},
   "outputs": [
    {
     "data": {
      "text/plain": [
       "\n",
       "\tFriedman rank sum test\n",
       "\n",
       "data:  as.matrix(resultados.test)\n",
       "Friedman chi-squared = 0.7, df = 2, p-value = 0.7047\n"
      ]
     },
     "metadata": {},
     "output_type": "display_data"
    }
   ],
   "source": [
    "# Realizamos el test de Friedman.\n",
    "friedman.test = friedman.test(as.matrix(resultados.test))\n",
    "friedman.test"
   ]
  },
  {
   "cell_type": "markdown",
   "metadata": {},
   "source": [
    "Dado que tenemos un p-valor muy alto, según el test de Friedman no existen diferencias significativas entre los algoritmos. Ahora realizaremos el test de Holm para ver si hay diferencias significativas 2 a 2."
   ]
  },
  {
   "cell_type": "code",
   "execution_count": 53,
   "metadata": {},
   "outputs": [
    {
     "data": {
      "text/plain": [
       "\n",
       "\tPairwise comparisons using Wilcoxon signed rank test \n",
       "\n",
       "data:  as.matrix(resultados.test) and groups \n",
       "\n",
       "  1    2   \n",
       "2 1.00 -   \n",
       "3 0.49 1.00\n",
       "\n",
       "P value adjustment method: holm "
      ]
     },
     "metadata": {},
     "output_type": "display_data"
    }
   ],
   "source": [
    "tam = dim(resultados.test)\n",
    "groups = as.numeric(rep(1:tam[2],each=tam[1]))\n",
    "pairwise.wilcox.test(as.matrix(resultados.test),groups,p.adjust=\"holm\",paired=TRUE)"
   ]
  },
  {
   "cell_type": "markdown",
   "metadata": {},
   "source": [
    "Como se puede ver, el tercer algoritmo sí que presenta diferencias con respecto al resto ( su valor es 0.53, el del resto es 1). Por lo tanto, podemos concluir que el algoritmo QDA obtiene mejores resultados que el resto de algoritmos estudiados. Ahora repetiremos el proceso con los valores para train."
   ]
  },
  {
   "cell_type": "markdown",
   "metadata": {},
   "source": [
    "### Comparación con los datos de train"
   ]
  },
  {
   "cell_type": "code",
   "execution_count": 54,
   "metadata": {},
   "outputs": [
    {
     "data": {
      "text/html": [
       "<table>\n",
       "<thead><tr><th></th><th scope=col>out_train_knn</th><th scope=col>out_train_lda</th><th scope=col>out_train_qda</th></tr></thead>\n",
       "<tbody>\n",
       "\t<tr><th scope=row>appendicitis</th><td>0.8834602</td><td>0.8815461</td><td>0.8690241</td></tr>\n",
       "\t<tr><th scope=row>australian</th><td>0.7277419</td><td>0.8605475</td><td>0.8072464</td></tr>\n",
       "\t<tr><th scope=row>balance</th><td>0.9072122</td><td>0.8791122</td><td>0.9167999</td></tr>\n",
       "\t<tr><th scope=row>bupa</th><td>0.7405521</td><td>0.7024224</td><td>0.6447628</td></tr>\n",
       "\t<tr><th scope=row>contraceptive</th><td>0.6168944</td><td>0.5236485</td><td>0.5314180</td></tr>\n",
       "\t<tr><th scope=row>haberman</th><td>0.7795116</td><td>0.7519934</td><td>0.7567115</td></tr>\n",
       "\t<tr><th scope=row>hayes-roth</th><td>0.8270833</td><td>0.5416667</td><td>0.7409722</td></tr>\n",
       "\t<tr><th scope=row>heart</th><td>0.7342975</td><td>0.8576132</td><td>0.8777778</td></tr>\n",
       "\t<tr><th scope=row>iris</th><td>0.9791045</td><td>0.9800000</td><td>0.9814815</td></tr>\n",
       "\t<tr><th scope=row>led7digit</th><td>0.7636971</td><td>0.7635556</td><td>0.7680556</td></tr>\n",
       "\t<tr><th scope=row>mammographic</th><td>0.8160856</td><td>0.8274465</td><td>0.8196843</td></tr>\n",
       "\t<tr><th scope=row>monk-2</th><td>0.9793684</td><td>0.7821826</td><td>0.9303010</td></tr>\n",
       "\t<tr><th scope=row>newthyroid</th><td>0.9158409</td><td>0.9183457</td><td>0.9700283</td></tr>\n",
       "\t<tr><th scope=row>pima</th><td>0.7791914</td><td>0.7792266</td><td>0.7633125</td></tr>\n",
       "\t<tr><th scope=row>tae</th><td>0.5263460</td><td>0.5584858</td><td>0.5688072</td></tr>\n",
       "\t<tr><th scope=row>titanic</th><td>0.7892319</td><td>0.7760111</td><td>0.7732851</td></tr>\n",
       "\t<tr><th scope=row>vehicle</th><td>0.7213300</td><td>0.7989229</td><td>0.9123989</td></tr>\n",
       "\t<tr><th scope=row>vowel</th><td>0.8378652</td><td>0.6457912</td><td>0.9701459</td></tr>\n",
       "\t<tr><th scope=row>wine</th><td>0.7745126</td><td>1.0000000</td><td>0.9956250</td></tr>\n",
       "\t<tr><th scope=row>wisconsin</th><td>0.9739304</td><td>0.9614471</td><td>0.9588436</td></tr>\n",
       "</tbody>\n",
       "</table>\n"
      ],
      "text/latex": [
       "\\begin{tabular}{r|lll}\n",
       "  & out\\_train\\_knn & out\\_train\\_lda & out\\_train\\_qda\\\\\n",
       "\\hline\n",
       "\tappendicitis & 0.8834602 & 0.8815461 & 0.8690241\\\\\n",
       "\taustralian & 0.7277419 & 0.8605475 & 0.8072464\\\\\n",
       "\tbalance & 0.9072122 & 0.8791122 & 0.9167999\\\\\n",
       "\tbupa & 0.7405521 & 0.7024224 & 0.6447628\\\\\n",
       "\tcontraceptive & 0.6168944 & 0.5236485 & 0.5314180\\\\\n",
       "\thaberman & 0.7795116 & 0.7519934 & 0.7567115\\\\\n",
       "\thayes-roth & 0.8270833 & 0.5416667 & 0.7409722\\\\\n",
       "\theart & 0.7342975 & 0.8576132 & 0.8777778\\\\\n",
       "\tiris & 0.9791045 & 0.9800000 & 0.9814815\\\\\n",
       "\tled7digit & 0.7636971 & 0.7635556 & 0.7680556\\\\\n",
       "\tmammographic & 0.8160856 & 0.8274465 & 0.8196843\\\\\n",
       "\tmonk-2 & 0.9793684 & 0.7821826 & 0.9303010\\\\\n",
       "\tnewthyroid & 0.9158409 & 0.9183457 & 0.9700283\\\\\n",
       "\tpima & 0.7791914 & 0.7792266 & 0.7633125\\\\\n",
       "\ttae & 0.5263460 & 0.5584858 & 0.5688072\\\\\n",
       "\ttitanic & 0.7892319 & 0.7760111 & 0.7732851\\\\\n",
       "\tvehicle & 0.7213300 & 0.7989229 & 0.9123989\\\\\n",
       "\tvowel & 0.8378652 & 0.6457912 & 0.9701459\\\\\n",
       "\twine & 0.7745126 & 1.0000000 & 0.9956250\\\\\n",
       "\twisconsin & 0.9739304 & 0.9614471 & 0.9588436\\\\\n",
       "\\end{tabular}\n"
      ],
      "text/markdown": [
       "\n",
       "| <!--/--> | out_train_knn | out_train_lda | out_train_qda |\n",
       "|---|---|---|---|\n",
       "| appendicitis | 0.8834602 | 0.8815461 | 0.8690241 |\n",
       "| australian | 0.7277419 | 0.8605475 | 0.8072464 |\n",
       "| balance | 0.9072122 | 0.8791122 | 0.9167999 |\n",
       "| bupa | 0.7405521 | 0.7024224 | 0.6447628 |\n",
       "| contraceptive | 0.6168944 | 0.5236485 | 0.5314180 |\n",
       "| haberman | 0.7795116 | 0.7519934 | 0.7567115 |\n",
       "| hayes-roth | 0.8270833 | 0.5416667 | 0.7409722 |\n",
       "| heart | 0.7342975 | 0.8576132 | 0.8777778 |\n",
       "| iris | 0.9791045 | 0.9800000 | 0.9814815 |\n",
       "| led7digit | 0.7636971 | 0.7635556 | 0.7680556 |\n",
       "| mammographic | 0.8160856 | 0.8274465 | 0.8196843 |\n",
       "| monk-2 | 0.9793684 | 0.7821826 | 0.9303010 |\n",
       "| newthyroid | 0.9158409 | 0.9183457 | 0.9700283 |\n",
       "| pima | 0.7791914 | 0.7792266 | 0.7633125 |\n",
       "| tae | 0.5263460 | 0.5584858 | 0.5688072 |\n",
       "| titanic | 0.7892319 | 0.7760111 | 0.7732851 |\n",
       "| vehicle | 0.7213300 | 0.7989229 | 0.9123989 |\n",
       "| vowel | 0.8378652 | 0.6457912 | 0.9701459 |\n",
       "| wine | 0.7745126 | 1.0000000 | 0.9956250 |\n",
       "| wisconsin | 0.9739304 | 0.9614471 | 0.9588436 |\n",
       "\n"
      ],
      "text/plain": [
       "              out_train_knn out_train_lda out_train_qda\n",
       "appendicitis  0.8834602     0.8815461     0.8690241    \n",
       "australian    0.7277419     0.8605475     0.8072464    \n",
       "balance       0.9072122     0.8791122     0.9167999    \n",
       "bupa          0.7405521     0.7024224     0.6447628    \n",
       "contraceptive 0.6168944     0.5236485     0.5314180    \n",
       "haberman      0.7795116     0.7519934     0.7567115    \n",
       "hayes-roth    0.8270833     0.5416667     0.7409722    \n",
       "heart         0.7342975     0.8576132     0.8777778    \n",
       "iris          0.9791045     0.9800000     0.9814815    \n",
       "led7digit     0.7636971     0.7635556     0.7680556    \n",
       "mammographic  0.8160856     0.8274465     0.8196843    \n",
       "monk-2        0.9793684     0.7821826     0.9303010    \n",
       "newthyroid    0.9158409     0.9183457     0.9700283    \n",
       "pima          0.7791914     0.7792266     0.7633125    \n",
       "tae           0.5263460     0.5584858     0.5688072    \n",
       "titanic       0.7892319     0.7760111     0.7732851    \n",
       "vehicle       0.7213300     0.7989229     0.9123989    \n",
       "vowel         0.8378652     0.6457912     0.9701459    \n",
       "wine          0.7745126     1.0000000     0.9956250    \n",
       "wisconsin     0.9739304     0.9614471     0.9588436    "
      ]
     },
     "metadata": {},
     "output_type": "display_data"
    }
   ],
   "source": [
    "# Leemos la tabla y sustituimos los datos.\n",
    "resultados.train = read.csv(\"clasif_train_alumnos.csv\",header=TRUE)\n",
    "row.names(resultados.train) = resultados.train$X\n",
    "resultados.train$X = NULL\n",
    "\n",
    "resultados.train[\"hayes-roth\",]$out_train_knn = knnACCtrain.all\n",
    "resultados.train[\"hayes-roth\",]$out_train_lda = ldaACCtrain.all\n",
    "resultados.train[\"hayes-roth\",]$out_train_qda = qdaACCtrain.all\n",
    "\n",
    "resultados.train"
   ]
  },
  {
   "cell_type": "code",
   "execution_count": 55,
   "metadata": {},
   "outputs": [
    {
     "data": {
      "text/plain": [
       "\n",
       "\tFriedman rank sum test\n",
       "\n",
       "data:  as.matrix(resultados.train)\n",
       "Friedman chi-squared = 0.9, df = 2, p-value = 0.6376\n"
      ]
     },
     "metadata": {},
     "output_type": "display_data"
    }
   ],
   "source": [
    "# Realizamos el test de friedman.\n",
    "test.friedman = friedman.test(as.matrix(resultados.train))\n",
    "test.friedman"
   ]
  },
  {
   "cell_type": "code",
   "execution_count": 56,
   "metadata": {},
   "outputs": [
    {
     "data": {
      "text/plain": [
       "\n",
       "\tPairwise comparisons using Wilcoxon signed rank test \n",
       "\n",
       "data:  as.matrix(resultados.train) and groups \n",
       "\n",
       "  1    2   \n",
       "2 1.00 -   \n",
       "3 1.00 0.53\n",
       "\n",
       "P value adjustment method: holm "
      ]
     },
     "metadata": {},
     "output_type": "display_data"
    }
   ],
   "source": [
    "# Relizamos el test de post-hoc. (Holm)\n",
    "tam = dim(resultados.train)\n",
    "groups = as.numeric(rep(1:tam[2],each=tam[1]))\n",
    "pairwise.wilcox.test(as.matrix(resultados.train),groups,p.adjust=\"holm\",paired=TRUE)"
   ]
  },
  {
   "cell_type": "markdown",
   "metadata": {},
   "source": [
    "Según los resultados obtenidos por el test de Friedman, no existen diferencias significativas entre los algoritmos. Según los resultados obtenidos en el test de Holm, el segundo algoritmo (LDA) se diferencia del resto de los algoritmos, esto puede haber ocurrido por un buen ajuste de alguno de los datasets, que haya hecho que se diferencie del resto."
   ]
  }
 ],
 "metadata": {
  "kernelspec": {
   "display_name": "R",
   "language": "R",
   "name": "ir"
  },
  "language_info": {
   "codemirror_mode": "r",
   "file_extension": ".r",
   "mimetype": "text/x-r-source",
   "name": "R",
   "pygments_lexer": "r",
   "version": "3.5.1"
  },
  "toc": {
   "base_numbering": 1,
   "nav_menu": {
    "height": "86px",
    "width": "333px"
   },
   "number_sections": true,
   "sideBar": true,
   "skip_h1_title": false,
   "title_cell": "Table of Contents",
   "title_sidebar": "Contents",
   "toc_cell": false,
   "toc_position": {
    "height": "calc(100% - 180px)",
    "left": "10px",
    "top": "150px",
    "width": "165px"
   },
   "toc_section_display": true,
   "toc_window_display": true
  }
 },
 "nbformat": 4,
 "nbformat_minor": 2
}
