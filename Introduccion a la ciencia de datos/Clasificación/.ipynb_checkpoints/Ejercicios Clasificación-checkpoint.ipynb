{
 "cells": [
  {
   "cell_type": "markdown",
   "metadata": {},
   "source": [
    "## Ejercios Clasificación\n",
    "Alberto Armijo Ruiz"
   ]
  },
  {
   "cell_type": "markdown",
   "metadata": {},
   "source": [
    "### Ejercicio 1\n",
    "Probar diferentes valores para k y compararlos. Hacer un plot con los  resultados."
   ]
  },
  {
   "cell_type": "code",
   "execution_count": 2,
   "metadata": {},
   "outputs": [
    {
     "name": "stdout",
     "output_type": "stream",
     "text": [
      "'data.frame':\t569 obs. of  32 variables:\n",
      " $ id               : int  87139402 8910251 905520 868871 9012568 906539 925291 87880 862989 89827 ...\n",
      " $ diagnosis        : chr  \"B\" \"B\" \"B\" \"B\" ...\n",
      " $ radius_mean      : num  12.3 10.6 11 11.3 15.2 ...\n",
      " $ texture_mean     : num  12.4 18.9 16.8 13.4 13.2 ...\n",
      " $ perimeter_mean   : num  78.8 69.3 70.9 73 97.7 ...\n",
      " $ area_mean        : num  464 346 373 385 712 ...\n",
      " $ smoothness_mean  : num  0.1028 0.0969 0.1077 0.1164 0.0796 ...\n",
      " $ compactness_mean : num  0.0698 0.1147 0.078 0.1136 0.0693 ...\n",
      " $ concavity_mean   : num  0.0399 0.0639 0.0305 0.0464 0.0339 ...\n",
      " $ points_mean      : num  0.037 0.0264 0.0248 0.048 0.0266 ...\n",
      " $ symmetry_mean    : num  0.196 0.192 0.171 0.177 0.172 ...\n",
      " $ dimension_mean   : num  0.0595 0.0649 0.0634 0.0607 0.0554 ...\n",
      " $ radius_se        : num  0.236 0.451 0.197 0.338 0.178 ...\n",
      " $ texture_se       : num  0.666 1.197 1.387 1.343 0.412 ...\n",
      " $ perimeter_se     : num  1.67 3.43 1.34 1.85 1.34 ...\n",
      " $ area_se          : num  17.4 27.1 13.5 26.3 17.7 ...\n",
      " $ smoothness_se    : num  0.00805 0.00747 0.00516 0.01127 0.00501 ...\n",
      " $ compactness_se   : num  0.0118 0.03581 0.00936 0.03498 0.01485 ...\n",
      " $ concavity_se     : num  0.0168 0.0335 0.0106 0.0219 0.0155 ...\n",
      " $ points_se        : num  0.01241 0.01365 0.00748 0.01965 0.00915 ...\n",
      " $ symmetry_se      : num  0.0192 0.035 0.0172 0.0158 0.0165 ...\n",
      " $ dimension_se     : num  0.00225 0.00332 0.0022 0.00344 0.00177 ...\n",
      " $ radius_worst     : num  13.5 11.9 12.4 11.9 16.2 ...\n",
      " $ texture_worst    : num  15.6 22.9 26.4 15.8 15.7 ...\n",
      " $ perimeter_worst  : num  87 78.3 79.9 76.5 104.5 ...\n",
      " $ area_worst       : num  549 425 471 434 819 ...\n",
      " $ smoothness_worst : num  0.139 0.121 0.137 0.137 0.113 ...\n",
      " $ compactness_worst: num  0.127 0.252 0.148 0.182 0.174 ...\n",
      " $ concavity_worst  : num  0.1242 0.1916 0.1067 0.0867 0.1362 ...\n",
      " $ points_worst     : num  0.0939 0.0793 0.0743 0.0861 0.0818 ...\n",
      " $ symmetry_worst   : num  0.283 0.294 0.3 0.21 0.249 ...\n",
      " $ dimension_worst  : num  0.0677 0.0759 0.0788 0.0678 0.0677 ...\n"
     ]
    },
    {
     "data": {
      "text/html": [
       "<table>\n",
       "<thead><tr><th scope=col>id</th><th scope=col>diagnosis</th><th scope=col>radius_mean</th><th scope=col>texture_mean</th><th scope=col>perimeter_mean</th><th scope=col>area_mean</th><th scope=col>smoothness_mean</th><th scope=col>compactness_mean</th><th scope=col>concavity_mean</th><th scope=col>points_mean</th><th scope=col>...</th><th scope=col>radius_worst</th><th scope=col>texture_worst</th><th scope=col>perimeter_worst</th><th scope=col>area_worst</th><th scope=col>smoothness_worst</th><th scope=col>compactness_worst</th><th scope=col>concavity_worst</th><th scope=col>points_worst</th><th scope=col>symmetry_worst</th><th scope=col>dimension_worst</th></tr></thead>\n",
       "<tbody>\n",
       "\t<tr><td>87139402</td><td>B       </td><td>12.32   </td><td>12.39   </td><td>78.85   </td><td>464.1   </td><td>0.10280 </td><td>0.06981 </td><td>0.03987 </td><td>0.03700 </td><td>...     </td><td>13.50   </td><td>15.64   </td><td> 86.97  </td><td>549.1   </td><td>0.1385  </td><td>0.1266  </td><td>0.12420 </td><td>0.09391 </td><td>0.2827  </td><td>0.06771 </td></tr>\n",
       "\t<tr><td> 8910251</td><td>B       </td><td>10.60   </td><td>18.95   </td><td>69.28   </td><td>346.4   </td><td>0.09688 </td><td>0.11470 </td><td>0.06387 </td><td>0.02642 </td><td>...     </td><td>11.88   </td><td>22.94   </td><td> 78.28  </td><td>424.8   </td><td>0.1213  </td><td>0.2515  </td><td>0.19160 </td><td>0.07926 </td><td>0.2940  </td><td>0.07587 </td></tr>\n",
       "\t<tr><td>  905520</td><td>B       </td><td>11.04   </td><td>16.83   </td><td>70.92   </td><td>373.2   </td><td>0.10770 </td><td>0.07804 </td><td>0.03046 </td><td>0.02480 </td><td>...     </td><td>12.41   </td><td>26.44   </td><td> 79.93  </td><td>471.4   </td><td>0.1369  </td><td>0.1482  </td><td>0.10670 </td><td>0.07431 </td><td>0.2998  </td><td>0.07881 </td></tr>\n",
       "\t<tr><td>  868871</td><td>B       </td><td>11.28   </td><td>13.39   </td><td>73.00   </td><td>384.8   </td><td>0.11640 </td><td>0.11360 </td><td>0.04635 </td><td>0.04796 </td><td>...     </td><td>11.92   </td><td>15.77   </td><td> 76.53  </td><td>434.0   </td><td>0.1367  </td><td>0.1822  </td><td>0.08669 </td><td>0.08611 </td><td>0.2102  </td><td>0.06784 </td></tr>\n",
       "\t<tr><td> 9012568</td><td>B       </td><td>15.19   </td><td>13.21   </td><td>97.65   </td><td>711.8   </td><td>0.07963 </td><td>0.06934 </td><td>0.03393 </td><td>0.02657 </td><td>...     </td><td>16.20   </td><td>15.73   </td><td>104.50  </td><td>819.1   </td><td>0.1126  </td><td>0.1737  </td><td>0.13620 </td><td>0.08178 </td><td>0.2487  </td><td>0.06766 </td></tr>\n",
       "\t<tr><td>  906539</td><td>B       </td><td>11.57   </td><td>19.04   </td><td>74.20   </td><td>409.7   </td><td>0.08546 </td><td>0.07722 </td><td>0.05485 </td><td>0.01428 </td><td>...     </td><td>13.07   </td><td>26.98   </td><td> 86.43  </td><td>520.5   </td><td>0.1249  </td><td>0.1937  </td><td>0.25600 </td><td>0.06664 </td><td>0.3035  </td><td>0.08284 </td></tr>\n",
       "</tbody>\n",
       "</table>\n"
      ],
      "text/latex": [
       "\\begin{tabular}{r|llllllllllllllllllllllllllllllll}\n",
       " id & diagnosis & radius\\_mean & texture\\_mean & perimeter\\_mean & area\\_mean & smoothness\\_mean & compactness\\_mean & concavity\\_mean & points\\_mean & ... & radius\\_worst & texture\\_worst & perimeter\\_worst & area\\_worst & smoothness\\_worst & compactness\\_worst & concavity\\_worst & points\\_worst & symmetry\\_worst & dimension\\_worst\\\\\n",
       "\\hline\n",
       "\t 87139402 & B        & 12.32    & 12.39    & 78.85    & 464.1    & 0.10280  & 0.06981  & 0.03987  & 0.03700  & ...      & 13.50    & 15.64    &  86.97   & 549.1    & 0.1385   & 0.1266   & 0.12420  & 0.09391  & 0.2827   & 0.06771 \\\\\n",
       "\t  8910251 & B        & 10.60    & 18.95    & 69.28    & 346.4    & 0.09688  & 0.11470  & 0.06387  & 0.02642  & ...      & 11.88    & 22.94    &  78.28   & 424.8    & 0.1213   & 0.2515   & 0.19160  & 0.07926  & 0.2940   & 0.07587 \\\\\n",
       "\t   905520 & B        & 11.04    & 16.83    & 70.92    & 373.2    & 0.10770  & 0.07804  & 0.03046  & 0.02480  & ...      & 12.41    & 26.44    &  79.93   & 471.4    & 0.1369   & 0.1482   & 0.10670  & 0.07431  & 0.2998   & 0.07881 \\\\\n",
       "\t   868871 & B        & 11.28    & 13.39    & 73.00    & 384.8    & 0.11640  & 0.11360  & 0.04635  & 0.04796  & ...      & 11.92    & 15.77    &  76.53   & 434.0    & 0.1367   & 0.1822   & 0.08669  & 0.08611  & 0.2102   & 0.06784 \\\\\n",
       "\t  9012568 & B        & 15.19    & 13.21    & 97.65    & 711.8    & 0.07963  & 0.06934  & 0.03393  & 0.02657  & ...      & 16.20    & 15.73    & 104.50   & 819.1    & 0.1126   & 0.1737   & 0.13620  & 0.08178  & 0.2487   & 0.06766 \\\\\n",
       "\t   906539 & B        & 11.57    & 19.04    & 74.20    & 409.7    & 0.08546  & 0.07722  & 0.05485  & 0.01428  & ...      & 13.07    & 26.98    &  86.43   & 520.5    & 0.1249   & 0.1937   & 0.25600  & 0.06664  & 0.3035   & 0.08284 \\\\\n",
       "\\end{tabular}\n"
      ],
      "text/markdown": [
       "\n",
       "id | diagnosis | radius_mean | texture_mean | perimeter_mean | area_mean | smoothness_mean | compactness_mean | concavity_mean | points_mean | ... | radius_worst | texture_worst | perimeter_worst | area_worst | smoothness_worst | compactness_worst | concavity_worst | points_worst | symmetry_worst | dimension_worst | \n",
       "|---|---|---|---|---|---|\n",
       "| 87139402 | B        | 12.32    | 12.39    | 78.85    | 464.1    | 0.10280  | 0.06981  | 0.03987  | 0.03700  | ...      | 13.50    | 15.64    |  86.97   | 549.1    | 0.1385   | 0.1266   | 0.12420  | 0.09391  | 0.2827   | 0.06771  | \n",
       "|  8910251 | B        | 10.60    | 18.95    | 69.28    | 346.4    | 0.09688  | 0.11470  | 0.06387  | 0.02642  | ...      | 11.88    | 22.94    |  78.28   | 424.8    | 0.1213   | 0.2515   | 0.19160  | 0.07926  | 0.2940   | 0.07587  | \n",
       "|   905520 | B        | 11.04    | 16.83    | 70.92    | 373.2    | 0.10770  | 0.07804  | 0.03046  | 0.02480  | ...      | 12.41    | 26.44    |  79.93   | 471.4    | 0.1369   | 0.1482   | 0.10670  | 0.07431  | 0.2998   | 0.07881  | \n",
       "|   868871 | B        | 11.28    | 13.39    | 73.00    | 384.8    | 0.11640  | 0.11360  | 0.04635  | 0.04796  | ...      | 11.92    | 15.77    |  76.53   | 434.0    | 0.1367   | 0.1822   | 0.08669  | 0.08611  | 0.2102   | 0.06784  | \n",
       "|  9012568 | B        | 15.19    | 13.21    | 97.65    | 711.8    | 0.07963  | 0.06934  | 0.03393  | 0.02657  | ...      | 16.20    | 15.73    | 104.50   | 819.1    | 0.1126   | 0.1737   | 0.13620  | 0.08178  | 0.2487   | 0.06766  | \n",
       "|   906539 | B        | 11.57    | 19.04    | 74.20    | 409.7    | 0.08546  | 0.07722  | 0.05485  | 0.01428  | ...      | 13.07    | 26.98    |  86.43   | 520.5    | 0.1249   | 0.1937   | 0.25600  | 0.06664  | 0.3035   | 0.08284  | \n",
       "\n",
       "\n"
      ],
      "text/plain": [
       "  id       diagnosis radius_mean texture_mean perimeter_mean area_mean\n",
       "1 87139402 B         12.32       12.39        78.85          464.1    \n",
       "2  8910251 B         10.60       18.95        69.28          346.4    \n",
       "3   905520 B         11.04       16.83        70.92          373.2    \n",
       "4   868871 B         11.28       13.39        73.00          384.8    \n",
       "5  9012568 B         15.19       13.21        97.65          711.8    \n",
       "6   906539 B         11.57       19.04        74.20          409.7    \n",
       "  smoothness_mean compactness_mean concavity_mean points_mean ... radius_worst\n",
       "1 0.10280         0.06981          0.03987        0.03700     ... 13.50       \n",
       "2 0.09688         0.11470          0.06387        0.02642     ... 11.88       \n",
       "3 0.10770         0.07804          0.03046        0.02480     ... 12.41       \n",
       "4 0.11640         0.11360          0.04635        0.04796     ... 11.92       \n",
       "5 0.07963         0.06934          0.03393        0.02657     ... 16.20       \n",
       "6 0.08546         0.07722          0.05485        0.01428     ... 13.07       \n",
       "  texture_worst perimeter_worst area_worst smoothness_worst compactness_worst\n",
       "1 15.64          86.97          549.1      0.1385           0.1266           \n",
       "2 22.94          78.28          424.8      0.1213           0.2515           \n",
       "3 26.44          79.93          471.4      0.1369           0.1482           \n",
       "4 15.77          76.53          434.0      0.1367           0.1822           \n",
       "5 15.73         104.50          819.1      0.1126           0.1737           \n",
       "6 26.98          86.43          520.5      0.1249           0.1937           \n",
       "  concavity_worst points_worst symmetry_worst dimension_worst\n",
       "1 0.12420         0.09391      0.2827         0.06771        \n",
       "2 0.19160         0.07926      0.2940         0.07587        \n",
       "3 0.10670         0.07431      0.2998         0.07881        \n",
       "4 0.08669         0.08611      0.2102         0.06784        \n",
       "5 0.13620         0.08178      0.2487         0.06766        \n",
       "6 0.25600         0.06664      0.3035         0.08284        "
      ]
     },
     "metadata": {},
     "output_type": "display_data"
    }
   ],
   "source": [
    "# Primero leemos el archivo que contiene el dataset de breast cancer\n",
    "wbcd = read.csv(\"wisc_bc_data.csv\",stringsAsFactors = FALSE)\n",
    "str(wbcd)\n",
    "head(wbcd)"
   ]
  },
  {
   "cell_type": "code",
   "execution_count": 3,
   "metadata": {},
   "outputs": [
    {
     "data": {
      "text/plain": [
       "\n",
       "   Benign Malignant \n",
       "      357       212 "
      ]
     },
     "metadata": {},
     "output_type": "display_data"
    }
   ],
   "source": [
    "# Quitamos el id ya que no nos sirve de nada para predecir.\n",
    "wbcd = wbcd[,-1]\n",
    "\n",
    "# Transformamos los datos de la variable diagnosis a un factor.\n",
    "wbcd$diagnosis = factor(wbcd$diagnosis, levels=c(\"B\",\"M\"),\n",
    "                       labels = c(\"Benign\",\"Malignant\"))\n",
    "# Miramos el número de datos de cada tipo.\n",
    "table(wbcd$diagnosis)"
   ]
  },
  {
   "cell_type": "code",
   "execution_count": 4,
   "metadata": {},
   "outputs": [],
   "source": [
    "# Normalizamos los datos para poder aplicar knn.\n",
    "wbcd_n <- as.data.frame(lapply(wbcd[,2:31],\n",
    "                               scale, center = TRUE, scale = TRUE))\n"
   ]
  },
  {
   "cell_type": "code",
   "execution_count": 5,
   "metadata": {},
   "outputs": [],
   "source": [
    "# Creamos datasets de train y test\n",
    "shuffle_ds <- sample(dim(wbcd_n)[1])\n",
    "eightypct <- (dim(wbcd_n)[1] * 80) %/% 100\n",
    "wbcd_train <- wbcd_n[shuffle_ds[1:eightypct], ]\n",
    "wbcd_test <- wbcd_n[shuffle_ds[(eightypct+1):dim(wbcd_n)[1]], ]\n",
    "\n",
    "# Creamos también labels para ambos subconjuntos.\n",
    "wbcd_train_labels <- wbcd[shuffle_ds[1:eightypct], 1]\n",
    "wbcd_test_labels <- wbcd[shuffle_ds[(eightypct+1):dim(wbcd_n)[1]], 1]"
   ]
  },
  {
   "cell_type": "code",
   "execution_count": 6,
   "metadata": {
    "scrolled": true
   },
   "outputs": [
    {
     "data": {
      "text/html": [
       "<ol class=list-inline>\n",
       "\t<li>Malignant</li>\n",
       "\t<li>Benign</li>\n",
       "\t<li>Malignant</li>\n",
       "\t<li>Benign</li>\n",
       "\t<li>Benign</li>\n",
       "\t<li>Benign</li>\n",
       "\t<li>Benign</li>\n",
       "\t<li>Malignant</li>\n",
       "\t<li>Malignant</li>\n",
       "\t<li>Benign</li>\n",
       "\t<li>Malignant</li>\n",
       "\t<li>Benign</li>\n",
       "\t<li>Benign</li>\n",
       "\t<li>Malignant</li>\n",
       "\t<li>Benign</li>\n",
       "\t<li>Benign</li>\n",
       "\t<li>Malignant</li>\n",
       "\t<li>Malignant</li>\n",
       "\t<li>Malignant</li>\n",
       "\t<li>Malignant</li>\n",
       "\t<li>Benign</li>\n",
       "\t<li>Benign</li>\n",
       "\t<li>Benign</li>\n",
       "\t<li>Malignant</li>\n",
       "\t<li>Malignant</li>\n",
       "\t<li>Malignant</li>\n",
       "\t<li>Malignant</li>\n",
       "\t<li>Benign</li>\n",
       "\t<li>Benign</li>\n",
       "\t<li>Benign</li>\n",
       "\t<li>Benign</li>\n",
       "\t<li>Malignant</li>\n",
       "\t<li>Benign</li>\n",
       "\t<li>Benign</li>\n",
       "\t<li>Benign</li>\n",
       "\t<li>Benign</li>\n",
       "\t<li>Benign</li>\n",
       "\t<li>Benign</li>\n",
       "\t<li>Malignant</li>\n",
       "\t<li>Malignant</li>\n",
       "\t<li>Benign</li>\n",
       "\t<li>Malignant</li>\n",
       "\t<li>Benign</li>\n",
       "\t<li>Benign</li>\n",
       "\t<li>Benign</li>\n",
       "\t<li>Malignant</li>\n",
       "\t<li>Malignant</li>\n",
       "\t<li>Benign</li>\n",
       "\t<li>Benign</li>\n",
       "\t<li>Malignant</li>\n",
       "\t<li>Malignant</li>\n",
       "\t<li>Malignant</li>\n",
       "\t<li>Benign</li>\n",
       "\t<li>Benign</li>\n",
       "\t<li>Malignant</li>\n",
       "\t<li>Malignant</li>\n",
       "\t<li>Benign</li>\n",
       "\t<li>Benign</li>\n",
       "\t<li>Malignant</li>\n",
       "\t<li>Benign</li>\n",
       "\t<li>Benign</li>\n",
       "\t<li>Benign</li>\n",
       "\t<li>Benign</li>\n",
       "\t<li>Malignant</li>\n",
       "\t<li>Malignant</li>\n",
       "\t<li>Benign</li>\n",
       "\t<li>Benign</li>\n",
       "\t<li>Malignant</li>\n",
       "\t<li>Malignant</li>\n",
       "\t<li>Benign</li>\n",
       "\t<li>Malignant</li>\n",
       "\t<li>Malignant</li>\n",
       "\t<li>Benign</li>\n",
       "\t<li>Benign</li>\n",
       "\t<li>Benign</li>\n",
       "\t<li>Benign</li>\n",
       "\t<li>Benign</li>\n",
       "\t<li>Malignant</li>\n",
       "\t<li>Malignant</li>\n",
       "\t<li>Benign</li>\n",
       "\t<li>Malignant</li>\n",
       "\t<li>Malignant</li>\n",
       "\t<li>Malignant</li>\n",
       "\t<li>Benign</li>\n",
       "\t<li>Benign</li>\n",
       "\t<li>Malignant</li>\n",
       "\t<li>Benign</li>\n",
       "\t<li>Malignant</li>\n",
       "\t<li>Benign</li>\n",
       "\t<li>Benign</li>\n",
       "\t<li>Benign</li>\n",
       "\t<li>Benign</li>\n",
       "\t<li>Malignant</li>\n",
       "\t<li>Benign</li>\n",
       "\t<li>Malignant</li>\n",
       "\t<li>Benign</li>\n",
       "\t<li>Benign</li>\n",
       "\t<li>Benign</li>\n",
       "\t<li>Benign</li>\n",
       "\t<li>Malignant</li>\n",
       "\t<li>Benign</li>\n",
       "\t<li>Benign</li>\n",
       "\t<li>Benign</li>\n",
       "\t<li>Benign</li>\n",
       "\t<li>Malignant</li>\n",
       "\t<li>Malignant</li>\n",
       "\t<li>Benign</li>\n",
       "\t<li>Benign</li>\n",
       "\t<li>Malignant</li>\n",
       "\t<li>Benign</li>\n",
       "\t<li>Benign</li>\n",
       "\t<li>Malignant</li>\n",
       "\t<li>Benign</li>\n",
       "\t<li>Malignant</li>\n",
       "</ol>\n",
       "\n",
       "<details>\n",
       "\t<summary style=display:list-item;cursor:pointer>\n",
       "\t\t<strong>Levels</strong>:\n",
       "\t</summary>\n",
       "\t<ol class=list-inline>\n",
       "\t\t<li>'Benign'</li>\n",
       "\t\t<li>'Malignant'</li>\n",
       "\t</ol>\n",
       "</details>"
      ],
      "text/latex": [
       "\\begin{enumerate*}\n",
       "\\item Malignant\n",
       "\\item Benign\n",
       "\\item Malignant\n",
       "\\item Benign\n",
       "\\item Benign\n",
       "\\item Benign\n",
       "\\item Benign\n",
       "\\item Malignant\n",
       "\\item Malignant\n",
       "\\item Benign\n",
       "\\item Malignant\n",
       "\\item Benign\n",
       "\\item Benign\n",
       "\\item Malignant\n",
       "\\item Benign\n",
       "\\item Benign\n",
       "\\item Malignant\n",
       "\\item Malignant\n",
       "\\item Malignant\n",
       "\\item Malignant\n",
       "\\item Benign\n",
       "\\item Benign\n",
       "\\item Benign\n",
       "\\item Malignant\n",
       "\\item Malignant\n",
       "\\item Malignant\n",
       "\\item Malignant\n",
       "\\item Benign\n",
       "\\item Benign\n",
       "\\item Benign\n",
       "\\item Benign\n",
       "\\item Malignant\n",
       "\\item Benign\n",
       "\\item Benign\n",
       "\\item Benign\n",
       "\\item Benign\n",
       "\\item Benign\n",
       "\\item Benign\n",
       "\\item Malignant\n",
       "\\item Malignant\n",
       "\\item Benign\n",
       "\\item Malignant\n",
       "\\item Benign\n",
       "\\item Benign\n",
       "\\item Benign\n",
       "\\item Malignant\n",
       "\\item Malignant\n",
       "\\item Benign\n",
       "\\item Benign\n",
       "\\item Malignant\n",
       "\\item Malignant\n",
       "\\item Malignant\n",
       "\\item Benign\n",
       "\\item Benign\n",
       "\\item Malignant\n",
       "\\item Malignant\n",
       "\\item Benign\n",
       "\\item Benign\n",
       "\\item Malignant\n",
       "\\item Benign\n",
       "\\item Benign\n",
       "\\item Benign\n",
       "\\item Benign\n",
       "\\item Malignant\n",
       "\\item Malignant\n",
       "\\item Benign\n",
       "\\item Benign\n",
       "\\item Malignant\n",
       "\\item Malignant\n",
       "\\item Benign\n",
       "\\item Malignant\n",
       "\\item Malignant\n",
       "\\item Benign\n",
       "\\item Benign\n",
       "\\item Benign\n",
       "\\item Benign\n",
       "\\item Benign\n",
       "\\item Malignant\n",
       "\\item Malignant\n",
       "\\item Benign\n",
       "\\item Malignant\n",
       "\\item Malignant\n",
       "\\item Malignant\n",
       "\\item Benign\n",
       "\\item Benign\n",
       "\\item Malignant\n",
       "\\item Benign\n",
       "\\item Malignant\n",
       "\\item Benign\n",
       "\\item Benign\n",
       "\\item Benign\n",
       "\\item Benign\n",
       "\\item Malignant\n",
       "\\item Benign\n",
       "\\item Malignant\n",
       "\\item Benign\n",
       "\\item Benign\n",
       "\\item Benign\n",
       "\\item Benign\n",
       "\\item Malignant\n",
       "\\item Benign\n",
       "\\item Benign\n",
       "\\item Benign\n",
       "\\item Benign\n",
       "\\item Malignant\n",
       "\\item Malignant\n",
       "\\item Benign\n",
       "\\item Benign\n",
       "\\item Malignant\n",
       "\\item Benign\n",
       "\\item Benign\n",
       "\\item Malignant\n",
       "\\item Benign\n",
       "\\item Malignant\n",
       "\\end{enumerate*}\n",
       "\n",
       "\\emph{Levels}: \\begin{enumerate*}\n",
       "\\item 'Benign'\n",
       "\\item 'Malignant'\n",
       "\\end{enumerate*}\n"
      ],
      "text/markdown": [
       "1. Malignant\n",
       "2. Benign\n",
       "3. Malignant\n",
       "4. Benign\n",
       "5. Benign\n",
       "6. Benign\n",
       "7. Benign\n",
       "8. Malignant\n",
       "9. Malignant\n",
       "10. Benign\n",
       "11. Malignant\n",
       "12. Benign\n",
       "13. Benign\n",
       "14. Malignant\n",
       "15. Benign\n",
       "16. Benign\n",
       "17. Malignant\n",
       "18. Malignant\n",
       "19. Malignant\n",
       "20. Malignant\n",
       "21. Benign\n",
       "22. Benign\n",
       "23. Benign\n",
       "24. Malignant\n",
       "25. Malignant\n",
       "26. Malignant\n",
       "27. Malignant\n",
       "28. Benign\n",
       "29. Benign\n",
       "30. Benign\n",
       "31. Benign\n",
       "32. Malignant\n",
       "33. Benign\n",
       "34. Benign\n",
       "35. Benign\n",
       "36. Benign\n",
       "37. Benign\n",
       "38. Benign\n",
       "39. Malignant\n",
       "40. Malignant\n",
       "41. Benign\n",
       "42. Malignant\n",
       "43. Benign\n",
       "44. Benign\n",
       "45. Benign\n",
       "46. Malignant\n",
       "47. Malignant\n",
       "48. Benign\n",
       "49. Benign\n",
       "50. Malignant\n",
       "51. Malignant\n",
       "52. Malignant\n",
       "53. Benign\n",
       "54. Benign\n",
       "55. Malignant\n",
       "56. Malignant\n",
       "57. Benign\n",
       "58. Benign\n",
       "59. Malignant\n",
       "60. Benign\n",
       "61. Benign\n",
       "62. Benign\n",
       "63. Benign\n",
       "64. Malignant\n",
       "65. Malignant\n",
       "66. Benign\n",
       "67. Benign\n",
       "68. Malignant\n",
       "69. Malignant\n",
       "70. Benign\n",
       "71. Malignant\n",
       "72. Malignant\n",
       "73. Benign\n",
       "74. Benign\n",
       "75. Benign\n",
       "76. Benign\n",
       "77. Benign\n",
       "78. Malignant\n",
       "79. Malignant\n",
       "80. Benign\n",
       "81. Malignant\n",
       "82. Malignant\n",
       "83. Malignant\n",
       "84. Benign\n",
       "85. Benign\n",
       "86. Malignant\n",
       "87. Benign\n",
       "88. Malignant\n",
       "89. Benign\n",
       "90. Benign\n",
       "91. Benign\n",
       "92. Benign\n",
       "93. Malignant\n",
       "94. Benign\n",
       "95. Malignant\n",
       "96. Benign\n",
       "97. Benign\n",
       "98. Benign\n",
       "99. Benign\n",
       "100. Malignant\n",
       "101. Benign\n",
       "102. Benign\n",
       "103. Benign\n",
       "104. Benign\n",
       "105. Malignant\n",
       "106. Malignant\n",
       "107. Benign\n",
       "108. Benign\n",
       "109. Malignant\n",
       "110. Benign\n",
       "111. Benign\n",
       "112. Malignant\n",
       "113. Benign\n",
       "114. Malignant\n",
       "\n",
       "\n",
       "\n",
       "**Levels**: 1. 'Benign'\n",
       "2. 'Malignant'\n",
       "\n",
       "\n"
      ],
      "text/plain": [
       "  [1] Malignant Benign    Malignant Benign    Benign    Benign    Benign   \n",
       "  [8] Malignant Malignant Benign    Malignant Benign    Benign    Malignant\n",
       " [15] Benign    Benign    Malignant Malignant Malignant Malignant Benign   \n",
       " [22] Benign    Benign    Malignant Malignant Malignant Malignant Benign   \n",
       " [29] Benign    Benign    Benign    Malignant Benign    Benign    Benign   \n",
       " [36] Benign    Benign    Benign    Malignant Malignant Benign    Malignant\n",
       " [43] Benign    Benign    Benign    Malignant Malignant Benign    Benign   \n",
       " [50] Malignant Malignant Malignant Benign    Benign    Malignant Malignant\n",
       " [57] Benign    Benign    Malignant Benign    Benign    Benign    Benign   \n",
       " [64] Malignant Malignant Benign    Benign    Malignant Malignant Benign   \n",
       " [71] Malignant Malignant Benign    Benign    Benign    Benign    Benign   \n",
       " [78] Malignant Malignant Benign    Malignant Malignant Malignant Benign   \n",
       " [85] Benign    Malignant Benign    Malignant Benign    Benign    Benign   \n",
       " [92] Benign    Malignant Benign    Malignant Benign    Benign    Benign   \n",
       " [99] Benign    Malignant Benign    Benign    Benign    Benign    Malignant\n",
       "[106] Malignant Benign    Benign    Malignant Benign    Benign    Malignant\n",
       "[113] Benign    Malignant\n",
       "Levels: Benign Malignant"
      ]
     },
     "metadata": {},
     "output_type": "display_data"
    }
   ],
   "source": [
    "library(class)\n",
    "wbcd_test_pred <- knn(train = wbcd_train, test = wbcd_test, cl = wbcd_train_labels, k=21)\n",
    "wbcd_test_pred"
   ]
  },
  {
   "cell_type": "code",
   "execution_count": 7,
   "metadata": {},
   "outputs": [
    {
     "data": {
      "text/plain": [
       "              wbcd_test_labels\n",
       "wbcd_test_pred Benign Malignant\n",
       "     Benign        64         3\n",
       "     Malignant      1        46"
      ]
     },
     "metadata": {},
     "output_type": "display_data"
    }
   ],
   "source": [
    "# Evaluating model performance\n",
    "table(wbcd_test_pred,wbcd_test_labels)"
   ]
  },
  {
   "cell_type": "code",
   "execution_count": 8,
   "metadata": {},
   "outputs": [
    {
     "name": "stderr",
     "output_type": "stream",
     "text": [
      "Loading required package: caret\n",
      "Loading required package: lattice\n",
      "Loading required package: ggplot2\n"
     ]
    },
    {
     "data": {
      "text/html": [
       "'train'"
      ],
      "text/latex": [
       "'train'"
      ],
      "text/markdown": [
       "'train'"
      ],
      "text/plain": [
       "[1] \"train\""
      ]
     },
     "metadata": {},
     "output_type": "display_data"
    },
    {
     "data": {
      "text/plain": [
       "k-Nearest Neighbors \n",
       "\n",
       "455 samples\n",
       " 30 predictor\n",
       "  2 classes: 'Benign', 'Malignant' \n",
       "\n",
       "No pre-processing\n",
       "Resampling: Bootstrapped (25 reps) \n",
       "Summary of sample sizes: 455, 455, 455, 455, 455, 455, ... \n",
       "Resampling results across tuning parameters:\n",
       "\n",
       "  k  Accuracy   Kappa    \n",
       "  5  0.9521769  0.8951747\n",
       "  7  0.9587139  0.9094152\n",
       "  9  0.9563613  0.9042244\n",
       "\n",
       "Accuracy was used to select the optimal model using the largest value.\n",
       "The final value used for the model was k = 7."
      ]
     },
     "metadata": {},
     "output_type": "display_data"
    }
   ],
   "source": [
    "require(caret)\n",
    "knnModel <- train(x = wbcd_train, y = wbcd_train_labels, method = \"knn\")\n",
    "class(knnModel)\n",
    "knnModel"
   ]
  },
  {
   "cell_type": "code",
   "execution_count": 9,
   "metadata": {},
   "outputs": [
    {
     "data": {
      "text/plain": [
       "k-Nearest Neighbors \n",
       "\n",
       "455 samples\n",
       " 30 predictor\n",
       "  2 classes: 'Benign', 'Malignant' \n",
       "\n",
       "No pre-processing\n",
       "Resampling: Bootstrapped (25 reps) \n",
       "Summary of sample sizes: 455, 455, 455, 455, 455, 455, ... \n",
       "Resampling results across tuning parameters:\n",
       "\n",
       "  k   Accuracy   Kappa    \n",
       "   1  0.9478945  0.8847191\n",
       "   2  0.9463138  0.8812730\n",
       "   3  0.9488789  0.8871577\n",
       "   4  0.9502554  0.8900188\n",
       "   5  0.9535576  0.8969792\n",
       "   6  0.9570826  0.9046823\n",
       "   7  0.9574269  0.9051750\n",
       "   8  0.9546111  0.8986517\n",
       "   9  0.9563040  0.9024635\n",
       "  10  0.9550870  0.8998954\n",
       "  11  0.9557871  0.9015039\n",
       "  12  0.9562668  0.9023992\n",
       "  13  0.9566278  0.9027401\n",
       "  14  0.9557234  0.9008844\n",
       "  15  0.9545654  0.8983665\n",
       "\n",
       "Accuracy was used to select the optimal model using the largest value.\n",
       "The final value used for the model was k = 7."
      ]
     },
     "metadata": {},
     "output_type": "display_data"
    },
    {
     "data": {
      "text/html": [
       "<table>\n",
       "<thead><tr><th scope=col>k</th><th scope=col>Accuracy</th><th scope=col>Kappa</th><th scope=col>AccuracySD</th><th scope=col>KappaSD</th></tr></thead>\n",
       "<tbody>\n",
       "\t<tr><td> 1        </td><td>0.9478945 </td><td>0.8847191 </td><td>0.01275406</td><td>0.03034491</td></tr>\n",
       "\t<tr><td> 2        </td><td>0.9463138 </td><td>0.8812730 </td><td>0.01458878</td><td>0.03233081</td></tr>\n",
       "\t<tr><td> 3        </td><td>0.9488789 </td><td>0.8871577 </td><td>0.01617309</td><td>0.03435837</td></tr>\n",
       "\t<tr><td> 4        </td><td>0.9502554 </td><td>0.8900188 </td><td>0.01726663</td><td>0.03745958</td></tr>\n",
       "\t<tr><td> 5        </td><td>0.9535576 </td><td>0.8969792 </td><td>0.01453045</td><td>0.03136439</td></tr>\n",
       "\t<tr><td> 6        </td><td>0.9570826 </td><td>0.9046823 </td><td>0.01526867</td><td>0.03360832</td></tr>\n",
       "\t<tr><td> 7        </td><td>0.9574269 </td><td>0.9051750 </td><td>0.01347818</td><td>0.02965065</td></tr>\n",
       "\t<tr><td> 8        </td><td>0.9546111 </td><td>0.8986517 </td><td>0.01476031</td><td>0.03378720</td></tr>\n",
       "\t<tr><td> 9        </td><td>0.9563040 </td><td>0.9024635 </td><td>0.01260454</td><td>0.02787252</td></tr>\n",
       "\t<tr><td>10        </td><td>0.9550870 </td><td>0.8998954 </td><td>0.01298011</td><td>0.02822099</td></tr>\n",
       "\t<tr><td>11        </td><td>0.9557871 </td><td>0.9015039 </td><td>0.01359157</td><td>0.02961247</td></tr>\n",
       "\t<tr><td>12        </td><td>0.9562668 </td><td>0.9023992 </td><td>0.01347443</td><td>0.02935660</td></tr>\n",
       "\t<tr><td>13        </td><td>0.9566278 </td><td>0.9027401 </td><td>0.01222972</td><td>0.02813461</td></tr>\n",
       "\t<tr><td>14        </td><td>0.9557234 </td><td>0.9008844 </td><td>0.01200884</td><td>0.02611681</td></tr>\n",
       "\t<tr><td>15        </td><td>0.9545654 </td><td>0.8983665 </td><td>0.01153953</td><td>0.02477225</td></tr>\n",
       "</tbody>\n",
       "</table>\n"
      ],
      "text/latex": [
       "\\begin{tabular}{r|lllll}\n",
       " k & Accuracy & Kappa & AccuracySD & KappaSD\\\\\n",
       "\\hline\n",
       "\t  1         & 0.9478945  & 0.8847191  & 0.01275406 & 0.03034491\\\\\n",
       "\t  2         & 0.9463138  & 0.8812730  & 0.01458878 & 0.03233081\\\\\n",
       "\t  3         & 0.9488789  & 0.8871577  & 0.01617309 & 0.03435837\\\\\n",
       "\t  4         & 0.9502554  & 0.8900188  & 0.01726663 & 0.03745958\\\\\n",
       "\t  5         & 0.9535576  & 0.8969792  & 0.01453045 & 0.03136439\\\\\n",
       "\t  6         & 0.9570826  & 0.9046823  & 0.01526867 & 0.03360832\\\\\n",
       "\t  7         & 0.9574269  & 0.9051750  & 0.01347818 & 0.02965065\\\\\n",
       "\t  8         & 0.9546111  & 0.8986517  & 0.01476031 & 0.03378720\\\\\n",
       "\t  9         & 0.9563040  & 0.9024635  & 0.01260454 & 0.02787252\\\\\n",
       "\t 10         & 0.9550870  & 0.8998954  & 0.01298011 & 0.02822099\\\\\n",
       "\t 11         & 0.9557871  & 0.9015039  & 0.01359157 & 0.02961247\\\\\n",
       "\t 12         & 0.9562668  & 0.9023992  & 0.01347443 & 0.02935660\\\\\n",
       "\t 13         & 0.9566278  & 0.9027401  & 0.01222972 & 0.02813461\\\\\n",
       "\t 14         & 0.9557234  & 0.9008844  & 0.01200884 & 0.02611681\\\\\n",
       "\t 15         & 0.9545654  & 0.8983665  & 0.01153953 & 0.02477225\\\\\n",
       "\\end{tabular}\n"
      ],
      "text/markdown": [
       "\n",
       "k | Accuracy | Kappa | AccuracySD | KappaSD | \n",
       "|---|---|---|---|---|---|---|---|---|---|---|---|---|---|---|\n",
       "|  1         | 0.9478945  | 0.8847191  | 0.01275406 | 0.03034491 | \n",
       "|  2         | 0.9463138  | 0.8812730  | 0.01458878 | 0.03233081 | \n",
       "|  3         | 0.9488789  | 0.8871577  | 0.01617309 | 0.03435837 | \n",
       "|  4         | 0.9502554  | 0.8900188  | 0.01726663 | 0.03745958 | \n",
       "|  5         | 0.9535576  | 0.8969792  | 0.01453045 | 0.03136439 | \n",
       "|  6         | 0.9570826  | 0.9046823  | 0.01526867 | 0.03360832 | \n",
       "|  7         | 0.9574269  | 0.9051750  | 0.01347818 | 0.02965065 | \n",
       "|  8         | 0.9546111  | 0.8986517  | 0.01476031 | 0.03378720 | \n",
       "|  9         | 0.9563040  | 0.9024635  | 0.01260454 | 0.02787252 | \n",
       "| 10         | 0.9550870  | 0.8998954  | 0.01298011 | 0.02822099 | \n",
       "| 11         | 0.9557871  | 0.9015039  | 0.01359157 | 0.02961247 | \n",
       "| 12         | 0.9562668  | 0.9023992  | 0.01347443 | 0.02935660 | \n",
       "| 13         | 0.9566278  | 0.9027401  | 0.01222972 | 0.02813461 | \n",
       "| 14         | 0.9557234  | 0.9008844  | 0.01200884 | 0.02611681 | \n",
       "| 15         | 0.9545654  | 0.8983665  | 0.01153953 | 0.02477225 | \n",
       "\n",
       "\n"
      ],
      "text/plain": [
       "   k  Accuracy  Kappa     AccuracySD KappaSD   \n",
       "1   1 0.9478945 0.8847191 0.01275406 0.03034491\n",
       "2   2 0.9463138 0.8812730 0.01458878 0.03233081\n",
       "3   3 0.9488789 0.8871577 0.01617309 0.03435837\n",
       "4   4 0.9502554 0.8900188 0.01726663 0.03745958\n",
       "5   5 0.9535576 0.8969792 0.01453045 0.03136439\n",
       "6   6 0.9570826 0.9046823 0.01526867 0.03360832\n",
       "7   7 0.9574269 0.9051750 0.01347818 0.02965065\n",
       "8   8 0.9546111 0.8986517 0.01476031 0.03378720\n",
       "9   9 0.9563040 0.9024635 0.01260454 0.02787252\n",
       "10 10 0.9550870 0.8998954 0.01298011 0.02822099\n",
       "11 11 0.9557871 0.9015039 0.01359157 0.02961247\n",
       "12 12 0.9562668 0.9023992 0.01347443 0.02935660\n",
       "13 13 0.9566278 0.9027401 0.01222972 0.02813461\n",
       "14 14 0.9557234 0.9008844 0.01200884 0.02611681\n",
       "15 15 0.9545654 0.8983665 0.01153953 0.02477225"
      ]
     },
     "metadata": {},
     "output_type": "display_data"
    }
   ],
   "source": [
    "knnModel <- train(wbcd_train, wbcd_train_labels, method=\"knn\", metric=\"Accuracy\", tuneGrid = data.frame(.k=1:15))\n",
    "knnModel\n",
    "knnModel$results"
   ]
  },
  {
   "cell_type": "code",
   "execution_count": 10,
   "metadata": {},
   "outputs": [
    {
     "data": {
      "text/html": [
       "'train'"
      ],
      "text/latex": [
       "'train'"
      ],
      "text/markdown": [
       "'train'"
      ],
      "text/plain": [
       "[1] \"train\""
      ]
     },
     "metadata": {},
     "output_type": "display_data"
    },
    {
     "data": {
      "text/plain": [
       "k-Nearest Neighbors \n",
       "\n",
       "455 samples\n",
       " 30 predictor\n",
       "  2 classes: 'Benign', 'Malignant' \n",
       "\n",
       "Pre-processing: centered (30), scaled (30) \n",
       "Resampling: Bootstrapped (25 reps) \n",
       "Summary of sample sizes: 455, 455, 455, 455, 455, 455, ... \n",
       "Resampling results across tuning parameters:\n",
       "\n",
       "  k  Accuracy   Kappa    \n",
       "  5  0.9548653  0.9003593\n",
       "  7  0.9563098  0.9035668\n",
       "  9  0.9589189  0.9090480\n",
       "\n",
       "Accuracy was used to select the optimal model using the largest value.\n",
       "The final value used for the model was k = 9."
      ]
     },
     "metadata": {},
     "output_type": "display_data"
    }
   ],
   "source": [
    "require(caret)\n",
    "knnModel <- train(x = wbcd[shuffle_ds[1:eightypct],-1], y = wbcd[shuffle_ds[1:eightypct],1], method = \"knn\", preProc = c(\"center\", \"scale\"))\n",
    "class(knnModel)\n",
    "knnModel"
   ]
  },
  {
   "cell_type": "code",
   "execution_count": 11,
   "metadata": {},
   "outputs": [
    {
     "data": {
      "text/html": [
       "<ol class=list-inline>\n",
       "\t<li>Malignant</li>\n",
       "\t<li>Benign</li>\n",
       "\t<li>Malignant</li>\n",
       "\t<li>Benign</li>\n",
       "\t<li>Benign</li>\n",
       "\t<li>Benign</li>\n",
       "\t<li>Benign</li>\n",
       "\t<li>Malignant</li>\n",
       "\t<li>Malignant</li>\n",
       "\t<li>Benign</li>\n",
       "\t<li>Malignant</li>\n",
       "\t<li>Benign</li>\n",
       "\t<li>Benign</li>\n",
       "\t<li>Malignant</li>\n",
       "\t<li>Benign</li>\n",
       "\t<li>Benign</li>\n",
       "\t<li>Malignant</li>\n",
       "\t<li>Malignant</li>\n",
       "\t<li>Malignant</li>\n",
       "\t<li>Malignant</li>\n",
       "\t<li>Benign</li>\n",
       "\t<li>Benign</li>\n",
       "\t<li>Benign</li>\n",
       "\t<li>Malignant</li>\n",
       "\t<li>Malignant</li>\n",
       "\t<li>Malignant</li>\n",
       "\t<li>Malignant</li>\n",
       "\t<li>Benign</li>\n",
       "\t<li>Benign</li>\n",
       "\t<li>Benign</li>\n",
       "\t<li>Benign</li>\n",
       "\t<li>Malignant</li>\n",
       "\t<li>Benign</li>\n",
       "\t<li>Benign</li>\n",
       "\t<li>Benign</li>\n",
       "\t<li>Benign</li>\n",
       "\t<li>Benign</li>\n",
       "\t<li>Benign</li>\n",
       "\t<li>Malignant</li>\n",
       "\t<li>Malignant</li>\n",
       "\t<li>Benign</li>\n",
       "\t<li>Malignant</li>\n",
       "\t<li>Benign</li>\n",
       "\t<li>Benign</li>\n",
       "\t<li>Benign</li>\n",
       "\t<li>Malignant</li>\n",
       "\t<li>Malignant</li>\n",
       "\t<li>Benign</li>\n",
       "\t<li>Benign</li>\n",
       "\t<li>Malignant</li>\n",
       "\t<li>Malignant</li>\n",
       "\t<li>Malignant</li>\n",
       "\t<li>Benign</li>\n",
       "\t<li>Benign</li>\n",
       "\t<li>Malignant</li>\n",
       "\t<li>Malignant</li>\n",
       "\t<li>Benign</li>\n",
       "\t<li>Benign</li>\n",
       "\t<li>Malignant</li>\n",
       "\t<li>Benign</li>\n",
       "\t<li>Benign</li>\n",
       "\t<li>Benign</li>\n",
       "\t<li>Benign</li>\n",
       "\t<li>Malignant</li>\n",
       "\t<li>Malignant</li>\n",
       "\t<li>Benign</li>\n",
       "\t<li>Benign</li>\n",
       "\t<li>Malignant</li>\n",
       "\t<li>Malignant</li>\n",
       "\t<li>Benign</li>\n",
       "\t<li>Malignant</li>\n",
       "\t<li>Malignant</li>\n",
       "\t<li>Benign</li>\n",
       "\t<li>Benign</li>\n",
       "\t<li>Benign</li>\n",
       "\t<li>Benign</li>\n",
       "\t<li>Benign</li>\n",
       "\t<li>Malignant</li>\n",
       "\t<li>Malignant</li>\n",
       "\t<li>Benign</li>\n",
       "\t<li>Malignant</li>\n",
       "\t<li>Malignant</li>\n",
       "\t<li>Malignant</li>\n",
       "\t<li>Benign</li>\n",
       "\t<li>Malignant</li>\n",
       "\t<li>Malignant</li>\n",
       "\t<li>Benign</li>\n",
       "\t<li>Malignant</li>\n",
       "\t<li>Benign</li>\n",
       "\t<li>Benign</li>\n",
       "\t<li>Benign</li>\n",
       "\t<li>Benign</li>\n",
       "\t<li>Malignant</li>\n",
       "\t<li>Benign</li>\n",
       "\t<li>Malignant</li>\n",
       "\t<li>Benign</li>\n",
       "\t<li>Benign</li>\n",
       "\t<li>Benign</li>\n",
       "\t<li>Benign</li>\n",
       "\t<li>Malignant</li>\n",
       "\t<li>Benign</li>\n",
       "\t<li>Benign</li>\n",
       "\t<li>Benign</li>\n",
       "\t<li>Benign</li>\n",
       "\t<li>Malignant</li>\n",
       "\t<li>Malignant</li>\n",
       "\t<li>Benign</li>\n",
       "\t<li>Benign</li>\n",
       "\t<li>Malignant</li>\n",
       "\t<li>Benign</li>\n",
       "\t<li>Benign</li>\n",
       "\t<li>Malignant</li>\n",
       "\t<li>Benign</li>\n",
       "\t<li>Malignant</li>\n",
       "</ol>\n",
       "\n",
       "<details>\n",
       "\t<summary style=display:list-item;cursor:pointer>\n",
       "\t\t<strong>Levels</strong>:\n",
       "\t</summary>\n",
       "\t<ol class=list-inline>\n",
       "\t\t<li>'Benign'</li>\n",
       "\t\t<li>'Malignant'</li>\n",
       "\t</ol>\n",
       "</details>"
      ],
      "text/latex": [
       "\\begin{enumerate*}\n",
       "\\item Malignant\n",
       "\\item Benign\n",
       "\\item Malignant\n",
       "\\item Benign\n",
       "\\item Benign\n",
       "\\item Benign\n",
       "\\item Benign\n",
       "\\item Malignant\n",
       "\\item Malignant\n",
       "\\item Benign\n",
       "\\item Malignant\n",
       "\\item Benign\n",
       "\\item Benign\n",
       "\\item Malignant\n",
       "\\item Benign\n",
       "\\item Benign\n",
       "\\item Malignant\n",
       "\\item Malignant\n",
       "\\item Malignant\n",
       "\\item Malignant\n",
       "\\item Benign\n",
       "\\item Benign\n",
       "\\item Benign\n",
       "\\item Malignant\n",
       "\\item Malignant\n",
       "\\item Malignant\n",
       "\\item Malignant\n",
       "\\item Benign\n",
       "\\item Benign\n",
       "\\item Benign\n",
       "\\item Benign\n",
       "\\item Malignant\n",
       "\\item Benign\n",
       "\\item Benign\n",
       "\\item Benign\n",
       "\\item Benign\n",
       "\\item Benign\n",
       "\\item Benign\n",
       "\\item Malignant\n",
       "\\item Malignant\n",
       "\\item Benign\n",
       "\\item Malignant\n",
       "\\item Benign\n",
       "\\item Benign\n",
       "\\item Benign\n",
       "\\item Malignant\n",
       "\\item Malignant\n",
       "\\item Benign\n",
       "\\item Benign\n",
       "\\item Malignant\n",
       "\\item Malignant\n",
       "\\item Malignant\n",
       "\\item Benign\n",
       "\\item Benign\n",
       "\\item Malignant\n",
       "\\item Malignant\n",
       "\\item Benign\n",
       "\\item Benign\n",
       "\\item Malignant\n",
       "\\item Benign\n",
       "\\item Benign\n",
       "\\item Benign\n",
       "\\item Benign\n",
       "\\item Malignant\n",
       "\\item Malignant\n",
       "\\item Benign\n",
       "\\item Benign\n",
       "\\item Malignant\n",
       "\\item Malignant\n",
       "\\item Benign\n",
       "\\item Malignant\n",
       "\\item Malignant\n",
       "\\item Benign\n",
       "\\item Benign\n",
       "\\item Benign\n",
       "\\item Benign\n",
       "\\item Benign\n",
       "\\item Malignant\n",
       "\\item Malignant\n",
       "\\item Benign\n",
       "\\item Malignant\n",
       "\\item Malignant\n",
       "\\item Malignant\n",
       "\\item Benign\n",
       "\\item Malignant\n",
       "\\item Malignant\n",
       "\\item Benign\n",
       "\\item Malignant\n",
       "\\item Benign\n",
       "\\item Benign\n",
       "\\item Benign\n",
       "\\item Benign\n",
       "\\item Malignant\n",
       "\\item Benign\n",
       "\\item Malignant\n",
       "\\item Benign\n",
       "\\item Benign\n",
       "\\item Benign\n",
       "\\item Benign\n",
       "\\item Malignant\n",
       "\\item Benign\n",
       "\\item Benign\n",
       "\\item Benign\n",
       "\\item Benign\n",
       "\\item Malignant\n",
       "\\item Malignant\n",
       "\\item Benign\n",
       "\\item Benign\n",
       "\\item Malignant\n",
       "\\item Benign\n",
       "\\item Benign\n",
       "\\item Malignant\n",
       "\\item Benign\n",
       "\\item Malignant\n",
       "\\end{enumerate*}\n",
       "\n",
       "\\emph{Levels}: \\begin{enumerate*}\n",
       "\\item 'Benign'\n",
       "\\item 'Malignant'\n",
       "\\end{enumerate*}\n"
      ],
      "text/markdown": [
       "1. Malignant\n",
       "2. Benign\n",
       "3. Malignant\n",
       "4. Benign\n",
       "5. Benign\n",
       "6. Benign\n",
       "7. Benign\n",
       "8. Malignant\n",
       "9. Malignant\n",
       "10. Benign\n",
       "11. Malignant\n",
       "12. Benign\n",
       "13. Benign\n",
       "14. Malignant\n",
       "15. Benign\n",
       "16. Benign\n",
       "17. Malignant\n",
       "18. Malignant\n",
       "19. Malignant\n",
       "20. Malignant\n",
       "21. Benign\n",
       "22. Benign\n",
       "23. Benign\n",
       "24. Malignant\n",
       "25. Malignant\n",
       "26. Malignant\n",
       "27. Malignant\n",
       "28. Benign\n",
       "29. Benign\n",
       "30. Benign\n",
       "31. Benign\n",
       "32. Malignant\n",
       "33. Benign\n",
       "34. Benign\n",
       "35. Benign\n",
       "36. Benign\n",
       "37. Benign\n",
       "38. Benign\n",
       "39. Malignant\n",
       "40. Malignant\n",
       "41. Benign\n",
       "42. Malignant\n",
       "43. Benign\n",
       "44. Benign\n",
       "45. Benign\n",
       "46. Malignant\n",
       "47. Malignant\n",
       "48. Benign\n",
       "49. Benign\n",
       "50. Malignant\n",
       "51. Malignant\n",
       "52. Malignant\n",
       "53. Benign\n",
       "54. Benign\n",
       "55. Malignant\n",
       "56. Malignant\n",
       "57. Benign\n",
       "58. Benign\n",
       "59. Malignant\n",
       "60. Benign\n",
       "61. Benign\n",
       "62. Benign\n",
       "63. Benign\n",
       "64. Malignant\n",
       "65. Malignant\n",
       "66. Benign\n",
       "67. Benign\n",
       "68. Malignant\n",
       "69. Malignant\n",
       "70. Benign\n",
       "71. Malignant\n",
       "72. Malignant\n",
       "73. Benign\n",
       "74. Benign\n",
       "75. Benign\n",
       "76. Benign\n",
       "77. Benign\n",
       "78. Malignant\n",
       "79. Malignant\n",
       "80. Benign\n",
       "81. Malignant\n",
       "82. Malignant\n",
       "83. Malignant\n",
       "84. Benign\n",
       "85. Malignant\n",
       "86. Malignant\n",
       "87. Benign\n",
       "88. Malignant\n",
       "89. Benign\n",
       "90. Benign\n",
       "91. Benign\n",
       "92. Benign\n",
       "93. Malignant\n",
       "94. Benign\n",
       "95. Malignant\n",
       "96. Benign\n",
       "97. Benign\n",
       "98. Benign\n",
       "99. Benign\n",
       "100. Malignant\n",
       "101. Benign\n",
       "102. Benign\n",
       "103. Benign\n",
       "104. Benign\n",
       "105. Malignant\n",
       "106. Malignant\n",
       "107. Benign\n",
       "108. Benign\n",
       "109. Malignant\n",
       "110. Benign\n",
       "111. Benign\n",
       "112. Malignant\n",
       "113. Benign\n",
       "114. Malignant\n",
       "\n",
       "\n",
       "\n",
       "**Levels**: 1. 'Benign'\n",
       "2. 'Malignant'\n",
       "\n",
       "\n"
      ],
      "text/plain": [
       "  [1] Malignant Benign    Malignant Benign    Benign    Benign    Benign   \n",
       "  [8] Malignant Malignant Benign    Malignant Benign    Benign    Malignant\n",
       " [15] Benign    Benign    Malignant Malignant Malignant Malignant Benign   \n",
       " [22] Benign    Benign    Malignant Malignant Malignant Malignant Benign   \n",
       " [29] Benign    Benign    Benign    Malignant Benign    Benign    Benign   \n",
       " [36] Benign    Benign    Benign    Malignant Malignant Benign    Malignant\n",
       " [43] Benign    Benign    Benign    Malignant Malignant Benign    Benign   \n",
       " [50] Malignant Malignant Malignant Benign    Benign    Malignant Malignant\n",
       " [57] Benign    Benign    Malignant Benign    Benign    Benign    Benign   \n",
       " [64] Malignant Malignant Benign    Benign    Malignant Malignant Benign   \n",
       " [71] Malignant Malignant Benign    Benign    Benign    Benign    Benign   \n",
       " [78] Malignant Malignant Benign    Malignant Malignant Malignant Benign   \n",
       " [85] Malignant Malignant Benign    Malignant Benign    Benign    Benign   \n",
       " [92] Benign    Malignant Benign    Malignant Benign    Benign    Benign   \n",
       " [99] Benign    Malignant Benign    Benign    Benign    Benign    Malignant\n",
       "[106] Malignant Benign    Benign    Malignant Benign    Benign    Malignant\n",
       "[113] Benign    Malignant\n",
       "Levels: Benign Malignant"
      ]
     },
     "metadata": {},
     "output_type": "display_data"
    }
   ],
   "source": [
    "knnPred <- predict(knnModel, newdata = wbcd[shuffle_ds[(eightypct+1):dim(wbcd_n)[1]], -1])\n",
    "knnPred"
   ]
  },
  {
   "cell_type": "code",
   "execution_count": 12,
   "metadata": {},
   "outputs": [
    {
     "data": {
      "text/html": [
       "<dl class=dl-horizontal>\n",
       "\t<dt>Accuracy</dt>\n",
       "\t\t<dd>0.973684210526316</dd>\n",
       "\t<dt>Kappa</dt>\n",
       "\t\t<dd>0.946175637393768</dd>\n",
       "</dl>\n"
      ],
      "text/latex": [
       "\\begin{description*}\n",
       "\\item[Accuracy] 0.973684210526316\n",
       "\\item[Kappa] 0.946175637393768\n",
       "\\end{description*}\n"
      ],
      "text/markdown": [
       "Accuracy\n",
       ":   0.973684210526316Kappa\n",
       ":   0.946175637393768\n",
       "\n"
      ],
      "text/plain": [
       " Accuracy     Kappa \n",
       "0.9736842 0.9461756 "
      ]
     },
     "metadata": {},
     "output_type": "display_data"
    }
   ],
   "source": [
    "postResample(pred = knnPred, obs = wbcd[shuffle_ds[(eightypct+1):dim(wbcd_n)[1]], 1])"
   ]
  },
  {
   "cell_type": "code",
   "execution_count": 13,
   "metadata": {},
   "outputs": [
    {
     "data": {
      "text/plain": [
       "k-Nearest Neighbors \n",
       "\n",
       "455 samples\n",
       " 30 predictor\n",
       "  2 classes: 'Benign', 'Malignant' \n",
       "\n",
       "No pre-processing\n",
       "Resampling: Bootstrapped (25 reps) \n",
       "Summary of sample sizes: 455, 455, 455, 455, 455, 455, ... \n",
       "Resampling results across tuning parameters:\n",
       "\n",
       "  k   Accuracy   Kappa    \n",
       "   1  0.9484865  0.8870499\n",
       "   3  0.9517521  0.8937340\n",
       "   5  0.9536736  0.8974576\n",
       "   7  0.9553670  0.9007900\n",
       "   9  0.9544674  0.8986978\n",
       "  11  0.9561944  0.9024569\n",
       "  13  0.9556020  0.9008999\n",
       "  15  0.9529198  0.8944641\n",
       "  17  0.9534857  0.8958782\n",
       "  19  0.9559035  0.9010304\n",
       "\n",
       "Accuracy was used to select the optimal model using the largest value.\n",
       "The final value used for the model was k = 11."
      ]
     },
     "metadata": {},
     "output_type": "display_data"
    },
    {
     "data": {
      "text/html": [
       "<table>\n",
       "<thead><tr><th scope=col>k</th><th scope=col>Accuracy</th></tr></thead>\n",
       "<tbody>\n",
       "\t<tr><td> 1       </td><td>0.9484865</td></tr>\n",
       "\t<tr><td> 3       </td><td>0.9517521</td></tr>\n",
       "\t<tr><td> 5       </td><td>0.9536736</td></tr>\n",
       "\t<tr><td> 7       </td><td>0.9553670</td></tr>\n",
       "\t<tr><td> 9       </td><td>0.9544674</td></tr>\n",
       "\t<tr><td>11       </td><td>0.9561944</td></tr>\n",
       "\t<tr><td>13       </td><td>0.9556020</td></tr>\n",
       "\t<tr><td>15       </td><td>0.9529198</td></tr>\n",
       "\t<tr><td>17       </td><td>0.9534857</td></tr>\n",
       "\t<tr><td>19       </td><td>0.9559035</td></tr>\n",
       "</tbody>\n",
       "</table>\n"
      ],
      "text/latex": [
       "\\begin{tabular}{r|ll}\n",
       " k & Accuracy\\\\\n",
       "\\hline\n",
       "\t  1        & 0.9484865\\\\\n",
       "\t  3        & 0.9517521\\\\\n",
       "\t  5        & 0.9536736\\\\\n",
       "\t  7        & 0.9553670\\\\\n",
       "\t  9        & 0.9544674\\\\\n",
       "\t 11        & 0.9561944\\\\\n",
       "\t 13        & 0.9556020\\\\\n",
       "\t 15        & 0.9529198\\\\\n",
       "\t 17        & 0.9534857\\\\\n",
       "\t 19        & 0.9559035\\\\\n",
       "\\end{tabular}\n"
      ],
      "text/markdown": [
       "\n",
       "k | Accuracy | \n",
       "|---|---|---|---|---|---|---|---|---|---|\n",
       "|  1        | 0.9484865 | \n",
       "|  3        | 0.9517521 | \n",
       "|  5        | 0.9536736 | \n",
       "|  7        | 0.9553670 | \n",
       "|  9        | 0.9544674 | \n",
       "| 11        | 0.9561944 | \n",
       "| 13        | 0.9556020 | \n",
       "| 15        | 0.9529198 | \n",
       "| 17        | 0.9534857 | \n",
       "| 19        | 0.9559035 | \n",
       "\n",
       "\n"
      ],
      "text/plain": [
       "   k  Accuracy \n",
       "1   1 0.9484865\n",
       "2   3 0.9517521\n",
       "3   5 0.9536736\n",
       "4   7 0.9553670\n",
       "5   9 0.9544674\n",
       "6  11 0.9561944\n",
       "7  13 0.9556020\n",
       "8  15 0.9529198\n",
       "9  17 0.9534857\n",
       "10 19 0.9559035"
      ]
     },
     "metadata": {},
     "output_type": "display_data"
    }
   ],
   "source": [
    "# Ejercicio, probar con diferentes valores de k y\n",
    "# dibujar un plot con los resultados.\n",
    "\n",
    "# Primero crearemos una lista con los nivesles de k que nos interesan\n",
    "# para ello iremos desde 1 hasta 20, quedandonos solamente con los valores\n",
    "# impares, ya que con valores impares podría darse empates con knn.\n",
    "\n",
    "ks = 1:20\n",
    "ks = ks[ks%%2 != 0]\n",
    "\n",
    "# Ahora crearemos un modelo que utilice esta lista de puntos y nos devuelva\n",
    "# los valores de accuracy para cada k\n",
    "knnModel <- train(wbcd_train, wbcd_train_labels, method=\"knn\", metric=\"Accuracy\", tuneGrid = data.frame(.k=ks))\n",
    "knnModel\n",
    "\n",
    "# Obtenemos los resultados del modelo.\n",
    "resultados = knnModel$results[,c(\"k\",\"Accuracy\")]\n",
    "resultados"
   ]
  },
  {
   "cell_type": "code",
   "execution_count": 14,
   "metadata": {},
   "outputs": [
    {
     "data": {},
     "metadata": {},
     "output_type": "display_data"
    },
    {
     "data": {
      "image/png": "[encoded data removed]",
      "text/plain": [
       "plot without title"
      ]
     },
     "metadata": {},
     "output_type": "display_data"
    }
   ],
   "source": [
    "library(ggplot2)\n",
    "ggplot(resultados,aes(x=k,y=Accuracy))+geom_line()+\n",
    "geom_point(col=\"deepskyblue\")+\n",
    "scale_x_continuous(breaks=resultados$k)"
   ]
  },
  {
   "cell_type": "markdown",
   "metadata": {},
   "source": [
    "Según lo que se puede ver en la gráfica, el mejor valor para k es 5 para este conjunto de datos, ya que obtiene mejores resultados que todos los otros k. Otros valores cercanos como 3,7 o 9 obtienen también resultados buenos (Además son valores usuales para knn). Para valores grandes, se puede ver que los resultados son peores, por ello no se suelen elegir normalmente. (Con otras ejecuciones los resultados de la gráfica pueden ser diferentes)"
   ]
  },
  {
   "cell_type": "markdown",
   "metadata": {},
   "source": [
    "### Ejercicio 2\n",
    "Hacer un 10 fold-cv con una regressión logística"
   ]
  },
  {
   "cell_type": "code",
   "execution_count": 15,
   "metadata": {},
   "outputs": [
    {
     "data": {
      "text/html": [
       "<ol class=list-inline>\n",
       "\t<li>'Year'</li>\n",
       "\t<li>'Lag1'</li>\n",
       "\t<li>'Lag2'</li>\n",
       "\t<li>'Lag3'</li>\n",
       "\t<li>'Lag4'</li>\n",
       "\t<li>'Lag5'</li>\n",
       "\t<li>'Volume'</li>\n",
       "\t<li>'Today'</li>\n",
       "\t<li>'Direction'</li>\n",
       "</ol>\n"
      ],
      "text/latex": [
       "\\begin{enumerate*}\n",
       "\\item 'Year'\n",
       "\\item 'Lag1'\n",
       "\\item 'Lag2'\n",
       "\\item 'Lag3'\n",
       "\\item 'Lag4'\n",
       "\\item 'Lag5'\n",
       "\\item 'Volume'\n",
       "\\item 'Today'\n",
       "\\item 'Direction'\n",
       "\\end{enumerate*}\n"
      ],
      "text/markdown": [
       "1. 'Year'\n",
       "2. 'Lag1'\n",
       "3. 'Lag2'\n",
       "4. 'Lag3'\n",
       "5. 'Lag4'\n",
       "6. 'Lag5'\n",
       "7. 'Volume'\n",
       "8. 'Today'\n",
       "9. 'Direction'\n",
       "\n",
       "\n"
      ],
      "text/plain": [
       "[1] \"Year\"      \"Lag1\"      \"Lag2\"      \"Lag3\"      \"Lag4\"      \"Lag5\"     \n",
       "[7] \"Volume\"    \"Today\"     \"Direction\""
      ]
     },
     "metadata": {},
     "output_type": "display_data"
    },
    {
     "data": {
      "text/plain": [
       "      Year           Lag1                Lag2                Lag3          \n",
       " Min.   :2001   Min.   :-4.922000   Min.   :-4.922000   Min.   :-4.922000  \n",
       " 1st Qu.:2002   1st Qu.:-0.639500   1st Qu.:-0.639500   1st Qu.:-0.640000  \n",
       " Median :2003   Median : 0.039000   Median : 0.039000   Median : 0.038500  \n",
       " Mean   :2003   Mean   : 0.003834   Mean   : 0.003919   Mean   : 0.001716  \n",
       " 3rd Qu.:2004   3rd Qu.: 0.596750   3rd Qu.: 0.596750   3rd Qu.: 0.596750  \n",
       " Max.   :2005   Max.   : 5.733000   Max.   : 5.733000   Max.   : 5.733000  \n",
       "      Lag4                Lag5              Volume           Today          \n",
       " Min.   :-4.922000   Min.   :-4.92200   Min.   :0.3561   Min.   :-4.922000  \n",
       " 1st Qu.:-0.640000   1st Qu.:-0.64000   1st Qu.:1.2574   1st Qu.:-0.639500  \n",
       " Median : 0.038500   Median : 0.03850   Median :1.4229   Median : 0.038500  \n",
       " Mean   : 0.001636   Mean   : 0.00561   Mean   :1.4783   Mean   : 0.003138  \n",
       " 3rd Qu.: 0.596750   3rd Qu.: 0.59700   3rd Qu.:1.6417   3rd Qu.: 0.596750  \n",
       " Max.   : 5.733000   Max.   : 5.73300   Max.   :3.1525   Max.   : 5.733000  \n",
       " Direction \n",
       " Down:602  \n",
       " Up  :648  \n",
       "           \n",
       "           \n",
       "           \n",
       "           "
      ]
     },
     "metadata": {},
     "output_type": "display_data"
    }
   ],
   "source": [
    "# Leemos el dataset\n",
    "library(ISLR)\n",
    "names(Smarket)\n",
    "summary(Smarket)"
   ]
  },
  {
   "cell_type": "code",
   "execution_count": 16,
   "metadata": {},
   "outputs": [
    {
     "data": {
      "image/png": "[encoded data removed]",
      "text/plain": [
       "plot without title"
      ]
     },
     "metadata": {},
     "output_type": "display_data"
    }
   ],
   "source": [
    "pairs(Smarket, col=Smarket$Direction)"
   ]
  },
  {
   "cell_type": "code",
   "execution_count": 17,
   "metadata": {},
   "outputs": [
    {
     "name": "stderr",
     "output_type": "stream",
     "text": [
      "Warning message:\n",
      "\"glm.fit: fitted probabilities numerically 0 or 1 occurred\"Warning message:\n",
      "\"glm.fit: fitted probabilities numerically 0 or 1 occurred\"Warning message:\n",
      "\"glm.fit: fitted probabilities numerically 0 or 1 occurred\"Warning message:\n",
      "\"glm.fit: fitted probabilities numerically 0 or 1 occurred\"Warning message:\n",
      "\"glm.fit: fitted probabilities numerically 0 or 1 occurred\"Warning message:\n",
      "\"glm.fit: fitted probabilities numerically 0 or 1 occurred\"Warning message:\n",
      "\"glm.fit: fitted probabilities numerically 0 or 1 occurred\"Warning message:\n",
      "\"glm.fit: fitted probabilities numerically 0 or 1 occurred\"Warning message:\n",
      "\"glm.fit: fitted probabilities numerically 0 or 1 occurred\"Warning message:\n",
      "\"glm.fit: fitted probabilities numerically 0 or 1 occurred\"Warning message:\n",
      "\"glm.fit: fitted probabilities numerically 0 or 1 occurred\""
     ]
    },
    {
     "data": {
      "text/plain": [
       "Generalized Linear Model \n",
       "\n",
       "1250 samples\n",
       "   8 predictor\n",
       "   2 classes: 'Down', 'Up' \n",
       "\n",
       "Pre-processing: centered (8), scaled (8) \n",
       "Resampling: Cross-Validated (10 fold) \n",
       "Summary of sample sizes: 1125, 1125, 1124, 1124, 1125, 1125, ... \n",
       "Resampling results:\n",
       "\n",
       "  Accuracy   Kappa    \n",
       "  0.9936062  0.9871929\n"
      ]
     },
     "metadata": {},
     "output_type": "display_data"
    }
   ],
   "source": [
    "glmFit = train(Smarket[,-9],y= Smarket[,9],\n",
    "              method = \"glm\", preProcess = c(\"center\",\"scale\"),\n",
    "              tuneLength = 10,control=glm.control(maxit=500),\n",
    "              trControl = trainControl(method = \"cv\"))\n",
    "glmFit"
   ]
  },
  {
   "cell_type": "markdown",
   "metadata": {},
   "source": [
    "### Ejercicio 3\n",
    "Probar LDA con todas la variables. Comparar con Regresión Logística y LDA. Por último, probar con QDA, comparar los resultados y pintarlos."
   ]
  },
  {
   "cell_type": "code",
   "execution_count": 18,
   "metadata": {},
   "outputs": [
    {
     "data": {
      "text/plain": [
       "\n",
       "\tShapiro-Wilk normality test\n",
       "\n",
       "data:  Smarket$Lag1\n",
       "W = 0.97219, p-value = 8.889e-15\n"
      ]
     },
     "metadata": {},
     "output_type": "display_data"
    },
    {
     "data": {
      "text/plain": [
       "\n",
       "\tShapiro-Wilk normality test\n",
       "\n",
       "data:  Smarket$Lag2\n",
       "W = 0.97217, p-value = 8.798e-15\n"
      ]
     },
     "metadata": {},
     "output_type": "display_data"
    },
    {
     "data": {
      "text/plain": [
       "\n",
       "\tShapiro-Wilk normality test\n",
       "\n",
       "data:  Smarket$Lag3\n",
       "W = 0.9724, p-value = 1.035e-14\n"
      ]
     },
     "metadata": {},
     "output_type": "display_data"
    },
    {
     "data": {
      "text/plain": [
       "\n",
       "\tShapiro-Wilk normality test\n",
       "\n",
       "data:  Smarket$Lag4\n",
       "W = 0.97242, p-value = 1.049e-14\n"
      ]
     },
     "metadata": {},
     "output_type": "display_data"
    },
    {
     "data": {
      "text/plain": [
       "\n",
       "\tShapiro-Wilk normality test\n",
       "\n",
       "data:  Smarket$Lag5\n",
       "W = 0.97011, p-value = 2.149e-15\n"
      ]
     },
     "metadata": {},
     "output_type": "display_data"
    }
   ],
   "source": [
    "# Primero comprobamos si la varianza de todas las variables es igual.\n",
    "# Y que la distribución de las variables son normales.\n",
    "\n",
    "library(MASS)\n",
    "library(ISLR)\n",
    "shapiro.test(Smarket$Lag1)\n",
    "shapiro.test(Smarket$Lag2)\n",
    "shapiro.test(Smarket$Lag3)\n",
    "shapiro.test(Smarket$Lag4)\n",
    "shapiro.test(Smarket$Lag5)\n",
    "\n",
    "# Dado los resultados del test, sabemos que los datos no tienen una\n",
    "# distribución normal. Esto hará que LDA no funcione bien."
   ]
  },
  {
   "cell_type": "code",
   "execution_count": 19,
   "metadata": {},
   "outputs": [
    {
     "data": {
      "text/html": [
       "1.29117506222642"
      ],
      "text/latex": [
       "1.29117506222642"
      ],
      "text/markdown": [
       "1.29117506222642"
      ],
      "text/plain": [
       "[1] 1.291175"
      ]
     },
     "metadata": {},
     "output_type": "display_data"
    },
    {
     "data": {
      "text/html": [
       "1.2911328189265"
      ],
      "text/latex": [
       "1.2911328189265"
      ],
      "text/markdown": [
       "1.2911328189265"
      ],
      "text/plain": [
       "[1] 1.291133"
      ]
     },
     "metadata": {},
     "output_type": "display_data"
    },
    {
     "data": {
      "text/html": [
       "1.29664442448359"
      ],
      "text/latex": [
       "1.29664442448359"
      ],
      "text/markdown": [
       "1.29664442448359"
      ],
      "text/plain": [
       "[1] 1.296644"
      ]
     },
     "metadata": {},
     "output_type": "display_data"
    },
    {
     "data": {
      "text/html": [
       "1.29680562160128"
      ],
      "text/latex": [
       "1.29680562160128"
      ],
      "text/markdown": [
       "1.29680562160128"
      ],
      "text/plain": [
       "[1] 1.296806"
      ]
     },
     "metadata": {},
     "output_type": "display_data"
    },
    {
     "data": {
      "text/html": [
       "1.31687148397502"
      ],
      "text/latex": [
       "1.31687148397502"
      ],
      "text/markdown": [
       "1.31687148397502"
      ],
      "text/plain": [
       "[1] 1.316871"
      ]
     },
     "metadata": {},
     "output_type": "display_data"
    }
   ],
   "source": [
    "var(Smarket$Lag1)\n",
    "var(Smarket$Lag2)\n",
    "var(Smarket$Lag3)\n",
    "var(Smarket$Lag4)\n",
    "var(Smarket$Lag5)\n",
    "\n",
    "# Como se puede ver, las varianzas de las variables son parecidas, menos para\n",
    "# el caso de la variable 'Lag5', esto afectará a los resultados del LDA"
   ]
  },
  {
   "cell_type": "code",
   "execution_count": 20,
   "metadata": {},
   "outputs": [
    {
     "data": {
      "text/plain": [
       "Call:\n",
       "lda(Direction ~ Lag1 + Lag2 + Lag3 + Lag4 + Lag5, data = Smarket, \n",
       "    subset = Year < 2005)\n",
       "\n",
       "Prior probabilities of groups:\n",
       "    Down       Up \n",
       "0.491984 0.508016 \n",
       "\n",
       "Group means:\n",
       "            Lag1        Lag2         Lag3         Lag4          Lag5\n",
       "Down  0.04279022  0.03389409 -0.009806517 -0.010598778  0.0043665988\n",
       "Up   -0.03954635 -0.03132544  0.005834320  0.003110454 -0.0006508876\n",
       "\n",
       "Coefficients of linear discriminants:\n",
       "             LD1\n",
       "Lag1 -0.63046918\n",
       "Lag2 -0.50221745\n",
       "Lag3  0.10142974\n",
       "Lag4  0.09725317\n",
       "Lag5 -0.03685767"
      ]
     },
     "metadata": {},
     "output_type": "display_data"
    }
   ],
   "source": [
    "# Ahora aplicamos LDA.\n",
    "lda.fit = lda(Direction~Lag1+Lag2+Lag3+Lag4+Lag5, data=Smarket, subset=Year<2005)\n",
    "lda.fit"
   ]
  },
  {
   "cell_type": "code",
   "execution_count": 21,
   "metadata": {},
   "outputs": [
    {
     "data": {
      "image/png": "[encoded data removed]",
      "text/plain": [
       "plot without title"
      ]
     },
     "metadata": {},
     "output_type": "display_data"
    }
   ],
   "source": [
    "plot(lda.fit, type=\"both\", xlab=\"LD1\", ylab=\"Normalized frecuency\")"
   ]
  },
  {
   "cell_type": "code",
   "execution_count": 22,
   "metadata": {},
   "outputs": [
    {
     "name": "stdout",
     "output_type": "stream",
     "text": [
      "[1] \"Tabla de resultados para glm\"\n"
     ]
    },
    {
     "data": {
      "text/plain": [
       "      \n",
       "       Down  Up\n",
       "  Down   37  30\n",
       "  Up     74 111"
      ]
     },
     "metadata": {},
     "output_type": "display_data"
    },
    {
     "data": {
      "text/html": [
       "0.587301587301587"
      ],
      "text/latex": [
       "0.587301587301587"
      ],
      "text/markdown": [
       "0.587301587301587"
      ],
      "text/plain": [
       "[1] 0.5873016"
      ]
     },
     "metadata": {},
     "output_type": "display_data"
    },
    {
     "name": "stdout",
     "output_type": "stream",
     "text": [
      "[1] \"Tabla de resultados para lda\"\n"
     ]
    },
    {
     "data": {
      "text/plain": [
       "      \n",
       "       Down  Up\n",
       "  Down   37  30\n",
       "  Up     74 111"
      ]
     },
     "metadata": {},
     "output_type": "display_data"
    },
    {
     "data": {
      "text/html": [
       "0.587301587301587"
      ],
      "text/latex": [
       "0.587301587301587"
      ],
      "text/markdown": [
       "0.587301587301587"
      ],
      "text/plain": [
       "[1] 0.5873016"
      ]
     },
     "metadata": {},
     "output_type": "display_data"
    }
   ],
   "source": [
    "# Ahora por ejemplo utilizaremos un subconjunto de los datos para\n",
    "# comparar con Regressión Lineal.\n",
    "Smarket.2005 = subset(Smarket,Year==2005)\n",
    "glmFit = glm(Direction~Lag1+Lag2+Lag3+Lag4+Lag5,data=Smarket,family=binomial,\n",
    "            subset=Year<2005)\n",
    "glm.pred = predict(glmFit,Smarket.2005,type=\"response\")\n",
    "glm.pred = data.frame(prob=glm.pred)\n",
    "glm.pred$class = ifelse(glm.pred$prob < 0.5, \"Down\",\"Up\")\n",
    "lda.pred = predict(lda.fit,Smarket.2005)\n",
    "\n",
    "print(\"Tabla de resultados para glm\")\n",
    "table(glm.pred$class,Smarket.2005$Direction)\n",
    "mean(glm.pred$class==Smarket.2005$Direction)\n",
    "\n",
    "print(\"Tabla de resultados para lda\")\n",
    "table(lda.pred$class,Smarket.2005$Direction)\n",
    "mean(lda.pred$class==Smarket.2005$Direction)\n",
    "\n",
    "# Para estos datos y para las variables elegidas el error es el mismo.\n",
    "# Por lo cual ninguno de los dos es buen predictor."
   ]
  },
  {
   "cell_type": "code",
   "execution_count": 23,
   "metadata": {},
   "outputs": [
    {
     "data": {
      "image/png": "[encoded data removed]",
      "text/plain": [
       "Plot with title \"Partition Plot\""
      ]
     },
     "metadata": {},
     "output_type": "display_data"
    }
   ],
   "source": [
    "library(klaR)\n",
    "partimat(Direction~Lag1+Lag2+Lag3+Lag4+Lag5,data=Smarket, method=\"lda\")"
   ]
  },
  {
   "cell_type": "code",
   "execution_count": 24,
   "metadata": {},
   "outputs": [
    {
     "data": {
      "text/html": [
       "1.27913706688038"
      ],
      "text/latex": [
       "1.27913706688038"
      ],
      "text/markdown": [
       "1.27913706688038"
      ],
      "text/plain": [
       "[1] 1.279137"
      ]
     },
     "metadata": {},
     "output_type": "display_data"
    },
    {
     "data": {
      "text/html": [
       "1.24717074806801"
      ],
      "text/latex": [
       "1.24717074806801"
      ],
      "text/markdown": [
       "1.24717074806801"
      ],
      "text/plain": [
       "[1] 1.247171"
      ]
     },
     "metadata": {},
     "output_type": "display_data"
    },
    {
     "data": {
      "text/html": [
       "1.30204143704291"
      ],
      "text/latex": [
       "1.30204143704291"
      ],
      "text/markdown": [
       "1.30204143704291"
      ],
      "text/plain": [
       "[1] 1.302041"
      ]
     },
     "metadata": {},
     "output_type": "display_data"
    },
    {
     "data": {
      "text/html": [
       "1.33905195969342"
      ],
      "text/latex": [
       "1.33905195969342"
      ],
      "text/markdown": [
       "1.33905195969342"
      ],
      "text/plain": [
       "[1] 1.339052"
      ]
     },
     "metadata": {},
     "output_type": "display_data"
    },
    {
     "data": {
      "text/html": [
       "1.27785074789389"
      ],
      "text/latex": [
       "1.27785074789389"
      ],
      "text/markdown": [
       "1.27785074789389"
      ],
      "text/plain": [
       "[1] 1.277851"
      ]
     },
     "metadata": {},
     "output_type": "display_data"
    },
    {
     "data": {
      "text/html": [
       "1.22092377886303"
      ],
      "text/latex": [
       "1.22092377886303"
      ],
      "text/markdown": [
       "1.22092377886303"
      ],
      "text/plain": [
       "[1] 1.220924"
      ]
     },
     "metadata": {},
     "output_type": "display_data"
    },
    {
     "data": {
      "text/html": [
       "1.31893272233984"
      ],
      "text/latex": [
       "1.31893272233984"
      ],
      "text/markdown": [
       "1.31893272233984"
      ],
      "text/plain": [
       "[1] 1.318933"
      ]
     },
     "metadata": {},
     "output_type": "display_data"
    },
    {
     "data": {
      "text/html": [
       "1.38060525375758"
      ],
      "text/latex": [
       "1.38060525375758"
      ],
      "text/markdown": [
       "1.38060525375758"
      ],
      "text/plain": [
       "[1] 1.380605"
      ]
     },
     "metadata": {},
     "output_type": "display_data"
    },
    {
     "data": {
      "text/html": [
       "1.36348271540061"
      ],
      "text/latex": [
       "1.36348271540061"
      ],
      "text/markdown": [
       "1.36348271540061"
      ],
      "text/plain": [
       "[1] 1.363483"
      ]
     },
     "metadata": {},
     "output_type": "display_data"
    },
    {
     "data": {
      "text/html": [
       "1.26880333331491"
      ],
      "text/latex": [
       "1.26880333331491"
      ],
      "text/markdown": [
       "1.26880333331491"
      ],
      "text/plain": [
       "[1] 1.268803"
      ]
     },
     "metadata": {},
     "output_type": "display_data"
    }
   ],
   "source": [
    "# Ahora pasamos a ejecutar QDA, pero primero debemos ver si las varianzas\n",
    "# de los predictores para cada clase son diferentes.\n",
    "var(Smarket[Smarket$Direction == \"Up\",]$Lag1)\n",
    "var(Smarket[Smarket$Direction == \"Up\",]$Lag2)\n",
    "var(Smarket[Smarket$Direction == \"Down\",]$Lag1)\n",
    "var(Smarket[Smarket$Direction == \"Down\",]$Lag2)\n",
    "var(Smarket[Smarket$Direction == \"Up\",]$Lag3)\n",
    "var(Smarket[Smarket$Direction == \"Up\",]$Lag4)\n",
    "var(Smarket[Smarket$Direction == \"Down\",]$Lag3)\n",
    "var(Smarket[Smarket$Direction == \"Down\",]$Lag4)\n",
    "var(Smarket[Smarket$Direction == \"Up\",]$Lag5)\n",
    "var(Smarket[Smarket$Direction == \"Down\",]$Lag5)"
   ]
  },
  {
   "cell_type": "code",
   "execution_count": 25,
   "metadata": {},
   "outputs": [
    {
     "data": {
      "text/plain": [
       "Call:\n",
       "qda(Direction ~ Lag1 + Lag2 + Lag3 + Lag4 + Lag5, data = Smarket, \n",
       "    subset = Year < 2005)\n",
       "\n",
       "Prior probabilities of groups:\n",
       "    Down       Up \n",
       "0.491984 0.508016 \n",
       "\n",
       "Group means:\n",
       "            Lag1        Lag2         Lag3         Lag4          Lag5\n",
       "Down  0.04279022  0.03389409 -0.009806517 -0.010598778  0.0043665988\n",
       "Up   -0.03954635 -0.03132544  0.005834320  0.003110454 -0.0006508876"
      ]
     },
     "metadata": {},
     "output_type": "display_data"
    }
   ],
   "source": [
    "# Ejecutamos el algoritmo de QDA.\n",
    "qda.fit = qda(Direction~Lag1+Lag2+Lag3+Lag4+Lag5, data=Smarket,\n",
    "             subset=Year<2005)\n",
    "qda.fit"
   ]
  },
  {
   "cell_type": "code",
   "execution_count": 26,
   "metadata": {},
   "outputs": [
    {
     "data": {
      "text/plain": [
       "      \n",
       "       Down  Up\n",
       "  Down   37  35\n",
       "  Up     74 106"
      ]
     },
     "metadata": {},
     "output_type": "display_data"
    },
    {
     "data": {
      "text/html": [
       "0.567460317460317"
      ],
      "text/latex": [
       "0.567460317460317"
      ],
      "text/markdown": [
       "0.567460317460317"
      ],
      "text/plain": [
       "[1] 0.5674603"
      ]
     },
     "metadata": {},
     "output_type": "display_data"
    }
   ],
   "source": [
    "# Predecimos los datos para qda.\n",
    "qda.pred = predict(qda.fit, Smarket.2005)\n",
    "table(qda.pred$class, Smarket.2005$Direction)\n",
    "mean(qda.pred$class==Smarket.2005$Direction)\n",
    "\n",
    "# Como se puede ver, aunque  el resultado no sea mucho mejor que para LDA\n",
    "# o para Regresión Lineal."
   ]
  },
  {
   "cell_type": "code",
   "execution_count": 27,
   "metadata": {
    "scrolled": false
   },
   "outputs": [
    {
     "data": {
      "image/png": "[encoded data removed]",
      "text/plain": [
       "Plot with title \"Partition Plot\""
      ]
     },
     "metadata": {},
     "output_type": "display_data"
    }
   ],
   "source": [
    "# Ahora mostrarermos los resultados de cada uno de los modelos.\n",
    "partimat(Direction~Lag1+Lag2+Lag3+Lag4+Lag5,data=Smarket, method=\"qda\")"
   ]
  },
  {
   "cell_type": "markdown",
   "metadata": {},
   "source": [
    "### Ejercicio 4\n",
    "Usando la información del dataset 'clasif_train_alumnos.csv'\n",
    "* Comparar lda y qda usando Wilcoxon.\n",
    "* Hacer una comparación múltiple usando Friedman.\n",
    "* Usando Holm, mirar si hay algún algoritmo ganador."
   ]
  },
  {
   "cell_type": "code",
   "execution_count": 28,
   "metadata": {},
   "outputs": [
    {
     "data": {
      "text/html": [
       "<table>\n",
       "<thead><tr><th scope=col>X</th><th scope=col>out_train_knn</th><th scope=col>out_train_lda</th><th scope=col>out_train_qda</th></tr></thead>\n",
       "<tbody>\n",
       "\t<tr><td>appendicitis </td><td>0.8834602    </td><td>0.8815461    </td><td>0.8690241    </td></tr>\n",
       "\t<tr><td>australian   </td><td>0.7277419    </td><td>0.8605475    </td><td>0.8072464    </td></tr>\n",
       "\t<tr><td>balance      </td><td>0.9072122    </td><td>0.8791122    </td><td>0.9167999    </td></tr>\n",
       "\t<tr><td>bupa         </td><td>0.7405521    </td><td>0.7024224    </td><td>0.6447628    </td></tr>\n",
       "\t<tr><td>contraceptive</td><td>0.6168944    </td><td>0.5236485    </td><td>0.5314180    </td></tr>\n",
       "\t<tr><td>haberman     </td><td>0.7795116    </td><td>0.7519934    </td><td>0.7567115    </td></tr>\n",
       "</tbody>\n",
       "</table>\n"
      ],
      "text/latex": [
       "\\begin{tabular}{r|llll}\n",
       " X & out\\_train\\_knn & out\\_train\\_lda & out\\_train\\_qda\\\\\n",
       "\\hline\n",
       "\t appendicitis  & 0.8834602     & 0.8815461     & 0.8690241    \\\\\n",
       "\t australian    & 0.7277419     & 0.8605475     & 0.8072464    \\\\\n",
       "\t balance       & 0.9072122     & 0.8791122     & 0.9167999    \\\\\n",
       "\t bupa          & 0.7405521     & 0.7024224     & 0.6447628    \\\\\n",
       "\t contraceptive & 0.6168944     & 0.5236485     & 0.5314180    \\\\\n",
       "\t haberman      & 0.7795116     & 0.7519934     & 0.7567115    \\\\\n",
       "\\end{tabular}\n"
      ],
      "text/markdown": [
       "\n",
       "X | out_train_knn | out_train_lda | out_train_qda | \n",
       "|---|---|---|---|---|---|\n",
       "| appendicitis  | 0.8834602     | 0.8815461     | 0.8690241     | \n",
       "| australian    | 0.7277419     | 0.8605475     | 0.8072464     | \n",
       "| balance       | 0.9072122     | 0.8791122     | 0.9167999     | \n",
       "| bupa          | 0.7405521     | 0.7024224     | 0.6447628     | \n",
       "| contraceptive | 0.6168944     | 0.5236485     | 0.5314180     | \n",
       "| haberman      | 0.7795116     | 0.7519934     | 0.7567115     | \n",
       "\n",
       "\n"
      ],
      "text/plain": [
       "  X             out_train_knn out_train_lda out_train_qda\n",
       "1 appendicitis  0.8834602     0.8815461     0.8690241    \n",
       "2 australian    0.7277419     0.8605475     0.8072464    \n",
       "3 balance       0.9072122     0.8791122     0.9167999    \n",
       "4 bupa          0.7405521     0.7024224     0.6447628    \n",
       "5 contraceptive 0.6168944     0.5236485     0.5314180    \n",
       "6 haberman      0.7795116     0.7519934     0.7567115    "
      ]
     },
     "metadata": {},
     "output_type": "display_data"
    },
    {
     "name": "stdout",
     "output_type": "stream",
     "text": [
      "'data.frame':\t20 obs. of  4 variables:\n",
      " $ X            : chr  \"appendicitis\" \"australian\" \"balance\" \"bupa\" ...\n",
      " $ out_train_knn: num  0.883 0.728 0.907 0.741 0.617 ...\n",
      " $ out_train_lda: num  0.882 0.861 0.879 0.702 0.524 ...\n",
      " $ out_train_qda: num  0.869 0.807 0.917 0.645 0.531 ...\n"
     ]
    }
   ],
   "source": [
    "# Leemos el dataset.\n",
    "alum = read.csv('clasif_train_alumnos.csv',header=TRUE,stringsAsFactors=FALSE)\n",
    "head(alum)\n",
    "str(alum)"
   ]
  },
  {
   "cell_type": "code",
   "execution_count": 29,
   "metadata": {},
   "outputs": [
    {
     "data": {
      "text/html": [
       "<strong>V:</strong> 68"
      ],
      "text/latex": [
       "\\textbf{V:} 68"
      ],
      "text/markdown": [
       "**V:** 68"
      ],
      "text/plain": [
       " V \n",
       "68 "
      ]
     },
     "metadata": {},
     "output_type": "display_data"
    },
    {
     "data": {
      "text/html": [
       "<strong>V:</strong> 142"
      ],
      "text/latex": [
       "\\textbf{V:} 142"
      ],
      "text/markdown": [
       "**V:** 142"
      ],
      "text/plain": [
       "  V \n",
       "142 "
      ]
     },
     "metadata": {},
     "output_type": "display_data"
    },
    {
     "data": {
      "text/html": [
       "0.176853179931641"
      ],
      "text/latex": [
       "0.176853179931641"
      ],
      "text/markdown": [
       "0.176853179931641"
      ],
      "text/plain": [
       "[1] 0.1768532"
      ]
     },
     "metadata": {},
     "output_type": "display_data"
    }
   ],
   "source": [
    "# Realizamos el test de wilcoxon.\n",
    "QDAvsLDA = wilcox.test(alum$out_train_lda,alum$out_train_qda,\n",
    "                       alternative=\"two.sided\", paired=TRUE)\n",
    "Rmas = QDAvsLDA$statistic\n",
    "pvalue = QDAvsLDA$p.value\n",
    "QDAvsLDA = wilcox.test(alum$out_train_qda,alum$out_train_lda,\n",
    "                       alternative=\"two.sided\",paired=TRUE)\n",
    "Rmenos = QDAvsLDA$statistic\n",
    "\n",
    "Rmas\n",
    "Rmenos\n",
    "pvalue\n",
    "\n",
    "\n",
    "# Según el valor del p-value, podemos decir que los algoritmos son diferentes\n",
    "# con un 82.31% ((1-pvalue)*100) de confianza."
   ]
  },
  {
   "cell_type": "code",
   "execution_count": 30,
   "metadata": {},
   "outputs": [
    {
     "data": {
      "text/plain": [
       "\n",
       "\tFriedman rank sum test\n",
       "\n",
       "data:  as.matrix(alum)\n",
       "Friedman chi-squared = 36.78, df = 3, p-value = 5.122e-08\n"
      ]
     },
     "metadata": {},
     "output_type": "display_data"
    }
   ],
   "source": [
    "# Realizamos el test de Friedman para todos los dataset.\n",
    "test_friedman = friedman.test(as.matrix(alum))\n",
    "test_friedman\n",
    "\n",
    "# Según el resultado del test de friedman, podemos decir que al menos hay\n",
    "# diferencias significativas entre un par de algortimos."
   ]
  },
  {
   "cell_type": "code",
   "execution_count": 36,
   "metadata": {},
   "outputs": [
    {
     "data": {
      "text/html": [
       "<table>\n",
       "<thead><tr><th></th><th scope=col>out_train_knn</th><th scope=col>out_train_lda</th><th scope=col>out_train_qda</th></tr></thead>\n",
       "<tbody>\n",
       "\t<tr><th scope=row>appendicitis</th><td>0.8834602</td><td>0.8815461</td><td>0.8690241</td></tr>\n",
       "\t<tr><th scope=row>australian</th><td>0.7277419</td><td>0.8605475</td><td>0.8072464</td></tr>\n",
       "\t<tr><th scope=row>balance</th><td>0.9072122</td><td>0.8791122</td><td>0.9167999</td></tr>\n",
       "\t<tr><th scope=row>bupa</th><td>0.7405521</td><td>0.7024224</td><td>0.6447628</td></tr>\n",
       "\t<tr><th scope=row>contraceptive</th><td>0.6168944</td><td>0.5236485</td><td>0.5314180</td></tr>\n",
       "\t<tr><th scope=row>haberman</th><td>0.7795116</td><td>0.7519934</td><td>0.7567115</td></tr>\n",
       "</tbody>\n",
       "</table>\n"
      ],
      "text/latex": [
       "\\begin{tabular}{r|lll}\n",
       "  & out\\_train\\_knn & out\\_train\\_lda & out\\_train\\_qda\\\\\n",
       "\\hline\n",
       "\tappendicitis & 0.8834602 & 0.8815461 & 0.8690241\\\\\n",
       "\taustralian & 0.7277419 & 0.8605475 & 0.8072464\\\\\n",
       "\tbalance & 0.9072122 & 0.8791122 & 0.9167999\\\\\n",
       "\tbupa & 0.7405521 & 0.7024224 & 0.6447628\\\\\n",
       "\tcontraceptive & 0.6168944 & 0.5236485 & 0.5314180\\\\\n",
       "\thaberman & 0.7795116 & 0.7519934 & 0.7567115\\\\\n",
       "\\end{tabular}\n"
      ],
      "text/markdown": [
       "\n",
       "| <!--/--> | out_train_knn | out_train_lda | out_train_qda | \n",
       "|---|---|---|---|---|---|\n",
       "| appendicitis | 0.8834602 | 0.8815461 | 0.8690241 | \n",
       "| australian | 0.7277419 | 0.8605475 | 0.8072464 | \n",
       "| balance | 0.9072122 | 0.8791122 | 0.9167999 | \n",
       "| bupa | 0.7405521 | 0.7024224 | 0.6447628 | \n",
       "| contraceptive | 0.6168944 | 0.5236485 | 0.5314180 | \n",
       "| haberman | 0.7795116 | 0.7519934 | 0.7567115 | \n",
       "\n",
       "\n"
      ],
      "text/plain": [
       "              out_train_knn out_train_lda out_train_qda\n",
       "appendicitis  0.8834602     0.8815461     0.8690241    \n",
       "australian    0.7277419     0.8605475     0.8072464    \n",
       "balance       0.9072122     0.8791122     0.9167999    \n",
       "bupa          0.7405521     0.7024224     0.6447628    \n",
       "contraceptive 0.6168944     0.5236485     0.5314180    \n",
       "haberman      0.7795116     0.7519934     0.7567115    "
      ]
     },
     "metadata": {},
     "output_type": "display_data"
    },
    {
     "data": {
      "text/html": [
       "<ol class=list-inline>\n",
       "\t<li>1</li>\n",
       "\t<li>1</li>\n",
       "\t<li>1</li>\n",
       "\t<li>1</li>\n",
       "\t<li>1</li>\n",
       "\t<li>1</li>\n",
       "\t<li>1</li>\n",
       "\t<li>1</li>\n",
       "\t<li>1</li>\n",
       "\t<li>1</li>\n",
       "\t<li>1</li>\n",
       "\t<li>1</li>\n",
       "\t<li>1</li>\n",
       "\t<li>1</li>\n",
       "\t<li>1</li>\n",
       "\t<li>1</li>\n",
       "\t<li>1</li>\n",
       "\t<li>1</li>\n",
       "\t<li>1</li>\n",
       "\t<li>1</li>\n",
       "\t<li>2</li>\n",
       "\t<li>2</li>\n",
       "\t<li>2</li>\n",
       "\t<li>2</li>\n",
       "\t<li>2</li>\n",
       "\t<li>2</li>\n",
       "\t<li>2</li>\n",
       "\t<li>2</li>\n",
       "\t<li>2</li>\n",
       "\t<li>2</li>\n",
       "\t<li>2</li>\n",
       "\t<li>2</li>\n",
       "\t<li>2</li>\n",
       "\t<li>2</li>\n",
       "\t<li>2</li>\n",
       "\t<li>2</li>\n",
       "\t<li>2</li>\n",
       "\t<li>2</li>\n",
       "\t<li>2</li>\n",
       "\t<li>2</li>\n",
       "\t<li>3</li>\n",
       "\t<li>3</li>\n",
       "\t<li>3</li>\n",
       "\t<li>3</li>\n",
       "\t<li>3</li>\n",
       "\t<li>3</li>\n",
       "\t<li>3</li>\n",
       "\t<li>3</li>\n",
       "\t<li>3</li>\n",
       "\t<li>3</li>\n",
       "\t<li>3</li>\n",
       "\t<li>3</li>\n",
       "\t<li>3</li>\n",
       "\t<li>3</li>\n",
       "\t<li>3</li>\n",
       "\t<li>3</li>\n",
       "\t<li>3</li>\n",
       "\t<li>3</li>\n",
       "\t<li>3</li>\n",
       "\t<li>3</li>\n",
       "</ol>\n"
      ],
      "text/latex": [
       "\\begin{enumerate*}\n",
       "\\item 1\n",
       "\\item 1\n",
       "\\item 1\n",
       "\\item 1\n",
       "\\item 1\n",
       "\\item 1\n",
       "\\item 1\n",
       "\\item 1\n",
       "\\item 1\n",
       "\\item 1\n",
       "\\item 1\n",
       "\\item 1\n",
       "\\item 1\n",
       "\\item 1\n",
       "\\item 1\n",
       "\\item 1\n",
       "\\item 1\n",
       "\\item 1\n",
       "\\item 1\n",
       "\\item 1\n",
       "\\item 2\n",
       "\\item 2\n",
       "\\item 2\n",
       "\\item 2\n",
       "\\item 2\n",
       "\\item 2\n",
       "\\item 2\n",
       "\\item 2\n",
       "\\item 2\n",
       "\\item 2\n",
       "\\item 2\n",
       "\\item 2\n",
       "\\item 2\n",
       "\\item 2\n",
       "\\item 2\n",
       "\\item 2\n",
       "\\item 2\n",
       "\\item 2\n",
       "\\item 2\n",
       "\\item 2\n",
       "\\item 3\n",
       "\\item 3\n",
       "\\item 3\n",
       "\\item 3\n",
       "\\item 3\n",
       "\\item 3\n",
       "\\item 3\n",
       "\\item 3\n",
       "\\item 3\n",
       "\\item 3\n",
       "\\item 3\n",
       "\\item 3\n",
       "\\item 3\n",
       "\\item 3\n",
       "\\item 3\n",
       "\\item 3\n",
       "\\item 3\n",
       "\\item 3\n",
       "\\item 3\n",
       "\\item 3\n",
       "\\end{enumerate*}\n"
      ],
      "text/markdown": [
       "1. 1\n",
       "2. 1\n",
       "3. 1\n",
       "4. 1\n",
       "5. 1\n",
       "6. 1\n",
       "7. 1\n",
       "8. 1\n",
       "9. 1\n",
       "10. 1\n",
       "11. 1\n",
       "12. 1\n",
       "13. 1\n",
       "14. 1\n",
       "15. 1\n",
       "16. 1\n",
       "17. 1\n",
       "18. 1\n",
       "19. 1\n",
       "20. 1\n",
       "21. 2\n",
       "22. 2\n",
       "23. 2\n",
       "24. 2\n",
       "25. 2\n",
       "26. 2\n",
       "27. 2\n",
       "28. 2\n",
       "29. 2\n",
       "30. 2\n",
       "31. 2\n",
       "32. 2\n",
       "33. 2\n",
       "34. 2\n",
       "35. 2\n",
       "36. 2\n",
       "37. 2\n",
       "38. 2\n",
       "39. 2\n",
       "40. 2\n",
       "41. 3\n",
       "42. 3\n",
       "43. 3\n",
       "44. 3\n",
       "45. 3\n",
       "46. 3\n",
       "47. 3\n",
       "48. 3\n",
       "49. 3\n",
       "50. 3\n",
       "51. 3\n",
       "52. 3\n",
       "53. 3\n",
       "54. 3\n",
       "55. 3\n",
       "56. 3\n",
       "57. 3\n",
       "58. 3\n",
       "59. 3\n",
       "60. 3\n",
       "\n",
       "\n"
      ],
      "text/plain": [
       " [1] 1 1 1 1 1 1 1 1 1 1 1 1 1 1 1 1 1 1 1 1 2 2 2 2 2 2 2 2 2 2 2 2 2 2 2 2 2 2\n",
       "[39] 2 2 3 3 3 3 3 3 3 3 3 3 3 3 3 3 3 3 3 3 3 3"
      ]
     },
     "metadata": {},
     "output_type": "display_data"
    },
    {
     "data": {
      "text/plain": [
       "\n",
       "\tPairwise comparisons using Wilcoxon signed rank test \n",
       "\n",
       "data:  as.matrix(tablatst) and groups \n",
       "\n",
       "  1    2   \n",
       "2 0.65 -   \n",
       "3 0.59 0.53\n",
       "\n",
       "P value adjustment method: holm "
      ]
     },
     "metadata": {},
     "output_type": "display_data"
    }
   ],
   "source": [
    "# Por último, realizamos el test de Holm para comprobar si realmente hay algún\n",
    "# algoritmo que se diferencia del resto.\n",
    "tablatst = cbind(alum[,2:dim(alum)[2]])\n",
    "rownames(tablatst) = alum[,1]\n",
    "head(tablatst)\n",
    "tam = dim(tablatst)\n",
    "groups = as.numeric(rep(1:tam[2],each=tam[1]))\n",
    "pairwise.wilcox.test(as.matrix(tablatst),groups,p.adjust=\"holm\",paired=TRUE)\n",
    "\n",
    "# Según los resultados obtenidos por el test de Holm, no hay diferencias significativas \n",
    "# entre los diferentes algoritmos y por lo tanto no podemos concluir si un algoritmo\n",
    "# es mejor que los demás."
   ]
  }
 ],
 "metadata": {
  "kernelspec": {
   "display_name": "R",
   "language": "R",
   "name": "ir"
  },
  "language_info": {
   "codemirror_mode": "r",
   "file_extension": ".r",
   "mimetype": "text/x-r-source",
   "name": "R",
   "pygments_lexer": "r",
   "version": "3.5.1"
  }
 },
 "nbformat": 4,
 "nbformat_minor": 2
}
