{
 "cells": [
  {
   "cell_type": "code",
   "execution_count": 1,
   "metadata": {},
   "outputs": [
    {
     "data": {
      "text/html": [
       "        <script type=\"text/javascript\">\n",
       "        window.PlotlyConfig = {MathJaxConfig: 'local'};\n",
       "        if (window.MathJax) {MathJax.Hub.Config({SVG: {font: \"STIX-Web\"}});}\n",
       "        if (typeof require !== 'undefined') {\n",
       "        require.undef(\"plotly\");\n",
       "        requirejs.config({\n",
       "            paths: {\n",
       "                'plotly': ['https://cdn.plot.ly/plotly-latest.min']\n",
       "            }\n",
       "        });\n",
       "        require(['plotly'], function(Plotly) {\n",
       "            window._Plotly = Plotly;\n",
       "        });\n",
       "        }\n",
       "        </script>\n",
       "        "
      ]
     },
     "metadata": {},
     "output_type": "display_data"
    }
   ],
   "source": [
    "import cufflinks as cf\n",
    "from plotly.offline import iplot\n",
    "import plotly.graph_objs as go\n",
    "cf.go_offline()\n",
    "import pandas as pd"
   ]
  },
  {
   "cell_type": "code",
   "execution_count": 2,
   "metadata": {},
   "outputs": [
    {
     "data": {
      "text/html": [
       "<div>\n",
       "<style scoped>\n",
       "    .dataframe tbody tr th:only-of-type {\n",
       "        vertical-align: middle;\n",
       "    }\n",
       "\n",
       "    .dataframe tbody tr th {\n",
       "        vertical-align: top;\n",
       "    }\n",
       "\n",
       "    .dataframe thead th {\n",
       "        text-align: right;\n",
       "    }\n",
       "</style>\n",
       "<table border=\"1\" class=\"dataframe\">\n",
       "  <thead>\n",
       "    <tr style=\"text-align: right;\">\n",
       "      <th></th>\n",
       "      <th>p0</th>\n",
       "      <th>p1</th>\n",
       "      <th>p2</th>\n",
       "    </tr>\n",
       "  </thead>\n",
       "  <tbody>\n",
       "    <tr>\n",
       "      <th>Greedy</th>\n",
       "      <td>247.0</td>\n",
       "      <td>1315.0</td>\n",
       "      <td>13141140.0</td>\n",
       "    </tr>\n",
       "    <tr>\n",
       "      <th>Local Search</th>\n",
       "      <td>247.0</td>\n",
       "      <td>1315.0</td>\n",
       "      <td>13141140.0</td>\n",
       "    </tr>\n",
       "    <tr>\n",
       "      <th>Genetic</th>\n",
       "      <td>309.0</td>\n",
       "      <td>1458.0</td>\n",
       "      <td>13152395.0</td>\n",
       "    </tr>\n",
       "    <tr>\n",
       "      <th>Memetic</th>\n",
       "      <td>284.0</td>\n",
       "      <td>1453.0</td>\n",
       "      <td>13449995.0</td>\n",
       "    </tr>\n",
       "    <tr>\n",
       "      <th>ACO</th>\n",
       "      <td>284.0</td>\n",
       "      <td>1453.0</td>\n",
       "      <td>13410139.0</td>\n",
       "    </tr>\n",
       "    <tr>\n",
       "      <th>Best Solution</th>\n",
       "      <td>309.0</td>\n",
       "      <td>1458.0</td>\n",
       "      <td>13549094.0</td>\n",
       "    </tr>\n",
       "  </tbody>\n",
       "</table>\n",
       "</div>"
      ],
      "text/plain": [
       "                  p0      p1          p2\n",
       "Greedy         247.0  1315.0  13141140.0\n",
       "Local Search   247.0  1315.0  13141140.0\n",
       "Genetic        309.0  1458.0  13152395.0\n",
       "Memetic        284.0  1453.0  13449995.0\n",
       "ACO            284.0  1453.0  13410139.0\n",
       "Best Solution  309.0  1458.0  13549094.0"
      ]
     },
     "execution_count": 2,
     "metadata": {},
     "output_type": "execute_result"
    }
   ],
   "source": [
    "df = pd.read_csv('resultados_opt.csv',index_col=0)\n",
    "df"
   ]
  },
  {
   "cell_type": "code",
   "execution_count": 3,
   "metadata": {
    "scrolled": true
   },
   "outputs": [
    {
     "data": {
      "application/vnd.plotly.v1+json": {
       "config": {
        "linkText": "Export to plot.ly",
        "plotlyServerURL": "https://plot.ly",
        "responsive": true,
        "showLink": true
       },
       "data": [
        {
         "line": {
          "color": "rgba(255, 153, 51, 1.0)",
          "dash": "solid",
          "shape": "linear",
          "width": 1.3
         },
         "mode": "lines",
         "name": "p0",
         "text": "",
         "type": "scatter",
         "uid": "c641c8f0-b10c-413a-9bb0-28f0fe8d6aa0",
         "x": [
          "Greedy",
          "Local Search",
          "Genetic",
          "Memetic",
          "ACO",
          "Best Solution"
         ],
         "y": [
          247,
          247,
          309,
          284,
          284,
          309
         ]
        }
       ],
       "layout": {
        "legend": {
         "bgcolor": "#F5F6F9",
         "font": {
          "color": "#4D5663"
         }
        },
        "paper_bgcolor": "#F5F6F9",
        "plot_bgcolor": "#F5F6F9",
        "title": {
         "font": {
          "color": "#4D5663"
         }
        },
        "xaxis": {
         "gridcolor": "#E1E5ED",
         "showgrid": true,
         "tickfont": {
          "color": "#4D5663"
         },
         "title": {
          "font": {
           "color": "#4D5663"
          },
          "text": ""
         },
         "zerolinecolor": "#E1E5ED"
        },
        "yaxis": {
         "gridcolor": "#E1E5ED",
         "showgrid": true,
         "tickfont": {
          "color": "#4D5663"
         },
         "title": {
          "font": {
           "color": "#4D5663"
          },
          "text": ""
         },
         "zerolinecolor": "#E1E5ED"
        }
       }
      },
      "text/html": [
       "<div>\n",
       "        \n",
       "        \n",
       "            <div id=\"62f68512-d3d9-46ff-b382-1e5671febefb\" class=\"plotly-graph-div\"></div>\n",
       "            <script type=\"text/javascript\">\n",
       "                require([\"plotly\"], function(Plotly) {\n",
       "                    window.PLOTLYENV=window.PLOTLYENV || {};\n",
       "                    window.PLOTLYENV.BASE_URL='https://plot.ly';\n",
       "                    \n",
       "                if (document.getElementById(\"62f68512-d3d9-46ff-b382-1e5671febefb\")) {\n",
       "                    Plotly.newPlot(\n",
       "                        '62f68512-d3d9-46ff-b382-1e5671febefb',\n",
       "                        [{\"line\": {\"color\": \"rgba(255, 153, 51, 1.0)\", \"dash\": \"solid\", \"shape\": \"linear\", \"width\": 1.3}, \"mode\": \"lines\", \"name\": \"p0\", \"text\": \"\", \"type\": \"scatter\", \"uid\": \"062e5dfb-7801-4cfa-bbf6-103235d54553\", \"x\": [\"Greedy\", \"Local Search\", \"Genetic\", \"Memetic\", \"ACO\", \"Best Solution\"], \"y\": [247.0, 247.0, 309.0, 284.0, 284.0, 309.0]}],\n",
       "                        {\"legend\": {\"bgcolor\": \"#F5F6F9\", \"font\": {\"color\": \"#4D5663\"}}, \"paper_bgcolor\": \"#F5F6F9\", \"plot_bgcolor\": \"#F5F6F9\", \"title\": {\"font\": {\"color\": \"#4D5663\"}}, \"xaxis\": {\"gridcolor\": \"#E1E5ED\", \"showgrid\": true, \"tickfont\": {\"color\": \"#4D5663\"}, \"title\": {\"font\": {\"color\": \"#4D5663\"}, \"text\": \"\"}, \"zerolinecolor\": \"#E1E5ED\"}, \"yaxis\": {\"gridcolor\": \"#E1E5ED\", \"showgrid\": true, \"tickfont\": {\"color\": \"#4D5663\"}, \"title\": {\"font\": {\"color\": \"#4D5663\"}, \"text\": \"\"}, \"zerolinecolor\": \"#E1E5ED\"}},\n",
       "                        {\"showLink\": true, \"linkText\": \"Export to plot.ly\", \"plotlyServerURL\": \"https://plot.ly\", \"responsive\": true}\n",
       "                    )\n",
       "                };\n",
       "                });\n",
       "            </script>\n",
       "        </div>"
      ]
     },
     "metadata": {},
     "output_type": "display_data"
    },
    {
     "data": {
      "application/vnd.plotly.v1+json": {
       "config": {
        "linkText": "Export to plot.ly",
        "plotlyServerURL": "https://plot.ly",
        "responsive": true,
        "showLink": true
       },
       "data": [
        {
         "line": {
          "color": "rgba(255, 153, 51, 1.0)",
          "dash": "solid",
          "shape": "linear",
          "width": 1.3
         },
         "mode": "lines",
         "name": "p1",
         "text": "",
         "type": "scatter",
         "uid": "8976e791-b605-44a0-8b07-0921ab26a08e",
         "x": [
          "Greedy",
          "Local Search",
          "Genetic",
          "Memetic",
          "ACO",
          "Best Solution"
         ],
         "y": [
          1315,
          1315,
          1458,
          1453,
          1453,
          1458
         ]
        }
       ],
       "layout": {
        "legend": {
         "bgcolor": "#F5F6F9",
         "font": {
          "color": "#4D5663"
         }
        },
        "paper_bgcolor": "#F5F6F9",
        "plot_bgcolor": "#F5F6F9",
        "title": {
         "font": {
          "color": "#4D5663"
         }
        },
        "xaxis": {
         "gridcolor": "#E1E5ED",
         "showgrid": true,
         "tickfont": {
          "color": "#4D5663"
         },
         "title": {
          "font": {
           "color": "#4D5663"
          },
          "text": ""
         },
         "zerolinecolor": "#E1E5ED"
        },
        "yaxis": {
         "gridcolor": "#E1E5ED",
         "showgrid": true,
         "tickfont": {
          "color": "#4D5663"
         },
         "title": {
          "font": {
           "color": "#4D5663"
          },
          "text": ""
         },
         "zerolinecolor": "#E1E5ED"
        }
       }
      },
      "text/html": [
       "<div>\n",
       "        \n",
       "        \n",
       "            <div id=\"5f3f2529-39e4-481c-94d0-811de8cba77d\" class=\"plotly-graph-div\"></div>\n",
       "            <script type=\"text/javascript\">\n",
       "                require([\"plotly\"], function(Plotly) {\n",
       "                    window.PLOTLYENV=window.PLOTLYENV || {};\n",
       "                    window.PLOTLYENV.BASE_URL='https://plot.ly';\n",
       "                    \n",
       "                if (document.getElementById(\"5f3f2529-39e4-481c-94d0-811de8cba77d\")) {\n",
       "                    Plotly.newPlot(\n",
       "                        '5f3f2529-39e4-481c-94d0-811de8cba77d',\n",
       "                        [{\"line\": {\"color\": \"rgba(255, 153, 51, 1.0)\", \"dash\": \"solid\", \"shape\": \"linear\", \"width\": 1.3}, \"mode\": \"lines\", \"name\": \"p1\", \"text\": \"\", \"type\": \"scatter\", \"uid\": \"e77c280e-9a03-47b6-b3ee-1a051185fd0e\", \"x\": [\"Greedy\", \"Local Search\", \"Genetic\", \"Memetic\", \"ACO\", \"Best Solution\"], \"y\": [1315.0, 1315.0, 1458.0, 1453.0, 1453.0, 1458.0]}],\n",
       "                        {\"legend\": {\"bgcolor\": \"#F5F6F9\", \"font\": {\"color\": \"#4D5663\"}}, \"paper_bgcolor\": \"#F5F6F9\", \"plot_bgcolor\": \"#F5F6F9\", \"title\": {\"font\": {\"color\": \"#4D5663\"}}, \"xaxis\": {\"gridcolor\": \"#E1E5ED\", \"showgrid\": true, \"tickfont\": {\"color\": \"#4D5663\"}, \"title\": {\"font\": {\"color\": \"#4D5663\"}, \"text\": \"\"}, \"zerolinecolor\": \"#E1E5ED\"}, \"yaxis\": {\"gridcolor\": \"#E1E5ED\", \"showgrid\": true, \"tickfont\": {\"color\": \"#4D5663\"}, \"title\": {\"font\": {\"color\": \"#4D5663\"}, \"text\": \"\"}, \"zerolinecolor\": \"#E1E5ED\"}},\n",
       "                        {\"showLink\": true, \"linkText\": \"Export to plot.ly\", \"plotlyServerURL\": \"https://plot.ly\", \"responsive\": true}\n",
       "                    )\n",
       "                };\n",
       "                });\n",
       "            </script>\n",
       "        </div>"
      ]
     },
     "metadata": {},
     "output_type": "display_data"
    },
    {
     "data": {
      "application/vnd.plotly.v1+json": {
       "config": {
        "linkText": "Export to plot.ly",
        "plotlyServerURL": "https://plot.ly",
        "responsive": true,
        "showLink": true
       },
       "data": [
        {
         "line": {
          "color": "rgba(255, 153, 51, 1.0)",
          "dash": "solid",
          "shape": "linear",
          "width": 1.3
         },
         "mode": "lines",
         "name": "p2",
         "text": "",
         "type": "scatter",
         "uid": "54825eb5-5802-4ab3-928e-9934d651251f",
         "x": [
          "Greedy",
          "Local Search",
          "Genetic",
          "Memetic",
          "ACO",
          "Best Solution"
         ],
         "y": [
          13141140,
          13141140,
          13152395,
          13449995,
          13410139,
          13549094
         ]
        }
       ],
       "layout": {
        "legend": {
         "bgcolor": "#F5F6F9",
         "font": {
          "color": "#4D5663"
         }
        },
        "paper_bgcolor": "#F5F6F9",
        "plot_bgcolor": "#F5F6F9",
        "title": {
         "font": {
          "color": "#4D5663"
         }
        },
        "xaxis": {
         "gridcolor": "#E1E5ED",
         "showgrid": true,
         "tickfont": {
          "color": "#4D5663"
         },
         "title": {
          "font": {
           "color": "#4D5663"
          },
          "text": ""
         },
         "zerolinecolor": "#E1E5ED"
        },
        "yaxis": {
         "gridcolor": "#E1E5ED",
         "showgrid": true,
         "tickfont": {
          "color": "#4D5663"
         },
         "title": {
          "font": {
           "color": "#4D5663"
          },
          "text": ""
         },
         "zerolinecolor": "#E1E5ED"
        }
       }
      },
      "text/html": [
       "<div>\n",
       "        \n",
       "        \n",
       "            <div id=\"992f0cab-d9a4-40c5-a5b0-c7506dd3389b\" class=\"plotly-graph-div\"></div>\n",
       "            <script type=\"text/javascript\">\n",
       "                require([\"plotly\"], function(Plotly) {\n",
       "                    window.PLOTLYENV=window.PLOTLYENV || {};\n",
       "                    window.PLOTLYENV.BASE_URL='https://plot.ly';\n",
       "                    \n",
       "                if (document.getElementById(\"992f0cab-d9a4-40c5-a5b0-c7506dd3389b\")) {\n",
       "                    Plotly.newPlot(\n",
       "                        '992f0cab-d9a4-40c5-a5b0-c7506dd3389b',\n",
       "                        [{\"line\": {\"color\": \"rgba(255, 153, 51, 1.0)\", \"dash\": \"solid\", \"shape\": \"linear\", \"width\": 1.3}, \"mode\": \"lines\", \"name\": \"p2\", \"text\": \"\", \"type\": \"scatter\", \"uid\": \"b2ce672c-eb14-472a-a2db-40872aaddcf4\", \"x\": [\"Greedy\", \"Local Search\", \"Genetic\", \"Memetic\", \"ACO\", \"Best Solution\"], \"y\": [13141140.0, 13141140.0, 13152395.0, 13449995.0, 13410139.0, 13549094.0]}],\n",
       "                        {\"legend\": {\"bgcolor\": \"#F5F6F9\", \"font\": {\"color\": \"#4D5663\"}}, \"paper_bgcolor\": \"#F5F6F9\", \"plot_bgcolor\": \"#F5F6F9\", \"title\": {\"font\": {\"color\": \"#4D5663\"}}, \"xaxis\": {\"gridcolor\": \"#E1E5ED\", \"showgrid\": true, \"tickfont\": {\"color\": \"#4D5663\"}, \"title\": {\"font\": {\"color\": \"#4D5663\"}, \"text\": \"\"}, \"zerolinecolor\": \"#E1E5ED\"}, \"yaxis\": {\"gridcolor\": \"#E1E5ED\", \"showgrid\": true, \"tickfont\": {\"color\": \"#4D5663\"}, \"title\": {\"font\": {\"color\": \"#4D5663\"}, \"text\": \"\"}, \"zerolinecolor\": \"#E1E5ED\"}},\n",
       "                        {\"showLink\": true, \"linkText\": \"Export to plot.ly\", \"plotlyServerURL\": \"https://plot.ly\", \"responsive\": true}\n",
       "                    )\n",
       "                };\n",
       "                });\n",
       "            </script>\n",
       "        </div>"
      ]
     },
     "metadata": {},
     "output_type": "display_data"
    }
   ],
   "source": [
    "for column_name in df.columns.values:\n",
    "    df.loc[:,column_name].iplot()"
   ]
  },
  {
   "cell_type": "code",
   "execution_count": 4,
   "metadata": {},
   "outputs": [
    {
     "data": {
      "text/html": [
       "<div>\n",
       "<style scoped>\n",
       "    .dataframe tbody tr th:only-of-type {\n",
       "        vertical-align: middle;\n",
       "    }\n",
       "\n",
       "    .dataframe tbody tr th {\n",
       "        vertical-align: top;\n",
       "    }\n",
       "\n",
       "    .dataframe thead th {\n",
       "        text-align: right;\n",
       "    }\n",
       "</style>\n",
       "<table border=\"1\" class=\"dataframe\">\n",
       "  <thead>\n",
       "    <tr style=\"text-align: right;\">\n",
       "      <th></th>\n",
       "      <th>p0</th>\n",
       "      <th>p1</th>\n",
       "      <th>p2</th>\n",
       "      <th>p3</th>\n",
       "      <th>p4</th>\n",
       "      <th>p5</th>\n",
       "      <th>p6</th>\n",
       "      <th>p7</th>\n",
       "    </tr>\n",
       "  </thead>\n",
       "  <tbody>\n",
       "    <tr>\n",
       "      <th>ACO 100-5</th>\n",
       "      <td>284.0</td>\n",
       "      <td>47.0</td>\n",
       "      <td>146.0</td>\n",
       "      <td>107.0</td>\n",
       "      <td>888.0</td>\n",
       "      <td>1735.0</td>\n",
       "      <td>1453.0</td>\n",
       "      <td>13307934.0</td>\n",
       "    </tr>\n",
       "    <tr>\n",
       "      <th>ACO 100-10</th>\n",
       "      <td>284.0</td>\n",
       "      <td>47.0</td>\n",
       "      <td>146.0</td>\n",
       "      <td>107.0</td>\n",
       "      <td>888.0</td>\n",
       "      <td>1735.0</td>\n",
       "      <td>1458.0</td>\n",
       "      <td>13396513.0</td>\n",
       "    </tr>\n",
       "    <tr>\n",
       "      <th>ACO 100-15</th>\n",
       "      <td>284.0</td>\n",
       "      <td>47.0</td>\n",
       "      <td>146.0</td>\n",
       "      <td>107.0</td>\n",
       "      <td>898.0</td>\n",
       "      <td>1735.0</td>\n",
       "      <td>1450.0</td>\n",
       "      <td>13368521.0</td>\n",
       "    </tr>\n",
       "    <tr>\n",
       "      <th>ACO 200-5</th>\n",
       "      <td>284.0</td>\n",
       "      <td>47.0</td>\n",
       "      <td>146.0</td>\n",
       "      <td>107.0</td>\n",
       "      <td>888.0</td>\n",
       "      <td>1735.0</td>\n",
       "      <td>1453.0</td>\n",
       "      <td>13368521.0</td>\n",
       "    </tr>\n",
       "    <tr>\n",
       "      <th>ACO 200-10</th>\n",
       "      <td>284.0</td>\n",
       "      <td>47.0</td>\n",
       "      <td>146.0</td>\n",
       "      <td>107.0</td>\n",
       "      <td>888.0</td>\n",
       "      <td>1735.0</td>\n",
       "      <td>1453.0</td>\n",
       "      <td>13342449.0</td>\n",
       "    </tr>\n",
       "    <tr>\n",
       "      <th>ACO 200-15</th>\n",
       "      <td>284.0</td>\n",
       "      <td>47.0</td>\n",
       "      <td>146.0</td>\n",
       "      <td>107.0</td>\n",
       "      <td>898.0</td>\n",
       "      <td>1735.0</td>\n",
       "      <td>1458.0</td>\n",
       "      <td>13418570.0</td>\n",
       "    </tr>\n",
       "  </tbody>\n",
       "</table>\n",
       "</div>"
      ],
      "text/plain": [
       "               p0    p1     p2     p3     p4      p5      p6          p7\n",
       "ACO 100-5   284.0  47.0  146.0  107.0  888.0  1735.0  1453.0  13307934.0\n",
       "ACO 100-10  284.0  47.0  146.0  107.0  888.0  1735.0  1458.0  13396513.0\n",
       "ACO 100-15  284.0  47.0  146.0  107.0  898.0  1735.0  1450.0  13368521.0\n",
       "ACO 200-5   284.0  47.0  146.0  107.0  888.0  1735.0  1453.0  13368521.0\n",
       "ACO 200-10  284.0  47.0  146.0  107.0  888.0  1735.0  1453.0  13342449.0\n",
       "ACO 200-15  284.0  47.0  146.0  107.0  898.0  1735.0  1458.0  13418570.0"
      ]
     },
     "execution_count": 4,
     "metadata": {},
     "output_type": "execute_result"
    }
   ],
   "source": [
    "df_aco = pd.read_csv('resultados_aoc.csv',index_col=0)\n",
    "df_aco"
   ]
  },
  {
   "cell_type": "code",
   "execution_count": 5,
   "metadata": {
    "scrolled": true
   },
   "outputs": [
    {
     "data": {
      "application/vnd.plotly.v1+json": {
       "config": {
        "linkText": "Export to plot.ly",
        "plotlyServerURL": "https://plot.ly",
        "responsive": true,
        "showLink": true
       },
       "data": [
        {
         "line": {
          "color": "rgba(255, 153, 51, 1.0)",
          "dash": "solid",
          "shape": "linear",
          "width": 1.3
         },
         "mode": "lines",
         "name": "p0",
         "text": "",
         "type": "scatter",
         "uid": "0b8cf151-8deb-4576-9a02-e0dec514babf",
         "x": [
          "ACO 100-5",
          "ACO 100-10",
          "ACO 100-15",
          "ACO 200-5",
          "ACO 200-10",
          "ACO 200-15"
         ],
         "y": [
          284,
          284,
          284,
          284,
          284,
          284
         ]
        }
       ],
       "layout": {
        "legend": {
         "bgcolor": "#F5F6F9",
         "font": {
          "color": "#4D5663"
         }
        },
        "paper_bgcolor": "#F5F6F9",
        "plot_bgcolor": "#F5F6F9",
        "title": {
         "font": {
          "color": "#4D5663"
         }
        },
        "xaxis": {
         "gridcolor": "#E1E5ED",
         "showgrid": true,
         "tickfont": {
          "color": "#4D5663"
         },
         "title": {
          "font": {
           "color": "#4D5663"
          },
          "text": ""
         },
         "zerolinecolor": "#E1E5ED"
        },
        "yaxis": {
         "gridcolor": "#E1E5ED",
         "showgrid": true,
         "tickfont": {
          "color": "#4D5663"
         },
         "title": {
          "font": {
           "color": "#4D5663"
          },
          "text": ""
         },
         "zerolinecolor": "#E1E5ED"
        }
       }
      },
      "text/html": [
       "<div>\n",
       "        \n",
       "        \n",
       "            <div id=\"e54b78e3-3d54-4063-8fa1-87c5e750b99a\" class=\"plotly-graph-div\"></div>\n",
       "            <script type=\"text/javascript\">\n",
       "                require([\"plotly\"], function(Plotly) {\n",
       "                    window.PLOTLYENV=window.PLOTLYENV || {};\n",
       "                    window.PLOTLYENV.BASE_URL='https://plot.ly';\n",
       "                    \n",
       "                if (document.getElementById(\"e54b78e3-3d54-4063-8fa1-87c5e750b99a\")) {\n",
       "                    Plotly.newPlot(\n",
       "                        'e54b78e3-3d54-4063-8fa1-87c5e750b99a',\n",
       "                        [{\"line\": {\"color\": \"rgba(255, 153, 51, 1.0)\", \"dash\": \"solid\", \"shape\": \"linear\", \"width\": 1.3}, \"mode\": \"lines\", \"name\": \"p0\", \"text\": \"\", \"type\": \"scatter\", \"uid\": \"06b06805-528c-4082-8bda-f77682523ee9\", \"x\": [\"ACO 100-5\", \"ACO 100-10\", \"ACO 100-15\", \"ACO 200-5\", \"ACO 200-10\", \"ACO 200-15\"], \"y\": [284.0, 284.0, 284.0, 284.0, 284.0, 284.0]}],\n",
       "                        {\"legend\": {\"bgcolor\": \"#F5F6F9\", \"font\": {\"color\": \"#4D5663\"}}, \"paper_bgcolor\": \"#F5F6F9\", \"plot_bgcolor\": \"#F5F6F9\", \"title\": {\"font\": {\"color\": \"#4D5663\"}}, \"xaxis\": {\"gridcolor\": \"#E1E5ED\", \"showgrid\": true, \"tickfont\": {\"color\": \"#4D5663\"}, \"title\": {\"font\": {\"color\": \"#4D5663\"}, \"text\": \"\"}, \"zerolinecolor\": \"#E1E5ED\"}, \"yaxis\": {\"gridcolor\": \"#E1E5ED\", \"showgrid\": true, \"tickfont\": {\"color\": \"#4D5663\"}, \"title\": {\"font\": {\"color\": \"#4D5663\"}, \"text\": \"\"}, \"zerolinecolor\": \"#E1E5ED\"}},\n",
       "                        {\"showLink\": true, \"linkText\": \"Export to plot.ly\", \"plotlyServerURL\": \"https://plot.ly\", \"responsive\": true}\n",
       "                    )\n",
       "                };\n",
       "                });\n",
       "            </script>\n",
       "        </div>"
      ]
     },
     "metadata": {},
     "output_type": "display_data"
    },
    {
     "data": {
      "application/vnd.plotly.v1+json": {
       "config": {
        "linkText": "Export to plot.ly",
        "plotlyServerURL": "https://plot.ly",
        "responsive": true,
        "showLink": true
       },
       "data": [
        {
         "line": {
          "color": "rgba(255, 153, 51, 1.0)",
          "dash": "solid",
          "shape": "linear",
          "width": 1.3
         },
         "mode": "lines",
         "name": "p1",
         "text": "",
         "type": "scatter",
         "uid": "728afc65-c047-43b4-b157-791544609c4b",
         "x": [
          "ACO 100-5",
          "ACO 100-10",
          "ACO 100-15",
          "ACO 200-5",
          "ACO 200-10",
          "ACO 200-15"
         ],
         "y": [
          47,
          47,
          47,
          47,
          47,
          47
         ]
        }
       ],
       "layout": {
        "legend": {
         "bgcolor": "#F5F6F9",
         "font": {
          "color": "#4D5663"
         }
        },
        "paper_bgcolor": "#F5F6F9",
        "plot_bgcolor": "#F5F6F9",
        "title": {
         "font": {
          "color": "#4D5663"
         }
        },
        "xaxis": {
         "gridcolor": "#E1E5ED",
         "showgrid": true,
         "tickfont": {
          "color": "#4D5663"
         },
         "title": {
          "font": {
           "color": "#4D5663"
          },
          "text": ""
         },
         "zerolinecolor": "#E1E5ED"
        },
        "yaxis": {
         "gridcolor": "#E1E5ED",
         "showgrid": true,
         "tickfont": {
          "color": "#4D5663"
         },
         "title": {
          "font": {
           "color": "#4D5663"
          },
          "text": ""
         },
         "zerolinecolor": "#E1E5ED"
        }
       }
      },
      "text/html": [
       "<div>\n",
       "        \n",
       "        \n",
       "            <div id=\"6b6f5bf9-9743-4cd9-9c74-b1e0a0fd6d60\" class=\"plotly-graph-div\"></div>\n",
       "            <script type=\"text/javascript\">\n",
       "                require([\"plotly\"], function(Plotly) {\n",
       "                    window.PLOTLYENV=window.PLOTLYENV || {};\n",
       "                    window.PLOTLYENV.BASE_URL='https://plot.ly';\n",
       "                    \n",
       "                if (document.getElementById(\"6b6f5bf9-9743-4cd9-9c74-b1e0a0fd6d60\")) {\n",
       "                    Plotly.newPlot(\n",
       "                        '6b6f5bf9-9743-4cd9-9c74-b1e0a0fd6d60',\n",
       "                        [{\"line\": {\"color\": \"rgba(255, 153, 51, 1.0)\", \"dash\": \"solid\", \"shape\": \"linear\", \"width\": 1.3}, \"mode\": \"lines\", \"name\": \"p1\", \"text\": \"\", \"type\": \"scatter\", \"uid\": \"377e31d0-6ffd-40ec-9e3b-8528c4dc9b1f\", \"x\": [\"ACO 100-5\", \"ACO 100-10\", \"ACO 100-15\", \"ACO 200-5\", \"ACO 200-10\", \"ACO 200-15\"], \"y\": [47.0, 47.0, 47.0, 47.0, 47.0, 47.0]}],\n",
       "                        {\"legend\": {\"bgcolor\": \"#F5F6F9\", \"font\": {\"color\": \"#4D5663\"}}, \"paper_bgcolor\": \"#F5F6F9\", \"plot_bgcolor\": \"#F5F6F9\", \"title\": {\"font\": {\"color\": \"#4D5663\"}}, \"xaxis\": {\"gridcolor\": \"#E1E5ED\", \"showgrid\": true, \"tickfont\": {\"color\": \"#4D5663\"}, \"title\": {\"font\": {\"color\": \"#4D5663\"}, \"text\": \"\"}, \"zerolinecolor\": \"#E1E5ED\"}, \"yaxis\": {\"gridcolor\": \"#E1E5ED\", \"showgrid\": true, \"tickfont\": {\"color\": \"#4D5663\"}, \"title\": {\"font\": {\"color\": \"#4D5663\"}, \"text\": \"\"}, \"zerolinecolor\": \"#E1E5ED\"}},\n",
       "                        {\"showLink\": true, \"linkText\": \"Export to plot.ly\", \"plotlyServerURL\": \"https://plot.ly\", \"responsive\": true}\n",
       "                    )\n",
       "                };\n",
       "                });\n",
       "            </script>\n",
       "        </div>"
      ]
     },
     "metadata": {},
     "output_type": "display_data"
    },
    {
     "data": {
      "application/vnd.plotly.v1+json": {
       "config": {
        "linkText": "Export to plot.ly",
        "plotlyServerURL": "https://plot.ly",
        "responsive": true,
        "showLink": true
       },
       "data": [
        {
         "line": {
          "color": "rgba(255, 153, 51, 1.0)",
          "dash": "solid",
          "shape": "linear",
          "width": 1.3
         },
         "mode": "lines",
         "name": "p2",
         "text": "",
         "type": "scatter",
         "uid": "448e6d59-ae80-40ed-8916-3b778a7a1dda",
         "x": [
          "ACO 100-5",
          "ACO 100-10",
          "ACO 100-15",
          "ACO 200-5",
          "ACO 200-10",
          "ACO 200-15"
         ],
         "y": [
          146,
          146,
          146,
          146,
          146,
          146
         ]
        }
       ],
       "layout": {
        "legend": {
         "bgcolor": "#F5F6F9",
         "font": {
          "color": "#4D5663"
         }
        },
        "paper_bgcolor": "#F5F6F9",
        "plot_bgcolor": "#F5F6F9",
        "title": {
         "font": {
          "color": "#4D5663"
         }
        },
        "xaxis": {
         "gridcolor": "#E1E5ED",
         "showgrid": true,
         "tickfont": {
          "color": "#4D5663"
         },
         "title": {
          "font": {
           "color": "#4D5663"
          },
          "text": ""
         },
         "zerolinecolor": "#E1E5ED"
        },
        "yaxis": {
         "gridcolor": "#E1E5ED",
         "showgrid": true,
         "tickfont": {
          "color": "#4D5663"
         },
         "title": {
          "font": {
           "color": "#4D5663"
          },
          "text": ""
         },
         "zerolinecolor": "#E1E5ED"
        }
       }
      },
      "text/html": [
       "<div>\n",
       "        \n",
       "        \n",
       "            <div id=\"3ccfc3d8-ade1-49f7-8c79-8fbeeaf517b7\" class=\"plotly-graph-div\"></div>\n",
       "            <script type=\"text/javascript\">\n",
       "                require([\"plotly\"], function(Plotly) {\n",
       "                    window.PLOTLYENV=window.PLOTLYENV || {};\n",
       "                    window.PLOTLYENV.BASE_URL='https://plot.ly';\n",
       "                    \n",
       "                if (document.getElementById(\"3ccfc3d8-ade1-49f7-8c79-8fbeeaf517b7\")) {\n",
       "                    Plotly.newPlot(\n",
       "                        '3ccfc3d8-ade1-49f7-8c79-8fbeeaf517b7',\n",
       "                        [{\"line\": {\"color\": \"rgba(255, 153, 51, 1.0)\", \"dash\": \"solid\", \"shape\": \"linear\", \"width\": 1.3}, \"mode\": \"lines\", \"name\": \"p2\", \"text\": \"\", \"type\": \"scatter\", \"uid\": \"9777773f-8e4e-4c40-aeb4-c64a1ea769ed\", \"x\": [\"ACO 100-5\", \"ACO 100-10\", \"ACO 100-15\", \"ACO 200-5\", \"ACO 200-10\", \"ACO 200-15\"], \"y\": [146.0, 146.0, 146.0, 146.0, 146.0, 146.0]}],\n",
       "                        {\"legend\": {\"bgcolor\": \"#F5F6F9\", \"font\": {\"color\": \"#4D5663\"}}, \"paper_bgcolor\": \"#F5F6F9\", \"plot_bgcolor\": \"#F5F6F9\", \"title\": {\"font\": {\"color\": \"#4D5663\"}}, \"xaxis\": {\"gridcolor\": \"#E1E5ED\", \"showgrid\": true, \"tickfont\": {\"color\": \"#4D5663\"}, \"title\": {\"font\": {\"color\": \"#4D5663\"}, \"text\": \"\"}, \"zerolinecolor\": \"#E1E5ED\"}, \"yaxis\": {\"gridcolor\": \"#E1E5ED\", \"showgrid\": true, \"tickfont\": {\"color\": \"#4D5663\"}, \"title\": {\"font\": {\"color\": \"#4D5663\"}, \"text\": \"\"}, \"zerolinecolor\": \"#E1E5ED\"}},\n",
       "                        {\"showLink\": true, \"linkText\": \"Export to plot.ly\", \"plotlyServerURL\": \"https://plot.ly\", \"responsive\": true}\n",
       "                    )\n",
       "                };\n",
       "                });\n",
       "            </script>\n",
       "        </div>"
      ]
     },
     "metadata": {},
     "output_type": "display_data"
    },
    {
     "data": {
      "application/vnd.plotly.v1+json": {
       "config": {
        "linkText": "Export to plot.ly",
        "plotlyServerURL": "https://plot.ly",
        "responsive": true,
        "showLink": true
       },
       "data": [
        {
         "line": {
          "color": "rgba(255, 153, 51, 1.0)",
          "dash": "solid",
          "shape": "linear",
          "width": 1.3
         },
         "mode": "lines",
         "name": "p3",
         "text": "",
         "type": "scatter",
         "uid": "9c8a07b8-06e9-490a-9e73-a68b11672845",
         "x": [
          "ACO 100-5",
          "ACO 100-10",
          "ACO 100-15",
          "ACO 200-5",
          "ACO 200-10",
          "ACO 200-15"
         ],
         "y": [
          107,
          107,
          107,
          107,
          107,
          107
         ]
        }
       ],
       "layout": {
        "legend": {
         "bgcolor": "#F5F6F9",
         "font": {
          "color": "#4D5663"
         }
        },
        "paper_bgcolor": "#F5F6F9",
        "plot_bgcolor": "#F5F6F9",
        "title": {
         "font": {
          "color": "#4D5663"
         }
        },
        "xaxis": {
         "gridcolor": "#E1E5ED",
         "showgrid": true,
         "tickfont": {
          "color": "#4D5663"
         },
         "title": {
          "font": {
           "color": "#4D5663"
          },
          "text": ""
         },
         "zerolinecolor": "#E1E5ED"
        },
        "yaxis": {
         "gridcolor": "#E1E5ED",
         "showgrid": true,
         "tickfont": {
          "color": "#4D5663"
         },
         "title": {
          "font": {
           "color": "#4D5663"
          },
          "text": ""
         },
         "zerolinecolor": "#E1E5ED"
        }
       }
      },
      "text/html": [
       "<div>\n",
       "        \n",
       "        \n",
       "            <div id=\"2de7db66-f19c-4f9f-b9c9-7aef01d92a16\" class=\"plotly-graph-div\"></div>\n",
       "            <script type=\"text/javascript\">\n",
       "                require([\"plotly\"], function(Plotly) {\n",
       "                    window.PLOTLYENV=window.PLOTLYENV || {};\n",
       "                    window.PLOTLYENV.BASE_URL='https://plot.ly';\n",
       "                    \n",
       "                if (document.getElementById(\"2de7db66-f19c-4f9f-b9c9-7aef01d92a16\")) {\n",
       "                    Plotly.newPlot(\n",
       "                        '2de7db66-f19c-4f9f-b9c9-7aef01d92a16',\n",
       "                        [{\"line\": {\"color\": \"rgba(255, 153, 51, 1.0)\", \"dash\": \"solid\", \"shape\": \"linear\", \"width\": 1.3}, \"mode\": \"lines\", \"name\": \"p3\", \"text\": \"\", \"type\": \"scatter\", \"uid\": \"97c11abd-9149-4528-847b-ea09e3fa8ba5\", \"x\": [\"ACO 100-5\", \"ACO 100-10\", \"ACO 100-15\", \"ACO 200-5\", \"ACO 200-10\", \"ACO 200-15\"], \"y\": [107.0, 107.0, 107.0, 107.0, 107.0, 107.0]}],\n",
       "                        {\"legend\": {\"bgcolor\": \"#F5F6F9\", \"font\": {\"color\": \"#4D5663\"}}, \"paper_bgcolor\": \"#F5F6F9\", \"plot_bgcolor\": \"#F5F6F9\", \"title\": {\"font\": {\"color\": \"#4D5663\"}}, \"xaxis\": {\"gridcolor\": \"#E1E5ED\", \"showgrid\": true, \"tickfont\": {\"color\": \"#4D5663\"}, \"title\": {\"font\": {\"color\": \"#4D5663\"}, \"text\": \"\"}, \"zerolinecolor\": \"#E1E5ED\"}, \"yaxis\": {\"gridcolor\": \"#E1E5ED\", \"showgrid\": true, \"tickfont\": {\"color\": \"#4D5663\"}, \"title\": {\"font\": {\"color\": \"#4D5663\"}, \"text\": \"\"}, \"zerolinecolor\": \"#E1E5ED\"}},\n",
       "                        {\"showLink\": true, \"linkText\": \"Export to plot.ly\", \"plotlyServerURL\": \"https://plot.ly\", \"responsive\": true}\n",
       "                    )\n",
       "                };\n",
       "                });\n",
       "            </script>\n",
       "        </div>"
      ]
     },
     "metadata": {},
     "output_type": "display_data"
    },
    {
     "data": {
      "application/vnd.plotly.v1+json": {
       "config": {
        "linkText": "Export to plot.ly",
        "plotlyServerURL": "https://plot.ly",
        "responsive": true,
        "showLink": true
       },
       "data": [
        {
         "line": {
          "color": "rgba(255, 153, 51, 1.0)",
          "dash": "solid",
          "shape": "linear",
          "width": 1.3
         },
         "mode": "lines",
         "name": "p4",
         "text": "",
         "type": "scatter",
         "uid": "93ed86f6-d26d-49d0-8d7a-ab1cccd75795",
         "x": [
          "ACO 100-5",
          "ACO 100-10",
          "ACO 100-15",
          "ACO 200-5",
          "ACO 200-10",
          "ACO 200-15"
         ],
         "y": [
          888,
          888,
          898,
          888,
          888,
          898
         ]
        }
       ],
       "layout": {
        "legend": {
         "bgcolor": "#F5F6F9",
         "font": {
          "color": "#4D5663"
         }
        },
        "paper_bgcolor": "#F5F6F9",
        "plot_bgcolor": "#F5F6F9",
        "title": {
         "font": {
          "color": "#4D5663"
         }
        },
        "xaxis": {
         "gridcolor": "#E1E5ED",
         "showgrid": true,
         "tickfont": {
          "color": "#4D5663"
         },
         "title": {
          "font": {
           "color": "#4D5663"
          },
          "text": ""
         },
         "zerolinecolor": "#E1E5ED"
        },
        "yaxis": {
         "gridcolor": "#E1E5ED",
         "showgrid": true,
         "tickfont": {
          "color": "#4D5663"
         },
         "title": {
          "font": {
           "color": "#4D5663"
          },
          "text": ""
         },
         "zerolinecolor": "#E1E5ED"
        }
       }
      },
      "text/html": [
       "<div>\n",
       "        \n",
       "        \n",
       "            <div id=\"4efea66f-fb20-41eb-bd93-b53430ec6564\" class=\"plotly-graph-div\"></div>\n",
       "            <script type=\"text/javascript\">\n",
       "                require([\"plotly\"], function(Plotly) {\n",
       "                    window.PLOTLYENV=window.PLOTLYENV || {};\n",
       "                    window.PLOTLYENV.BASE_URL='https://plot.ly';\n",
       "                    \n",
       "                if (document.getElementById(\"4efea66f-fb20-41eb-bd93-b53430ec6564\")) {\n",
       "                    Plotly.newPlot(\n",
       "                        '4efea66f-fb20-41eb-bd93-b53430ec6564',\n",
       "                        [{\"line\": {\"color\": \"rgba(255, 153, 51, 1.0)\", \"dash\": \"solid\", \"shape\": \"linear\", \"width\": 1.3}, \"mode\": \"lines\", \"name\": \"p4\", \"text\": \"\", \"type\": \"scatter\", \"uid\": \"d01cc6b3-7a8b-44f8-8647-923a6302e097\", \"x\": [\"ACO 100-5\", \"ACO 100-10\", \"ACO 100-15\", \"ACO 200-5\", \"ACO 200-10\", \"ACO 200-15\"], \"y\": [888.0, 888.0, 898.0, 888.0, 888.0, 898.0]}],\n",
       "                        {\"legend\": {\"bgcolor\": \"#F5F6F9\", \"font\": {\"color\": \"#4D5663\"}}, \"paper_bgcolor\": \"#F5F6F9\", \"plot_bgcolor\": \"#F5F6F9\", \"title\": {\"font\": {\"color\": \"#4D5663\"}}, \"xaxis\": {\"gridcolor\": \"#E1E5ED\", \"showgrid\": true, \"tickfont\": {\"color\": \"#4D5663\"}, \"title\": {\"font\": {\"color\": \"#4D5663\"}, \"text\": \"\"}, \"zerolinecolor\": \"#E1E5ED\"}, \"yaxis\": {\"gridcolor\": \"#E1E5ED\", \"showgrid\": true, \"tickfont\": {\"color\": \"#4D5663\"}, \"title\": {\"font\": {\"color\": \"#4D5663\"}, \"text\": \"\"}, \"zerolinecolor\": \"#E1E5ED\"}},\n",
       "                        {\"showLink\": true, \"linkText\": \"Export to plot.ly\", \"plotlyServerURL\": \"https://plot.ly\", \"responsive\": true}\n",
       "                    )\n",
       "                };\n",
       "                });\n",
       "            </script>\n",
       "        </div>"
      ]
     },
     "metadata": {},
     "output_type": "display_data"
    },
    {
     "data": {
      "application/vnd.plotly.v1+json": {
       "config": {
        "linkText": "Export to plot.ly",
        "plotlyServerURL": "https://plot.ly",
        "responsive": true,
        "showLink": true
       },
       "data": [
        {
         "line": {
          "color": "rgba(255, 153, 51, 1.0)",
          "dash": "solid",
          "shape": "linear",
          "width": 1.3
         },
         "mode": "lines",
         "name": "p5",
         "text": "",
         "type": "scatter",
         "uid": "57e634e7-e340-49be-bc36-b57accd40cac",
         "x": [
          "ACO 100-5",
          "ACO 100-10",
          "ACO 100-15",
          "ACO 200-5",
          "ACO 200-10",
          "ACO 200-15"
         ],
         "y": [
          1735,
          1735,
          1735,
          1735,
          1735,
          1735
         ]
        }
       ],
       "layout": {
        "legend": {
         "bgcolor": "#F5F6F9",
         "font": {
          "color": "#4D5663"
         }
        },
        "paper_bgcolor": "#F5F6F9",
        "plot_bgcolor": "#F5F6F9",
        "title": {
         "font": {
          "color": "#4D5663"
         }
        },
        "xaxis": {
         "gridcolor": "#E1E5ED",
         "showgrid": true,
         "tickfont": {
          "color": "#4D5663"
         },
         "title": {
          "font": {
           "color": "#4D5663"
          },
          "text": ""
         },
         "zerolinecolor": "#E1E5ED"
        },
        "yaxis": {
         "gridcolor": "#E1E5ED",
         "showgrid": true,
         "tickfont": {
          "color": "#4D5663"
         },
         "title": {
          "font": {
           "color": "#4D5663"
          },
          "text": ""
         },
         "zerolinecolor": "#E1E5ED"
        }
       }
      },
      "text/html": [
       "<div>\n",
       "        \n",
       "        \n",
       "            <div id=\"245c72b4-33b6-4885-9128-1b08f94e55f5\" class=\"plotly-graph-div\"></div>\n",
       "            <script type=\"text/javascript\">\n",
       "                require([\"plotly\"], function(Plotly) {\n",
       "                    window.PLOTLYENV=window.PLOTLYENV || {};\n",
       "                    window.PLOTLYENV.BASE_URL='https://plot.ly';\n",
       "                    \n",
       "                if (document.getElementById(\"245c72b4-33b6-4885-9128-1b08f94e55f5\")) {\n",
       "                    Plotly.newPlot(\n",
       "                        '245c72b4-33b6-4885-9128-1b08f94e55f5',\n",
       "                        [{\"line\": {\"color\": \"rgba(255, 153, 51, 1.0)\", \"dash\": \"solid\", \"shape\": \"linear\", \"width\": 1.3}, \"mode\": \"lines\", \"name\": \"p5\", \"text\": \"\", \"type\": \"scatter\", \"uid\": \"fb8ed6bf-7414-41dd-b56b-ddd521114f95\", \"x\": [\"ACO 100-5\", \"ACO 100-10\", \"ACO 100-15\", \"ACO 200-5\", \"ACO 200-10\", \"ACO 200-15\"], \"y\": [1735.0, 1735.0, 1735.0, 1735.0, 1735.0, 1735.0]}],\n",
       "                        {\"legend\": {\"bgcolor\": \"#F5F6F9\", \"font\": {\"color\": \"#4D5663\"}}, \"paper_bgcolor\": \"#F5F6F9\", \"plot_bgcolor\": \"#F5F6F9\", \"title\": {\"font\": {\"color\": \"#4D5663\"}}, \"xaxis\": {\"gridcolor\": \"#E1E5ED\", \"showgrid\": true, \"tickfont\": {\"color\": \"#4D5663\"}, \"title\": {\"font\": {\"color\": \"#4D5663\"}, \"text\": \"\"}, \"zerolinecolor\": \"#E1E5ED\"}, \"yaxis\": {\"gridcolor\": \"#E1E5ED\", \"showgrid\": true, \"tickfont\": {\"color\": \"#4D5663\"}, \"title\": {\"font\": {\"color\": \"#4D5663\"}, \"text\": \"\"}, \"zerolinecolor\": \"#E1E5ED\"}},\n",
       "                        {\"showLink\": true, \"linkText\": \"Export to plot.ly\", \"plotlyServerURL\": \"https://plot.ly\", \"responsive\": true}\n",
       "                    )\n",
       "                };\n",
       "                });\n",
       "            </script>\n",
       "        </div>"
      ]
     },
     "metadata": {},
     "output_type": "display_data"
    },
    {
     "data": {
      "application/vnd.plotly.v1+json": {
       "config": {
        "linkText": "Export to plot.ly",
        "plotlyServerURL": "https://plot.ly",
        "responsive": true,
        "showLink": true
       },
       "data": [
        {
         "line": {
          "color": "rgba(255, 153, 51, 1.0)",
          "dash": "solid",
          "shape": "linear",
          "width": 1.3
         },
         "mode": "lines",
         "name": "p6",
         "text": "",
         "type": "scatter",
         "uid": "e5f532d5-e117-43b6-8fdf-3951491077ca",
         "x": [
          "ACO 100-5",
          "ACO 100-10",
          "ACO 100-15",
          "ACO 200-5",
          "ACO 200-10",
          "ACO 200-15"
         ],
         "y": [
          1453,
          1458,
          1450,
          1453,
          1453,
          1458
         ]
        }
       ],
       "layout": {
        "legend": {
         "bgcolor": "#F5F6F9",
         "font": {
          "color": "#4D5663"
         }
        },
        "paper_bgcolor": "#F5F6F9",
        "plot_bgcolor": "#F5F6F9",
        "title": {
         "font": {
          "color": "#4D5663"
         }
        },
        "xaxis": {
         "gridcolor": "#E1E5ED",
         "showgrid": true,
         "tickfont": {
          "color": "#4D5663"
         },
         "title": {
          "font": {
           "color": "#4D5663"
          },
          "text": ""
         },
         "zerolinecolor": "#E1E5ED"
        },
        "yaxis": {
         "gridcolor": "#E1E5ED",
         "showgrid": true,
         "tickfont": {
          "color": "#4D5663"
         },
         "title": {
          "font": {
           "color": "#4D5663"
          },
          "text": ""
         },
         "zerolinecolor": "#E1E5ED"
        }
       }
      },
      "text/html": [
       "<div>\n",
       "        \n",
       "        \n",
       "            <div id=\"a0eb0a0c-22a1-47a5-a949-583620fe5655\" class=\"plotly-graph-div\"></div>\n",
       "            <script type=\"text/javascript\">\n",
       "                require([\"plotly\"], function(Plotly) {\n",
       "                    window.PLOTLYENV=window.PLOTLYENV || {};\n",
       "                    window.PLOTLYENV.BASE_URL='https://plot.ly';\n",
       "                    \n",
       "                if (document.getElementById(\"a0eb0a0c-22a1-47a5-a949-583620fe5655\")) {\n",
       "                    Plotly.newPlot(\n",
       "                        'a0eb0a0c-22a1-47a5-a949-583620fe5655',\n",
       "                        [{\"line\": {\"color\": \"rgba(255, 153, 51, 1.0)\", \"dash\": \"solid\", \"shape\": \"linear\", \"width\": 1.3}, \"mode\": \"lines\", \"name\": \"p6\", \"text\": \"\", \"type\": \"scatter\", \"uid\": \"b27b6880-c97a-46d7-b56d-7832d7186d5f\", \"x\": [\"ACO 100-5\", \"ACO 100-10\", \"ACO 100-15\", \"ACO 200-5\", \"ACO 200-10\", \"ACO 200-15\"], \"y\": [1453.0, 1458.0, 1450.0, 1453.0, 1453.0, 1458.0]}],\n",
       "                        {\"legend\": {\"bgcolor\": \"#F5F6F9\", \"font\": {\"color\": \"#4D5663\"}}, \"paper_bgcolor\": \"#F5F6F9\", \"plot_bgcolor\": \"#F5F6F9\", \"title\": {\"font\": {\"color\": \"#4D5663\"}}, \"xaxis\": {\"gridcolor\": \"#E1E5ED\", \"showgrid\": true, \"tickfont\": {\"color\": \"#4D5663\"}, \"title\": {\"font\": {\"color\": \"#4D5663\"}, \"text\": \"\"}, \"zerolinecolor\": \"#E1E5ED\"}, \"yaxis\": {\"gridcolor\": \"#E1E5ED\", \"showgrid\": true, \"tickfont\": {\"color\": \"#4D5663\"}, \"title\": {\"font\": {\"color\": \"#4D5663\"}, \"text\": \"\"}, \"zerolinecolor\": \"#E1E5ED\"}},\n",
       "                        {\"showLink\": true, \"linkText\": \"Export to plot.ly\", \"plotlyServerURL\": \"https://plot.ly\", \"responsive\": true}\n",
       "                    )\n",
       "                };\n",
       "                });\n",
       "            </script>\n",
       "        </div>"
      ]
     },
     "metadata": {},
     "output_type": "display_data"
    },
    {
     "data": {
      "application/vnd.plotly.v1+json": {
       "config": {
        "linkText": "Export to plot.ly",
        "plotlyServerURL": "https://plot.ly",
        "responsive": true,
        "showLink": true
       },
       "data": [
        {
         "line": {
          "color": "rgba(255, 153, 51, 1.0)",
          "dash": "solid",
          "shape": "linear",
          "width": 1.3
         },
         "mode": "lines",
         "name": "p7",
         "text": "",
         "type": "scatter",
         "uid": "a9ec9034-e64a-43dc-9553-b0fc73415375",
         "x": [
          "ACO 100-5",
          "ACO 100-10",
          "ACO 100-15",
          "ACO 200-5",
          "ACO 200-10",
          "ACO 200-15"
         ],
         "y": [
          13307934,
          13396513,
          13368521,
          13368521,
          13342449,
          13418570
         ]
        }
       ],
       "layout": {
        "legend": {
         "bgcolor": "#F5F6F9",
         "font": {
          "color": "#4D5663"
         }
        },
        "paper_bgcolor": "#F5F6F9",
        "plot_bgcolor": "#F5F6F9",
        "title": {
         "font": {
          "color": "#4D5663"
         }
        },
        "xaxis": {
         "gridcolor": "#E1E5ED",
         "showgrid": true,
         "tickfont": {
          "color": "#4D5663"
         },
         "title": {
          "font": {
           "color": "#4D5663"
          },
          "text": ""
         },
         "zerolinecolor": "#E1E5ED"
        },
        "yaxis": {
         "gridcolor": "#E1E5ED",
         "showgrid": true,
         "tickfont": {
          "color": "#4D5663"
         },
         "title": {
          "font": {
           "color": "#4D5663"
          },
          "text": ""
         },
         "zerolinecolor": "#E1E5ED"
        }
       }
      },
      "text/html": [
       "<div>\n",
       "        \n",
       "        \n",
       "            <div id=\"5b6f006b-359a-4285-af8a-4366f3dc89a5\" class=\"plotly-graph-div\"></div>\n",
       "            <script type=\"text/javascript\">\n",
       "                require([\"plotly\"], function(Plotly) {\n",
       "                    window.PLOTLYENV=window.PLOTLYENV || {};\n",
       "                    window.PLOTLYENV.BASE_URL='https://plot.ly';\n",
       "                    \n",
       "                if (document.getElementById(\"5b6f006b-359a-4285-af8a-4366f3dc89a5\")) {\n",
       "                    Plotly.newPlot(\n",
       "                        '5b6f006b-359a-4285-af8a-4366f3dc89a5',\n",
       "                        [{\"line\": {\"color\": \"rgba(255, 153, 51, 1.0)\", \"dash\": \"solid\", \"shape\": \"linear\", \"width\": 1.3}, \"mode\": \"lines\", \"name\": \"p7\", \"text\": \"\", \"type\": \"scatter\", \"uid\": \"0b87247d-8c0c-482d-8573-bb5ac6a53db0\", \"x\": [\"ACO 100-5\", \"ACO 100-10\", \"ACO 100-15\", \"ACO 200-5\", \"ACO 200-10\", \"ACO 200-15\"], \"y\": [13307934.0, 13396513.0, 13368521.0, 13368521.0, 13342449.0, 13418570.0]}],\n",
       "                        {\"legend\": {\"bgcolor\": \"#F5F6F9\", \"font\": {\"color\": \"#4D5663\"}}, \"paper_bgcolor\": \"#F5F6F9\", \"plot_bgcolor\": \"#F5F6F9\", \"title\": {\"font\": {\"color\": \"#4D5663\"}}, \"xaxis\": {\"gridcolor\": \"#E1E5ED\", \"showgrid\": true, \"tickfont\": {\"color\": \"#4D5663\"}, \"title\": {\"font\": {\"color\": \"#4D5663\"}, \"text\": \"\"}, \"zerolinecolor\": \"#E1E5ED\"}, \"yaxis\": {\"gridcolor\": \"#E1E5ED\", \"showgrid\": true, \"tickfont\": {\"color\": \"#4D5663\"}, \"title\": {\"font\": {\"color\": \"#4D5663\"}, \"text\": \"\"}, \"zerolinecolor\": \"#E1E5ED\"}},\n",
       "                        {\"showLink\": true, \"linkText\": \"Export to plot.ly\", \"plotlyServerURL\": \"https://plot.ly\", \"responsive\": true}\n",
       "                    )\n",
       "                };\n",
       "                });\n",
       "            </script>\n",
       "        </div>"
      ]
     },
     "metadata": {},
     "output_type": "display_data"
    }
   ],
   "source": [
    "for column_name in df_aco.columns.values:\n",
    "    df_aco.loc[:,column_name].iplot()"
   ]
  },
  {
   "cell_type": "code",
   "execution_count": 6,
   "metadata": {},
   "outputs": [
    {
     "data": {
      "text/html": [
       "<div>\n",
       "<style scoped>\n",
       "    .dataframe tbody tr th:only-of-type {\n",
       "        vertical-align: middle;\n",
       "    }\n",
       "\n",
       "    .dataframe tbody tr th {\n",
       "        vertical-align: top;\n",
       "    }\n",
       "\n",
       "    .dataframe thead th {\n",
       "        text-align: right;\n",
       "    }\n",
       "</style>\n",
       "<table border=\"1\" class=\"dataframe\">\n",
       "  <thead>\n",
       "    <tr style=\"text-align: right;\">\n",
       "      <th></th>\n",
       "      <th>p0</th>\n",
       "      <th>p1</th>\n",
       "      <th>p2</th>\n",
       "    </tr>\n",
       "  </thead>\n",
       "  <tbody>\n",
       "    <tr>\n",
       "      <th>Genetic 5</th>\n",
       "      <td>309.0</td>\n",
       "      <td>1456.0</td>\n",
       "      <td>13474183.0</td>\n",
       "    </tr>\n",
       "    <tr>\n",
       "      <th>Memetic 5</th>\n",
       "      <td>284.0</td>\n",
       "      <td>1453.0</td>\n",
       "      <td>13424474.0</td>\n",
       "    </tr>\n",
       "    <tr>\n",
       "      <th>Genetic 16</th>\n",
       "      <td>309.0</td>\n",
       "      <td>1456.0</td>\n",
       "      <td>13365178.0</td>\n",
       "    </tr>\n",
       "    <tr>\n",
       "      <th>Memetic 16</th>\n",
       "      <td>309.0</td>\n",
       "      <td>1456.0</td>\n",
       "      <td>13405920.0</td>\n",
       "    </tr>\n",
       "    <tr>\n",
       "      <th>Genetic 25</th>\n",
       "      <td>309.0</td>\n",
       "      <td>1453.0</td>\n",
       "      <td>13518963.0</td>\n",
       "    </tr>\n",
       "    <tr>\n",
       "      <th>Memetic 25</th>\n",
       "      <td>309.0</td>\n",
       "      <td>1456.0</td>\n",
       "      <td>13433680.0</td>\n",
       "    </tr>\n",
       "    <tr>\n",
       "      <th>Genetic 40</th>\n",
       "      <td>309.0</td>\n",
       "      <td>1455.0</td>\n",
       "      <td>13473708.0</td>\n",
       "    </tr>\n",
       "    <tr>\n",
       "      <th>Memetic 40</th>\n",
       "      <td>284.0</td>\n",
       "      <td>1458.0</td>\n",
       "      <td>13391617.0</td>\n",
       "    </tr>\n",
       "    <tr>\n",
       "      <th>Best Solution</th>\n",
       "      <td>309.0</td>\n",
       "      <td>1458.0</td>\n",
       "      <td>13549094.0</td>\n",
       "    </tr>\n",
       "  </tbody>\n",
       "</table>\n",
       "</div>"
      ],
      "text/plain": [
       "                  p0      p1          p2\n",
       "Genetic 5      309.0  1456.0  13474183.0\n",
       "Memetic 5      284.0  1453.0  13424474.0\n",
       "Genetic 16     309.0  1456.0  13365178.0\n",
       "Memetic 16     309.0  1456.0  13405920.0\n",
       "Genetic 25     309.0  1453.0  13518963.0\n",
       "Memetic 25     309.0  1456.0  13433680.0\n",
       "Genetic 40     309.0  1455.0  13473708.0\n",
       "Memetic 40     284.0  1458.0  13391617.0\n",
       "Best Solution  309.0  1458.0  13549094.0"
      ]
     },
     "execution_count": 6,
     "metadata": {},
     "output_type": "execute_result"
    }
   ],
   "source": [
    "df_gen = pd.read_csv('resultados_genetic.csv',index_col=0)\n",
    "df_gen"
   ]
  },
  {
   "cell_type": "code",
   "execution_count": 7,
   "metadata": {
    "scrolled": false
   },
   "outputs": [
    {
     "data": {
      "application/vnd.plotly.v1+json": {
       "config": {
        "linkText": "Export to plot.ly",
        "plotlyServerURL": "https://plot.ly",
        "responsive": true,
        "showLink": true
       },
       "data": [
        {
         "line": {
          "color": "rgba(255, 153, 51, 1.0)",
          "dash": "solid",
          "shape": "linear",
          "width": 1.3
         },
         "mode": "lines",
         "name": "p0",
         "text": "",
         "type": "scatter",
         "uid": "f8cb68c9-b42a-4d1c-971c-b2b008b34ee7",
         "x": [
          "Genetic 5",
          "Memetic 5",
          "Genetic 16",
          "Memetic 16",
          "Genetic 25",
          "Memetic 25",
          "Genetic 40",
          "Memetic 40",
          "Best Solution"
         ],
         "y": [
          309,
          284,
          309,
          309,
          309,
          309,
          309,
          284,
          309
         ]
        }
       ],
       "layout": {
        "legend": {
         "bgcolor": "#F5F6F9",
         "font": {
          "color": "#4D5663"
         }
        },
        "paper_bgcolor": "#F5F6F9",
        "plot_bgcolor": "#F5F6F9",
        "title": {
         "font": {
          "color": "#4D5663"
         }
        },
        "xaxis": {
         "gridcolor": "#E1E5ED",
         "showgrid": true,
         "tickfont": {
          "color": "#4D5663"
         },
         "title": {
          "font": {
           "color": "#4D5663"
          },
          "text": ""
         },
         "zerolinecolor": "#E1E5ED"
        },
        "yaxis": {
         "gridcolor": "#E1E5ED",
         "showgrid": true,
         "tickfont": {
          "color": "#4D5663"
         },
         "title": {
          "font": {
           "color": "#4D5663"
          },
          "text": ""
         },
         "zerolinecolor": "#E1E5ED"
        }
       }
      },
      "text/html": [
       "<div>\n",
       "        \n",
       "        \n",
       "            <div id=\"9c0df6e8-e0cd-43ae-bfd8-5b2b1c46ce1e\" class=\"plotly-graph-div\"></div>\n",
       "            <script type=\"text/javascript\">\n",
       "                require([\"plotly\"], function(Plotly) {\n",
       "                    window.PLOTLYENV=window.PLOTLYENV || {};\n",
       "                    window.PLOTLYENV.BASE_URL='https://plot.ly';\n",
       "                    \n",
       "                if (document.getElementById(\"9c0df6e8-e0cd-43ae-bfd8-5b2b1c46ce1e\")) {\n",
       "                    Plotly.newPlot(\n",
       "                        '9c0df6e8-e0cd-43ae-bfd8-5b2b1c46ce1e',\n",
       "                        [{\"line\": {\"color\": \"rgba(255, 153, 51, 1.0)\", \"dash\": \"solid\", \"shape\": \"linear\", \"width\": 1.3}, \"mode\": \"lines\", \"name\": \"p0\", \"text\": \"\", \"type\": \"scatter\", \"uid\": \"9862ad7d-d352-481e-9fab-93adc6d93529\", \"x\": [\"Genetic 5\", \"Memetic 5\", \"Genetic 16\", \"Memetic 16\", \"Genetic 25\", \"Memetic 25\", \"Genetic 40\", \"Memetic 40\", \"Best Solution\"], \"y\": [309.0, 284.0, 309.0, 309.0, 309.0, 309.0, 309.0, 284.0, 309.0]}],\n",
       "                        {\"legend\": {\"bgcolor\": \"#F5F6F9\", \"font\": {\"color\": \"#4D5663\"}}, \"paper_bgcolor\": \"#F5F6F9\", \"plot_bgcolor\": \"#F5F6F9\", \"title\": {\"font\": {\"color\": \"#4D5663\"}}, \"xaxis\": {\"gridcolor\": \"#E1E5ED\", \"showgrid\": true, \"tickfont\": {\"color\": \"#4D5663\"}, \"title\": {\"font\": {\"color\": \"#4D5663\"}, \"text\": \"\"}, \"zerolinecolor\": \"#E1E5ED\"}, \"yaxis\": {\"gridcolor\": \"#E1E5ED\", \"showgrid\": true, \"tickfont\": {\"color\": \"#4D5663\"}, \"title\": {\"font\": {\"color\": \"#4D5663\"}, \"text\": \"\"}, \"zerolinecolor\": \"#E1E5ED\"}},\n",
       "                        {\"showLink\": true, \"linkText\": \"Export to plot.ly\", \"plotlyServerURL\": \"https://plot.ly\", \"responsive\": true}\n",
       "                    )\n",
       "                };\n",
       "                });\n",
       "            </script>\n",
       "        </div>"
      ]
     },
     "metadata": {},
     "output_type": "display_data"
    },
    {
     "data": {
      "application/vnd.plotly.v1+json": {
       "config": {
        "linkText": "Export to plot.ly",
        "plotlyServerURL": "https://plot.ly",
        "responsive": true,
        "showLink": true
       },
       "data": [
        {
         "line": {
          "color": "rgba(255, 153, 51, 1.0)",
          "dash": "solid",
          "shape": "linear",
          "width": 1.3
         },
         "mode": "lines",
         "name": "p1",
         "text": "",
         "type": "scatter",
         "uid": "ae19bd3a-aa56-42e3-ad7f-805df24bbcee",
         "x": [
          "Genetic 5",
          "Memetic 5",
          "Genetic 16",
          "Memetic 16",
          "Genetic 25",
          "Memetic 25",
          "Genetic 40",
          "Memetic 40",
          "Best Solution"
         ],
         "y": [
          1456,
          1453,
          1456,
          1456,
          1453,
          1456,
          1455,
          1458,
          1458
         ]
        }
       ],
       "layout": {
        "legend": {
         "bgcolor": "#F5F6F9",
         "font": {
          "color": "#4D5663"
         }
        },
        "paper_bgcolor": "#F5F6F9",
        "plot_bgcolor": "#F5F6F9",
        "title": {
         "font": {
          "color": "#4D5663"
         }
        },
        "xaxis": {
         "gridcolor": "#E1E5ED",
         "showgrid": true,
         "tickfont": {
          "color": "#4D5663"
         },
         "title": {
          "font": {
           "color": "#4D5663"
          },
          "text": ""
         },
         "zerolinecolor": "#E1E5ED"
        },
        "yaxis": {
         "gridcolor": "#E1E5ED",
         "showgrid": true,
         "tickfont": {
          "color": "#4D5663"
         },
         "title": {
          "font": {
           "color": "#4D5663"
          },
          "text": ""
         },
         "zerolinecolor": "#E1E5ED"
        }
       }
      },
      "text/html": [
       "<div>\n",
       "        \n",
       "        \n",
       "            <div id=\"4b9b7908-20c6-4b1d-afe5-b122c39b0421\" class=\"plotly-graph-div\"></div>\n",
       "            <script type=\"text/javascript\">\n",
       "                require([\"plotly\"], function(Plotly) {\n",
       "                    window.PLOTLYENV=window.PLOTLYENV || {};\n",
       "                    window.PLOTLYENV.BASE_URL='https://plot.ly';\n",
       "                    \n",
       "                if (document.getElementById(\"4b9b7908-20c6-4b1d-afe5-b122c39b0421\")) {\n",
       "                    Plotly.newPlot(\n",
       "                        '4b9b7908-20c6-4b1d-afe5-b122c39b0421',\n",
       "                        [{\"line\": {\"color\": \"rgba(255, 153, 51, 1.0)\", \"dash\": \"solid\", \"shape\": \"linear\", \"width\": 1.3}, \"mode\": \"lines\", \"name\": \"p1\", \"text\": \"\", \"type\": \"scatter\", \"uid\": \"41d283f7-438a-4ca9-98c2-c74a35ed5f5e\", \"x\": [\"Genetic 5\", \"Memetic 5\", \"Genetic 16\", \"Memetic 16\", \"Genetic 25\", \"Memetic 25\", \"Genetic 40\", \"Memetic 40\", \"Best Solution\"], \"y\": [1456.0, 1453.0, 1456.0, 1456.0, 1453.0, 1456.0, 1455.0, 1458.0, 1458.0]}],\n",
       "                        {\"legend\": {\"bgcolor\": \"#F5F6F9\", \"font\": {\"color\": \"#4D5663\"}}, \"paper_bgcolor\": \"#F5F6F9\", \"plot_bgcolor\": \"#F5F6F9\", \"title\": {\"font\": {\"color\": \"#4D5663\"}}, \"xaxis\": {\"gridcolor\": \"#E1E5ED\", \"showgrid\": true, \"tickfont\": {\"color\": \"#4D5663\"}, \"title\": {\"font\": {\"color\": \"#4D5663\"}, \"text\": \"\"}, \"zerolinecolor\": \"#E1E5ED\"}, \"yaxis\": {\"gridcolor\": \"#E1E5ED\", \"showgrid\": true, \"tickfont\": {\"color\": \"#4D5663\"}, \"title\": {\"font\": {\"color\": \"#4D5663\"}, \"text\": \"\"}, \"zerolinecolor\": \"#E1E5ED\"}},\n",
       "                        {\"showLink\": true, \"linkText\": \"Export to plot.ly\", \"plotlyServerURL\": \"https://plot.ly\", \"responsive\": true}\n",
       "                    )\n",
       "                };\n",
       "                });\n",
       "            </script>\n",
       "        </div>"
      ]
     },
     "metadata": {},
     "output_type": "display_data"
    },
    {
     "data": {
      "application/vnd.plotly.v1+json": {
       "config": {
        "linkText": "Export to plot.ly",
        "plotlyServerURL": "https://plot.ly",
        "responsive": true,
        "showLink": true
       },
       "data": [
        {
         "line": {
          "color": "rgba(255, 153, 51, 1.0)",
          "dash": "solid",
          "shape": "linear",
          "width": 1.3
         },
         "mode": "lines",
         "name": "p2",
         "text": "",
         "type": "scatter",
         "uid": "24d88a18-3c2c-4bae-bcca-cc11d9d60796",
         "x": [
          "Genetic 5",
          "Memetic 5",
          "Genetic 16",
          "Memetic 16",
          "Genetic 25",
          "Memetic 25",
          "Genetic 40",
          "Memetic 40",
          "Best Solution"
         ],
         "y": [
          13474183,
          13424474,
          13365178,
          13405920,
          13518963,
          13433680,
          13473708,
          13391617,
          13549094
         ]
        }
       ],
       "layout": {
        "legend": {
         "bgcolor": "#F5F6F9",
         "font": {
          "color": "#4D5663"
         }
        },
        "paper_bgcolor": "#F5F6F9",
        "plot_bgcolor": "#F5F6F9",
        "title": {
         "font": {
          "color": "#4D5663"
         }
        },
        "xaxis": {
         "gridcolor": "#E1E5ED",
         "showgrid": true,
         "tickfont": {
          "color": "#4D5663"
         },
         "title": {
          "font": {
           "color": "#4D5663"
          },
          "text": ""
         },
         "zerolinecolor": "#E1E5ED"
        },
        "yaxis": {
         "gridcolor": "#E1E5ED",
         "showgrid": true,
         "tickfont": {
          "color": "#4D5663"
         },
         "title": {
          "font": {
           "color": "#4D5663"
          },
          "text": ""
         },
         "zerolinecolor": "#E1E5ED"
        }
       }
      },
      "text/html": [
       "<div>\n",
       "        \n",
       "        \n",
       "            <div id=\"ea97d67c-8483-4fa2-ab2c-355f155bb36a\" class=\"plotly-graph-div\"></div>\n",
       "            <script type=\"text/javascript\">\n",
       "                require([\"plotly\"], function(Plotly) {\n",
       "                    window.PLOTLYENV=window.PLOTLYENV || {};\n",
       "                    window.PLOTLYENV.BASE_URL='https://plot.ly';\n",
       "                    \n",
       "                if (document.getElementById(\"ea97d67c-8483-4fa2-ab2c-355f155bb36a\")) {\n",
       "                    Plotly.newPlot(\n",
       "                        'ea97d67c-8483-4fa2-ab2c-355f155bb36a',\n",
       "                        [{\"line\": {\"color\": \"rgba(255, 153, 51, 1.0)\", \"dash\": \"solid\", \"shape\": \"linear\", \"width\": 1.3}, \"mode\": \"lines\", \"name\": \"p2\", \"text\": \"\", \"type\": \"scatter\", \"uid\": \"a2e4b2e2-04af-47dc-ad5c-70762ddbdf79\", \"x\": [\"Genetic 5\", \"Memetic 5\", \"Genetic 16\", \"Memetic 16\", \"Genetic 25\", \"Memetic 25\", \"Genetic 40\", \"Memetic 40\", \"Best Solution\"], \"y\": [13474183.0, 13424474.0, 13365178.0, 13405920.0, 13518963.0, 13433680.0, 13473708.0, 13391617.0, 13549094.0]}],\n",
       "                        {\"legend\": {\"bgcolor\": \"#F5F6F9\", \"font\": {\"color\": \"#4D5663\"}}, \"paper_bgcolor\": \"#F5F6F9\", \"plot_bgcolor\": \"#F5F6F9\", \"title\": {\"font\": {\"color\": \"#4D5663\"}}, \"xaxis\": {\"gridcolor\": \"#E1E5ED\", \"showgrid\": true, \"tickfont\": {\"color\": \"#4D5663\"}, \"title\": {\"font\": {\"color\": \"#4D5663\"}, \"text\": \"\"}, \"zerolinecolor\": \"#E1E5ED\"}, \"yaxis\": {\"gridcolor\": \"#E1E5ED\", \"showgrid\": true, \"tickfont\": {\"color\": \"#4D5663\"}, \"title\": {\"font\": {\"color\": \"#4D5663\"}, \"text\": \"\"}, \"zerolinecolor\": \"#E1E5ED\"}},\n",
       "                        {\"showLink\": true, \"linkText\": \"Export to plot.ly\", \"plotlyServerURL\": \"https://plot.ly\", \"responsive\": true}\n",
       "                    )\n",
       "                };\n",
       "                });\n",
       "            </script>\n",
       "        </div>"
      ]
     },
     "metadata": {},
     "output_type": "display_data"
    }
   ],
   "source": [
    "for column_name in df_gen.columns.values:\n",
    "    df_gen.loc[:,column_name].iplot()"
   ]
  },
  {
   "cell_type": "code",
   "execution_count": 8,
   "metadata": {},
   "outputs": [],
   "source": [
    "df.drop(index='Best Solution',inplace=True)"
   ]
  },
  {
   "cell_type": "code",
   "execution_count": 9,
   "metadata": {},
   "outputs": [
    {
     "data": {
      "text/html": [
       "<div>\n",
       "<style scoped>\n",
       "    .dataframe tbody tr th:only-of-type {\n",
       "        vertical-align: middle;\n",
       "    }\n",
       "\n",
       "    .dataframe tbody tr th {\n",
       "        vertical-align: top;\n",
       "    }\n",
       "\n",
       "    .dataframe thead th {\n",
       "        text-align: right;\n",
       "    }\n",
       "</style>\n",
       "<table border=\"1\" class=\"dataframe\">\n",
       "  <thead>\n",
       "    <tr style=\"text-align: right;\">\n",
       "      <th></th>\n",
       "      <th>p0</th>\n",
       "      <th>p1</th>\n",
       "      <th>p2</th>\n",
       "    </tr>\n",
       "  </thead>\n",
       "  <tbody>\n",
       "    <tr>\n",
       "      <th>Greedy</th>\n",
       "      <td>247.0</td>\n",
       "      <td>1315.0</td>\n",
       "      <td>13141140.0</td>\n",
       "    </tr>\n",
       "    <tr>\n",
       "      <th>Local Search</th>\n",
       "      <td>247.0</td>\n",
       "      <td>1315.0</td>\n",
       "      <td>13141140.0</td>\n",
       "    </tr>\n",
       "    <tr>\n",
       "      <th>Genetic</th>\n",
       "      <td>309.0</td>\n",
       "      <td>1458.0</td>\n",
       "      <td>13152395.0</td>\n",
       "    </tr>\n",
       "    <tr>\n",
       "      <th>Memetic</th>\n",
       "      <td>284.0</td>\n",
       "      <td>1453.0</td>\n",
       "      <td>13449995.0</td>\n",
       "    </tr>\n",
       "    <tr>\n",
       "      <th>ACO</th>\n",
       "      <td>284.0</td>\n",
       "      <td>1453.0</td>\n",
       "      <td>13410139.0</td>\n",
       "    </tr>\n",
       "    <tr>\n",
       "      <th>Genetic 5</th>\n",
       "      <td>309.0</td>\n",
       "      <td>1456.0</td>\n",
       "      <td>13474183.0</td>\n",
       "    </tr>\n",
       "    <tr>\n",
       "      <th>Memetic 5</th>\n",
       "      <td>284.0</td>\n",
       "      <td>1453.0</td>\n",
       "      <td>13424474.0</td>\n",
       "    </tr>\n",
       "    <tr>\n",
       "      <th>Genetic 16</th>\n",
       "      <td>309.0</td>\n",
       "      <td>1456.0</td>\n",
       "      <td>13365178.0</td>\n",
       "    </tr>\n",
       "    <tr>\n",
       "      <th>Memetic 16</th>\n",
       "      <td>309.0</td>\n",
       "      <td>1456.0</td>\n",
       "      <td>13405920.0</td>\n",
       "    </tr>\n",
       "    <tr>\n",
       "      <th>Genetic 25</th>\n",
       "      <td>309.0</td>\n",
       "      <td>1453.0</td>\n",
       "      <td>13518963.0</td>\n",
       "    </tr>\n",
       "    <tr>\n",
       "      <th>Memetic 25</th>\n",
       "      <td>309.0</td>\n",
       "      <td>1456.0</td>\n",
       "      <td>13433680.0</td>\n",
       "    </tr>\n",
       "    <tr>\n",
       "      <th>Genetic 40</th>\n",
       "      <td>309.0</td>\n",
       "      <td>1455.0</td>\n",
       "      <td>13473708.0</td>\n",
       "    </tr>\n",
       "    <tr>\n",
       "      <th>Memetic 40</th>\n",
       "      <td>284.0</td>\n",
       "      <td>1458.0</td>\n",
       "      <td>13391617.0</td>\n",
       "    </tr>\n",
       "    <tr>\n",
       "      <th>Best Solution</th>\n",
       "      <td>309.0</td>\n",
       "      <td>1458.0</td>\n",
       "      <td>13549094.0</td>\n",
       "    </tr>\n",
       "  </tbody>\n",
       "</table>\n",
       "</div>"
      ],
      "text/plain": [
       "                  p0      p1          p2\n",
       "Greedy         247.0  1315.0  13141140.0\n",
       "Local Search   247.0  1315.0  13141140.0\n",
       "Genetic        309.0  1458.0  13152395.0\n",
       "Memetic        284.0  1453.0  13449995.0\n",
       "ACO            284.0  1453.0  13410139.0\n",
       "Genetic 5      309.0  1456.0  13474183.0\n",
       "Memetic 5      284.0  1453.0  13424474.0\n",
       "Genetic 16     309.0  1456.0  13365178.0\n",
       "Memetic 16     309.0  1456.0  13405920.0\n",
       "Genetic 25     309.0  1453.0  13518963.0\n",
       "Memetic 25     309.0  1456.0  13433680.0\n",
       "Genetic 40     309.0  1455.0  13473708.0\n",
       "Memetic 40     284.0  1458.0  13391617.0\n",
       "Best Solution  309.0  1458.0  13549094.0"
      ]
     },
     "execution_count": 9,
     "metadata": {},
     "output_type": "execute_result"
    }
   ],
   "source": [
    "df_plots_final = pd.DataFrame.append(df,df_gen)\n",
    "df_plots_final"
   ]
  },
  {
   "cell_type": "code",
   "execution_count": null,
   "metadata": {},
   "outputs": [],
   "source": []
  },
  {
   "cell_type": "code",
   "execution_count": 10,
   "metadata": {
    "scrolled": true
   },
   "outputs": [
    {
     "data": {
      "application/vnd.plotly.v1+json": {
       "config": {
        "linkText": "Export to plot.ly",
        "plotlyServerURL": "https://plot.ly",
        "responsive": true,
        "showLink": true
       },
       "data": [
        {
         "line": {
          "color": "rgba(255, 153, 51, 1.0)",
          "dash": "solid",
          "shape": "linear",
          "width": 1.3
         },
         "mode": "lines",
         "name": "p0",
         "text": "",
         "type": "scatter",
         "uid": "1b76487d-0e86-4a50-ab6f-7decd1ecc894",
         "x": [
          "Greedy",
          "Local Search",
          "Genetic",
          "Memetic",
          "ACO",
          "Genetic 5",
          "Memetic 5",
          "Genetic 16",
          "Memetic 16",
          "Genetic 25",
          "Memetic 25",
          "Genetic 40",
          "Memetic 40",
          "Best Solution"
         ],
         "y": [
          247,
          247,
          309,
          284,
          284,
          309,
          284,
          309,
          309,
          309,
          309,
          309,
          284,
          309
         ]
        }
       ],
       "layout": {
        "legend": {
         "bgcolor": "#F5F6F9",
         "font": {
          "color": "#4D5663"
         }
        },
        "paper_bgcolor": "#F5F6F9",
        "plot_bgcolor": "#F5F6F9",
        "title": {
         "font": {
          "color": "#4D5663"
         }
        },
        "xaxis": {
         "gridcolor": "#E1E5ED",
         "showgrid": true,
         "tickfont": {
          "color": "#4D5663"
         },
         "title": {
          "font": {
           "color": "#4D5663"
          },
          "text": ""
         },
         "zerolinecolor": "#E1E5ED"
        },
        "yaxis": {
         "gridcolor": "#E1E5ED",
         "showgrid": true,
         "tickfont": {
          "color": "#4D5663"
         },
         "title": {
          "font": {
           "color": "#4D5663"
          },
          "text": ""
         },
         "zerolinecolor": "#E1E5ED"
        }
       }
      },
      "text/html": [
       "<div>\n",
       "        \n",
       "        \n",
       "            <div id=\"032d824a-d227-4354-8140-8feb8a48bb06\" class=\"plotly-graph-div\"></div>\n",
       "            <script type=\"text/javascript\">\n",
       "                require([\"plotly\"], function(Plotly) {\n",
       "                    window.PLOTLYENV=window.PLOTLYENV || {};\n",
       "                    window.PLOTLYENV.BASE_URL='https://plot.ly';\n",
       "                    \n",
       "                if (document.getElementById(\"032d824a-d227-4354-8140-8feb8a48bb06\")) {\n",
       "                    Plotly.newPlot(\n",
       "                        '032d824a-d227-4354-8140-8feb8a48bb06',\n",
       "                        [{\"line\": {\"color\": \"rgba(255, 153, 51, 1.0)\", \"dash\": \"solid\", \"shape\": \"linear\", \"width\": 1.3}, \"mode\": \"lines\", \"name\": \"p0\", \"text\": \"\", \"type\": \"scatter\", \"uid\": \"bf8a5be6-fb15-47f1-b360-6a73a56f6cfe\", \"x\": [\"Greedy\", \"Local Search\", \"Genetic\", \"Memetic\", \"ACO\", \"Genetic 5\", \"Memetic 5\", \"Genetic 16\", \"Memetic 16\", \"Genetic 25\", \"Memetic 25\", \"Genetic 40\", \"Memetic 40\", \"Best Solution\"], \"y\": [247.0, 247.0, 309.0, 284.0, 284.0, 309.0, 284.0, 309.0, 309.0, 309.0, 309.0, 309.0, 284.0, 309.0]}],\n",
       "                        {\"legend\": {\"bgcolor\": \"#F5F6F9\", \"font\": {\"color\": \"#4D5663\"}}, \"paper_bgcolor\": \"#F5F6F9\", \"plot_bgcolor\": \"#F5F6F9\", \"title\": {\"font\": {\"color\": \"#4D5663\"}}, \"xaxis\": {\"gridcolor\": \"#E1E5ED\", \"showgrid\": true, \"tickfont\": {\"color\": \"#4D5663\"}, \"title\": {\"font\": {\"color\": \"#4D5663\"}, \"text\": \"\"}, \"zerolinecolor\": \"#E1E5ED\"}, \"yaxis\": {\"gridcolor\": \"#E1E5ED\", \"showgrid\": true, \"tickfont\": {\"color\": \"#4D5663\"}, \"title\": {\"font\": {\"color\": \"#4D5663\"}, \"text\": \"\"}, \"zerolinecolor\": \"#E1E5ED\"}},\n",
       "                        {\"showLink\": true, \"linkText\": \"Export to plot.ly\", \"plotlyServerURL\": \"https://plot.ly\", \"responsive\": true}\n",
       "                    )\n",
       "                };\n",
       "                });\n",
       "            </script>\n",
       "        </div>"
      ]
     },
     "metadata": {},
     "output_type": "display_data"
    },
    {
     "data": {
      "application/vnd.plotly.v1+json": {
       "config": {
        "linkText": "Export to plot.ly",
        "plotlyServerURL": "https://plot.ly",
        "responsive": true,
        "showLink": true
       },
       "data": [
        {
         "line": {
          "color": "rgba(255, 153, 51, 1.0)",
          "dash": "solid",
          "shape": "linear",
          "width": 1.3
         },
         "mode": "lines",
         "name": "p1",
         "text": "",
         "type": "scatter",
         "uid": "8234b3f4-f7d0-48f4-add0-ee137381e030",
         "x": [
          "Greedy",
          "Local Search",
          "Genetic",
          "Memetic",
          "ACO",
          "Genetic 5",
          "Memetic 5",
          "Genetic 16",
          "Memetic 16",
          "Genetic 25",
          "Memetic 25",
          "Genetic 40",
          "Memetic 40",
          "Best Solution"
         ],
         "y": [
          1315,
          1315,
          1458,
          1453,
          1453,
          1456,
          1453,
          1456,
          1456,
          1453,
          1456,
          1455,
          1458,
          1458
         ]
        }
       ],
       "layout": {
        "legend": {
         "bgcolor": "#F5F6F9",
         "font": {
          "color": "#4D5663"
         }
        },
        "paper_bgcolor": "#F5F6F9",
        "plot_bgcolor": "#F5F6F9",
        "title": {
         "font": {
          "color": "#4D5663"
         }
        },
        "xaxis": {
         "gridcolor": "#E1E5ED",
         "showgrid": true,
         "tickfont": {
          "color": "#4D5663"
         },
         "title": {
          "font": {
           "color": "#4D5663"
          },
          "text": ""
         },
         "zerolinecolor": "#E1E5ED"
        },
        "yaxis": {
         "gridcolor": "#E1E5ED",
         "showgrid": true,
         "tickfont": {
          "color": "#4D5663"
         },
         "title": {
          "font": {
           "color": "#4D5663"
          },
          "text": ""
         },
         "zerolinecolor": "#E1E5ED"
        }
       }
      },
      "text/html": [
       "<div>\n",
       "        \n",
       "        \n",
       "            <div id=\"a7c568ad-4603-4427-a134-1a9ff26add1c\" class=\"plotly-graph-div\"></div>\n",
       "            <script type=\"text/javascript\">\n",
       "                require([\"plotly\"], function(Plotly) {\n",
       "                    window.PLOTLYENV=window.PLOTLYENV || {};\n",
       "                    window.PLOTLYENV.BASE_URL='https://plot.ly';\n",
       "                    \n",
       "                if (document.getElementById(\"a7c568ad-4603-4427-a134-1a9ff26add1c\")) {\n",
       "                    Plotly.newPlot(\n",
       "                        'a7c568ad-4603-4427-a134-1a9ff26add1c',\n",
       "                        [{\"line\": {\"color\": \"rgba(255, 153, 51, 1.0)\", \"dash\": \"solid\", \"shape\": \"linear\", \"width\": 1.3}, \"mode\": \"lines\", \"name\": \"p1\", \"text\": \"\", \"type\": \"scatter\", \"uid\": \"c70c08a9-f2e2-4713-8dd1-c5d2d9a32e4a\", \"x\": [\"Greedy\", \"Local Search\", \"Genetic\", \"Memetic\", \"ACO\", \"Genetic 5\", \"Memetic 5\", \"Genetic 16\", \"Memetic 16\", \"Genetic 25\", \"Memetic 25\", \"Genetic 40\", \"Memetic 40\", \"Best Solution\"], \"y\": [1315.0, 1315.0, 1458.0, 1453.0, 1453.0, 1456.0, 1453.0, 1456.0, 1456.0, 1453.0, 1456.0, 1455.0, 1458.0, 1458.0]}],\n",
       "                        {\"legend\": {\"bgcolor\": \"#F5F6F9\", \"font\": {\"color\": \"#4D5663\"}}, \"paper_bgcolor\": \"#F5F6F9\", \"plot_bgcolor\": \"#F5F6F9\", \"title\": {\"font\": {\"color\": \"#4D5663\"}}, \"xaxis\": {\"gridcolor\": \"#E1E5ED\", \"showgrid\": true, \"tickfont\": {\"color\": \"#4D5663\"}, \"title\": {\"font\": {\"color\": \"#4D5663\"}, \"text\": \"\"}, \"zerolinecolor\": \"#E1E5ED\"}, \"yaxis\": {\"gridcolor\": \"#E1E5ED\", \"showgrid\": true, \"tickfont\": {\"color\": \"#4D5663\"}, \"title\": {\"font\": {\"color\": \"#4D5663\"}, \"text\": \"\"}, \"zerolinecolor\": \"#E1E5ED\"}},\n",
       "                        {\"showLink\": true, \"linkText\": \"Export to plot.ly\", \"plotlyServerURL\": \"https://plot.ly\", \"responsive\": true}\n",
       "                    )\n",
       "                };\n",
       "                });\n",
       "            </script>\n",
       "        </div>"
      ]
     },
     "metadata": {},
     "output_type": "display_data"
    },
    {
     "data": {
      "application/vnd.plotly.v1+json": {
       "config": {
        "linkText": "Export to plot.ly",
        "plotlyServerURL": "https://plot.ly",
        "responsive": true,
        "showLink": true
       },
       "data": [
        {
         "line": {
          "color": "rgba(255, 153, 51, 1.0)",
          "dash": "solid",
          "shape": "linear",
          "width": 1.3
         },
         "mode": "lines",
         "name": "p2",
         "text": "",
         "type": "scatter",
         "uid": "0d4d01ed-b25d-4248-9b62-84aa189822db",
         "x": [
          "Greedy",
          "Local Search",
          "Genetic",
          "Memetic",
          "ACO",
          "Genetic 5",
          "Memetic 5",
          "Genetic 16",
          "Memetic 16",
          "Genetic 25",
          "Memetic 25",
          "Genetic 40",
          "Memetic 40",
          "Best Solution"
         ],
         "y": [
          13141140,
          13141140,
          13152395,
          13449995,
          13410139,
          13474183,
          13424474,
          13365178,
          13405920,
          13518963,
          13433680,
          13473708,
          13391617,
          13549094
         ]
        }
       ],
       "layout": {
        "legend": {
         "bgcolor": "#F5F6F9",
         "font": {
          "color": "#4D5663"
         }
        },
        "paper_bgcolor": "#F5F6F9",
        "plot_bgcolor": "#F5F6F9",
        "title": {
         "font": {
          "color": "#4D5663"
         }
        },
        "xaxis": {
         "gridcolor": "#E1E5ED",
         "showgrid": true,
         "tickfont": {
          "color": "#4D5663"
         },
         "title": {
          "font": {
           "color": "#4D5663"
          },
          "text": ""
         },
         "zerolinecolor": "#E1E5ED"
        },
        "yaxis": {
         "gridcolor": "#E1E5ED",
         "showgrid": true,
         "tickfont": {
          "color": "#4D5663"
         },
         "title": {
          "font": {
           "color": "#4D5663"
          },
          "text": ""
         },
         "zerolinecolor": "#E1E5ED"
        }
       }
      },
      "text/html": [
       "<div>\n",
       "        \n",
       "        \n",
       "            <div id=\"f9f1baf4-8621-4d07-8823-897883021687\" class=\"plotly-graph-div\"></div>\n",
       "            <script type=\"text/javascript\">\n",
       "                require([\"plotly\"], function(Plotly) {\n",
       "                    window.PLOTLYENV=window.PLOTLYENV || {};\n",
       "                    window.PLOTLYENV.BASE_URL='https://plot.ly';\n",
       "                    \n",
       "                if (document.getElementById(\"f9f1baf4-8621-4d07-8823-897883021687\")) {\n",
       "                    Plotly.newPlot(\n",
       "                        'f9f1baf4-8621-4d07-8823-897883021687',\n",
       "                        [{\"line\": {\"color\": \"rgba(255, 153, 51, 1.0)\", \"dash\": \"solid\", \"shape\": \"linear\", \"width\": 1.3}, \"mode\": \"lines\", \"name\": \"p2\", \"text\": \"\", \"type\": \"scatter\", \"uid\": \"802cf339-b56c-4a4c-b59a-c3f0789318af\", \"x\": [\"Greedy\", \"Local Search\", \"Genetic\", \"Memetic\", \"ACO\", \"Genetic 5\", \"Memetic 5\", \"Genetic 16\", \"Memetic 16\", \"Genetic 25\", \"Memetic 25\", \"Genetic 40\", \"Memetic 40\", \"Best Solution\"], \"y\": [13141140.0, 13141140.0, 13152395.0, 13449995.0, 13410139.0, 13474183.0, 13424474.0, 13365178.0, 13405920.0, 13518963.0, 13433680.0, 13473708.0, 13391617.0, 13549094.0]}],\n",
       "                        {\"legend\": {\"bgcolor\": \"#F5F6F9\", \"font\": {\"color\": \"#4D5663\"}}, \"paper_bgcolor\": \"#F5F6F9\", \"plot_bgcolor\": \"#F5F6F9\", \"title\": {\"font\": {\"color\": \"#4D5663\"}}, \"xaxis\": {\"gridcolor\": \"#E1E5ED\", \"showgrid\": true, \"tickfont\": {\"color\": \"#4D5663\"}, \"title\": {\"font\": {\"color\": \"#4D5663\"}, \"text\": \"\"}, \"zerolinecolor\": \"#E1E5ED\"}, \"yaxis\": {\"gridcolor\": \"#E1E5ED\", \"showgrid\": true, \"tickfont\": {\"color\": \"#4D5663\"}, \"title\": {\"font\": {\"color\": \"#4D5663\"}, \"text\": \"\"}, \"zerolinecolor\": \"#E1E5ED\"}},\n",
       "                        {\"showLink\": true, \"linkText\": \"Export to plot.ly\", \"plotlyServerURL\": \"https://plot.ly\", \"responsive\": true}\n",
       "                    )\n",
       "                };\n",
       "                });\n",
       "            </script>\n",
       "        </div>"
      ]
     },
     "metadata": {},
     "output_type": "display_data"
    }
   ],
   "source": [
    "for column in df_plots_final.columns.values:\n",
    "    df_plots_final.loc[:,column].iplot()"
   ]
  }
 ],
 "metadata": {
  "kernelspec": {
   "display_name": "TFM",
   "language": "python",
   "name": "tfm"
  },
  "language_info": {
   "codemirror_mode": {
    "name": "ipython",
    "version": 3
   },
   "file_extension": ".py",
   "mimetype": "text/x-python",
   "name": "python",
   "nbconvert_exporter": "python",
   "pygments_lexer": "ipython3",
   "version": "3.6.7"
  }
 },
 "nbformat": 4,
 "nbformat_minor": 2
}
