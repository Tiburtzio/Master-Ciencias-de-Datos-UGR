{
 "cells": [
  {
   "cell_type": "code",
   "execution_count": 1,
   "metadata": {},
   "outputs": [
    {
     "name": "stdout",
     "output_type": "stream",
     "text": [
      "(69, 10)\n",
      "(50, 10)\n",
      "(199, 10)\n",
      "(5,)\n",
      "5\n"
     ]
    }
   ],
   "source": [
    "import numpy as np\n",
    "import GPy\n",
    "import scipy.io\n",
    "import matplotlib.pyplot as plt\n",
    "\n",
    "if __name__ == \"__main__\":\n",
    "    mat = scipy.io.loadmat('Datos.mat')\n",
    "    healthy = mat['Healthy_folds'][0]\n",
    "    malign = mat['Malign_folds'][0]\n",
    "    print(malign[4][0].shape)\n",
    "    print(malign[3][0].shape)\n",
    "    print(healthy[4][0].shape)\n",
    "    print(healthy.shape)\n",
    "    print(len(healthy))"
   ]
  },
  {
   "cell_type": "code",
   "execution_count": 2,
   "metadata": {},
   "outputs": [
    {
     "name": "stdout",
     "output_type": "stream",
     "text": [
      "(1, 268)\n"
     ]
    }
   ],
   "source": [
    "# Función para crear el conjunto de training.\n",
    "def createTrainingSet(healthy_set,malign_set,index):\n",
    "    healthy_list = [healthy_set[ind][0] for ind in range(len(healthy_set)) if ind != index]\n",
    "    malign_list = [malign_set[ind][0] for ind in range(len(malign_set)) if ind != index]\n",
    "    \n",
    "    trainSet = np.array(healthy_list[0])\n",
    "    trainLabels = np.ones(healthy_list[0].shape[0])*(-1)\n",
    "    trainSet = np.append(trainSet,malign_list[0],axis=0)\n",
    "    trainLabels = np.append(trainLabels,np.ones(malign_list[0].shape[0]))\n",
    "   \n",
    "    for ind in range(1,len(healthy_list)):\n",
    "        trainSet = np.append(trainSet,healthy_list[ind],axis=0)\n",
    "        trainLabels = np.append(trainLabels,np.ones(healthy_list[ind].shape[0])*(-1))\n",
    "        trainSet = np.append(trainSet,malign_list[ind],axis=0)\n",
    "        trainLabels = np.append(trainLabels,np.ones(malign_list[ind].shape[0]))\n",
    "    \n",
    "    \n",
    "    trainLabels = np.mat(trainLabels,dtype=int)\n",
    "    \n",
    "    return trainSet,trainLabels\n",
    "\n",
    "\n",
    "# Función para crear el conjunto de test.\n",
    "def createTestSet(healthy_set,malign_set,index):\n",
    "    testSet = np.append(healthy_set[index][0],\n",
    "                       malign_set[index][0],\n",
    "                       axis=0)\n",
    "    h_shape = healthy_set[index][0].shape[0]\n",
    "    m_shape = malign_set[index][0].shape[0]\n",
    "    testLabels = np.append(np.ones(h_shape)*(-1),np.ones(m_shape))\n",
    "    testLabels = np.mat(testLabels,dtype=int)\n",
    "    \n",
    "    return testSet,testLabels\n",
    "\n",
    "\n",
    "testData,testLabels = createTestSet(healthy,malign,index=4)\n",
    "trainData,trainLabels =  createTrainingSet(healthy,malign,4)\n",
    "print(testLabels.shape)"
   ]
  },
  {
   "cell_type": "code",
   "execution_count": 3,
   "metadata": {},
   "outputs": [
    {
     "data": {
      "text/plain": [
       "<paramz.optimization.optimization.opt_lbfgsb at 0x1ca5e44bbe0>"
      ]
     },
     "execution_count": 3,
     "metadata": {},
     "output_type": "execute_result"
    }
   ],
   "source": [
    "# Creación de un modelo con procesos guasssianos con los datos  que tenemos y prueba de predicción con\n",
    "# el conjunto de datos de test.\n",
    "ker = GPy.kern.RBF(10,variance=1,lengthscale=1.9)\n",
    "lik = GPy.likelihoods.Bernoulli()\n",
    "m = GPy.models.GPClassification(trainData,trainLabels.T,kernel=ker,likelihood=lik)\n",
    "# Optimizamos el modelo.\n",
    "m.optimize(max_iters=150)"
   ]
  },
  {
   "cell_type": "code",
   "execution_count": 8,
   "metadata": {},
   "outputs": [
    {
     "name": "stdout",
     "output_type": "stream",
     "text": [
      "(268,)\n"
     ]
    }
   ],
   "source": [
    "def getLabelsPredicted(probs_predicted,theta=0.5):\n",
    "    labels = np.array([int(value >= theta) for value in probs_predicted])\n",
    "    return labels\n",
    "\n",
    "def toLabelArray(labelMat):\n",
    "    label_arr = np.array(labelMat).reshape((-1,))\n",
    "    label_arr[label_arr == -1] = 0\n",
    "    return label_arr\n",
    "    \n",
    "# Predicción de las variables de test.\n",
    "predicted_labels = m.predict(testData)[0]\n",
    "real_labels = getLabelsPredicted(predicted_labels)\n",
    "print(real_labels.shape)"
   ]
  },
  {
   "cell_type": "code",
   "execution_count": 9,
   "metadata": {
    "scrolled": true
   },
   "outputs": [
    {
     "name": "stdout",
     "output_type": "stream",
     "text": [
      "[[194   5]\n",
      " [ 17  52]]\n",
      "TN: 194, TP: 52 , FN: 17 , FP: 5 \n",
      "Accuracy: 0.917910 \n",
      "Precision: 0.912281 \n",
      "Recall: 0.753623 \n",
      "Specifity: 0.974874 \n",
      "F1-Score: 0.825397 \n"
     ]
    }
   ],
   "source": [
    "from sklearn.metrics import confusion_matrix\n",
    "from sklearn.metrics import accuracy_score,f1_score,precision_score,recall_score,roc_auc_score,roc_curve\n",
    "matrix = confusion_matrix(toLabelArray(testLabels),real_labels)\n",
    "print(matrix)\n",
    "f1 = f1_score(toLabelArray(testLabels),real_labels)\n",
    "acc = accuracy_score(toLabelArray(testLabels),real_labels)\n",
    "precision = precision_score(toLabelArray(testLabels),real_labels)\n",
    "recall = recall_score(toLabelArray(testLabels),real_labels)\n",
    "tn, fp, fn, tp = matrix.ravel()\n",
    "print(\"TN: {0:d}, TP: {1:d} , FN: {2:d} , FP: {3:d} \".format(tn,tp,fn,fp))\n",
    "specifity = tn/(tn+fp)\n",
    "\n",
    "print(\"Accuracy: {0:f} \\nPrecision: {1:f} \\nRecall: {2:f} \\nSpecifity: {3:f} \\nF1-Score: {4:f} \".\n",
    "      format(acc,precision,recall,specifity,f1))\n",
    "\n",
    "\"\"\"\n",
    "Confusion Matrix:\n",
    "C0,0 = true negatives\n",
    "C0,1 = false positives\n",
    "C1,0 = false negatives\n",
    "C1,1 = true positives\n",
    "\"\"\"\n",
    "\n",
    "\n",
    "def calculateMetrics(y_real,y_pred):\n",
    "    tn,fp,fn,tp = confusion_matrix(y_real,y_pred).ravel()\n",
    "    accuracy = (tp+tn)/(tn+fp+fn+tp)\n",
    "    precision = tp/(tp+fp)\n",
    "    specificity = tn/(tn+fp)\n",
    "    recall = tp/(tp+fn)\n",
    "    f1_score = (2*precision*recall)/(precision+recall)\n",
    "    \n",
    "    return dict(acc=accuracy,precision=precision,\n",
    "               specificity=specificity,recall=recall,\n",
    "               f1score=f1_score)\n",
    "\n"
   ]
  },
  {
   "cell_type": "code",
   "execution_count": 10,
   "metadata": {},
   "outputs": [
    {
     "data": {
      "image/png": "[encoded data removed]",
      "text/plain": [
       "<Figure size 432x288 with 1 Axes>"
      ]
     },
     "metadata": {
      "needs_background": "light"
     },
     "output_type": "display_data"
    },
    {
     "name": "stdout",
     "output_type": "stream",
     "text": [
      "AUC: 0.959\n"
     ]
    }
   ],
   "source": [
    "fpr, tpr, thresholds = roc_curve(toLabelArray(testLabels), predicted_labels)\n",
    "# plot no skill\n",
    "plt.plot([0, 1], [0, 1], linestyle='--')\n",
    "# plot the roc curve for the model\n",
    "plt.plot(fpr, tpr, marker='.')\n",
    "# show the plot\n",
    "plt.show()\n",
    "\n",
    "auc = roc_auc_score(toLabelArray(testLabels),predicted_labels)\n",
    "print('AUC: %.3f' % auc)"
   ]
  },
  {
   "cell_type": "code",
   "execution_count": 11,
   "metadata": {},
   "outputs": [
    {
     "data": {
      "text/plain": [
       "<paramz.optimization.optimization.opt_lbfgsb at 0x1ca62592390>"
      ]
     },
     "execution_count": 11,
     "metadata": {},
     "output_type": "execute_result"
    }
   ],
   "source": [
    "# Preparamos los modelos de procesos gaussianos.\n",
    "trainData,trainLabels = createTrainingSet(healthy,malign,0)\n",
    "ker = GPy.kern.RBF(10,variance=1,lengthscale=1.9)\n",
    "lik = GPy.likelihoods.Bernoulli()\n",
    "m1 = GPy.models.gp_var_gauss.GPVariationalGaussianApproximation(trainData,\n",
    "                                        trainLabels.T,kernel=ker,likelihood=lik)\n",
    "# Optimizamos el modelo.\n",
    "m1.optimize()"
   ]
  },
  {
   "cell_type": "code",
   "execution_count": 16,
   "metadata": {},
   "outputs": [
    {
     "data": {
      "text/plain": [
       "array([[5.80161349e-04],\n",
       "       [3.81419058e-03],\n",
       "       [2.35273385e-03],\n",
       "       [8.47973333e-04],\n",
       "       [4.65076552e-04],\n",
       "       [6.05417711e-04],\n",
       "       [6.21983493e-02],\n",
       "       [2.37721803e-03],\n",
       "       [3.44538669e-04],\n",
       "       [3.53962323e-04],\n",
       "       [1.56183888e-02],\n",
       "       [1.50032341e-03],\n",
       "       [9.47471456e-04],\n",
       "       [5.50595908e-04],\n",
       "       [7.11029462e-03],\n",
       "       [3.69626959e-04],\n",
       "       [2.37252329e-01],\n",
       "       [2.73973147e-02],\n",
       "       [2.42589986e-02],\n",
       "       [2.87188981e-02],\n",
       "       [1.11848900e-03],\n",
       "       [1.99729326e-03],\n",
       "       [2.59177346e-03],\n",
       "       [3.30053190e-02],\n",
       "       [3.57995515e-03],\n",
       "       [2.47424817e-03],\n",
       "       [3.16709666e-03],\n",
       "       [1.93232771e-02],\n",
       "       [3.00462682e-03],\n",
       "       [1.16838239e-02],\n",
       "       [1.52806272e-02],\n",
       "       [5.54924773e-03],\n",
       "       [2.15902932e-03],\n",
       "       [3.56530112e-01],\n",
       "       [3.83634909e-02],\n",
       "       [4.02965311e-03],\n",
       "       [1.23894299e-02],\n",
       "       [5.55311090e-01],\n",
       "       [2.02583514e-03],\n",
       "       [1.57301253e-03],\n",
       "       [9.87104735e-04],\n",
       "       [9.72686333e-04],\n",
       "       [1.33296116e-03],\n",
       "       [2.19322074e-03],\n",
       "       [1.07419712e-03],\n",
       "       [1.51797065e-03],\n",
       "       [1.29090965e-03],\n",
       "       [2.19245105e-02],\n",
       "       [9.24992261e-03],\n",
       "       [1.21532874e-03],\n",
       "       [9.44793094e-03],\n",
       "       [3.94208668e-03],\n",
       "       [4.66730501e-02],\n",
       "       [1.30789855e-01],\n",
       "       [4.14212037e-02],\n",
       "       [3.31526674e-02],\n",
       "       [3.94399011e-03],\n",
       "       [1.90071318e-02],\n",
       "       [4.30516642e-02],\n",
       "       [4.75146040e-02],\n",
       "       [7.70100693e-02],\n",
       "       [8.88598366e-02],\n",
       "       [7.33210587e-02],\n",
       "       [6.85200459e-02],\n",
       "       [1.47037245e-03],\n",
       "       [5.11335933e-03],\n",
       "       [3.91332013e-03],\n",
       "       [4.62286427e-04],\n",
       "       [4.21677141e-04],\n",
       "       [1.88817427e-03],\n",
       "       [8.51421279e-04],\n",
       "       [4.67294285e-04],\n",
       "       [8.72259905e-03],\n",
       "       [1.81985940e-02],\n",
       "       [2.53411316e-02],\n",
       "       [3.18967899e-03],\n",
       "       [7.03143997e-04],\n",
       "       [8.89984841e-03],\n",
       "       [1.72915655e-02],\n",
       "       [1.53754785e-01],\n",
       "       [1.68624661e-04],\n",
       "       [1.07391402e-02],\n",
       "       [1.08946792e-02],\n",
       "       [1.86478178e-03],\n",
       "       [3.04154797e-03],\n",
       "       [1.30207381e-03],\n",
       "       [6.76779592e-03],\n",
       "       [8.57735643e-01],\n",
       "       [9.14698843e-01],\n",
       "       [1.44296066e-02],\n",
       "       [1.29287121e-03],\n",
       "       [7.06080383e-01],\n",
       "       [7.61837993e-01],\n",
       "       [1.05374653e-02],\n",
       "       [5.53691867e-05],\n",
       "       [4.72691838e-01],\n",
       "       [7.26447009e-01],\n",
       "       [1.47209597e-02],\n",
       "       [3.95737714e-02],\n",
       "       [2.52859541e-02],\n",
       "       [4.47473868e-01],\n",
       "       [1.49296515e-01],\n",
       "       [2.74009035e-02],\n",
       "       [1.59153509e-02],\n",
       "       [2.08112114e-02],\n",
       "       [1.74568601e-02],\n",
       "       [2.72958276e-02],\n",
       "       [6.65006688e-02],\n",
       "       [4.17241210e-02],\n",
       "       [9.65144772e-02],\n",
       "       [3.60746515e-02],\n",
       "       [7.55578132e-02],\n",
       "       [4.06312216e-02],\n",
       "       [6.11252089e-02],\n",
       "       [4.22746265e-02],\n",
       "       [6.99774823e-02],\n",
       "       [1.13546249e-02],\n",
       "       [8.07755450e-03],\n",
       "       [2.09850918e-03],\n",
       "       [2.99204933e-04],\n",
       "       [2.14297426e-04],\n",
       "       [1.80899378e-02],\n",
       "       [8.88719255e-03],\n",
       "       [1.87372677e-03],\n",
       "       [5.95902100e-04],\n",
       "       [3.70100293e-04],\n",
       "       [1.20689691e-04],\n",
       "       [1.95784597e-04],\n",
       "       [1.80487806e-04],\n",
       "       [2.50974554e-04],\n",
       "       [4.27943558e-04],\n",
       "       [4.61897328e-04],\n",
       "       [3.72216978e-03],\n",
       "       [1.69612385e-01],\n",
       "       [1.61997799e-02],\n",
       "       [6.05420538e-04],\n",
       "       [1.90534382e-04],\n",
       "       [1.35911826e-01],\n",
       "       [1.99881292e-01],\n",
       "       [1.57462932e-02],\n",
       "       [6.13050148e-04],\n",
       "       [3.03334231e-04],\n",
       "       [5.83429442e-04],\n",
       "       [2.02119674e-04],\n",
       "       [1.95467111e-03],\n",
       "       [1.16414917e-04],\n",
       "       [2.28052044e-03],\n",
       "       [1.65975444e-04],\n",
       "       [9.23344446e-02],\n",
       "       [1.60519829e-02],\n",
       "       [5.13766339e-04],\n",
       "       [1.29630184e-04],\n",
       "       [1.48615913e-04],\n",
       "       [6.52876840e-04],\n",
       "       [6.01331778e-05],\n",
       "       [1.64333844e-04],\n",
       "       [1.45373403e-04],\n",
       "       [4.49519182e-05],\n",
       "       [3.91077063e-05],\n",
       "       [1.27603282e-04],\n",
       "       [8.35978272e-05],\n",
       "       [1.66494400e-04],\n",
       "       [5.42845130e-05],\n",
       "       [7.47974769e-04],\n",
       "       [2.19757299e-04],\n",
       "       [6.38750487e-04],\n",
       "       [4.62048137e-04],\n",
       "       [8.87533479e-04],\n",
       "       [1.90090609e-03],\n",
       "       [7.58466926e-04],\n",
       "       [2.76939725e-03],\n",
       "       [1.01182681e-03],\n",
       "       [9.59776468e-03],\n",
       "       [1.36619128e-02],\n",
       "       [2.38247246e-05],\n",
       "       [1.74417391e-01],\n",
       "       [2.33043477e-02],\n",
       "       [3.94118760e-04],\n",
       "       [7.29709893e-03],\n",
       "       [5.80486476e-03],\n",
       "       [3.57950912e-03],\n",
       "       [7.42174848e-04],\n",
       "       [1.86528799e-03],\n",
       "       [2.60491868e-03],\n",
       "       [1.06510907e-03],\n",
       "       [8.92789869e-04],\n",
       "       [2.14660757e-03],\n",
       "       [2.12372224e-03],\n",
       "       [3.56342430e-03],\n",
       "       [1.77046967e-02],\n",
       "       [5.56782190e-03],\n",
       "       [5.87040115e-03],\n",
       "       [2.73148700e-02],\n",
       "       [3.01129672e-03],\n",
       "       [4.02688378e-03],\n",
       "       [1.00810674e-02],\n",
       "       [3.30981512e-02],\n",
       "       [4.17883863e-02],\n",
       "       [1.95889742e-02],\n",
       "       [8.62592668e-01],\n",
       "       [8.52371839e-01],\n",
       "       [3.08156807e-01],\n",
       "       [8.52765258e-01],\n",
       "       [7.42893643e-01],\n",
       "       [4.49377959e-01],\n",
       "       [7.09743837e-01],\n",
       "       [5.09021914e-01],\n",
       "       [4.78030927e-01],\n",
       "       [5.90862774e-01],\n",
       "       [5.90862774e-01],\n",
       "       [6.07687130e-01],\n",
       "       [6.07687130e-01],\n",
       "       [9.21000472e-01],\n",
       "       [9.21000472e-01],\n",
       "       [9.40469161e-01],\n",
       "       [9.31502089e-01],\n",
       "       [5.51496900e-01],\n",
       "       [9.21000472e-01],\n",
       "       [9.21000472e-01],\n",
       "       [9.40469161e-01],\n",
       "       [9.31502089e-01],\n",
       "       [5.51496900e-01],\n",
       "       [9.79001416e-01],\n",
       "       [9.83678443e-01],\n",
       "       [9.75547512e-01],\n",
       "       [9.86074469e-01],\n",
       "       [9.82103284e-01],\n",
       "       [9.48871049e-01],\n",
       "       [8.67157270e-01],\n",
       "       [8.63708143e-01],\n",
       "       [8.70707810e-01],\n",
       "       [8.66705589e-01],\n",
       "       [8.63012668e-01],\n",
       "       [9.40418581e-01],\n",
       "       [9.40418581e-01],\n",
       "       [9.40418581e-01],\n",
       "       [9.40418581e-01],\n",
       "       [9.61102343e-01],\n",
       "       [9.61102343e-01],\n",
       "       [9.67916651e-01],\n",
       "       [9.67916651e-01],\n",
       "       [9.90069465e-01],\n",
       "       [9.77974367e-01],\n",
       "       [9.53924230e-01],\n",
       "       [9.82902192e-01],\n",
       "       [9.78458589e-01],\n",
       "       [9.65015487e-01],\n",
       "       [9.75973580e-01],\n",
       "       [9.80249458e-01],\n",
       "       [9.84697198e-01],\n",
       "       [9.83801398e-01],\n",
       "       [9.82753562e-01],\n",
       "       [9.97826252e-01],\n",
       "       [9.97826252e-01],\n",
       "       [9.97843716e-01],\n",
       "       [9.97843716e-01],\n",
       "       [9.90037708e-01],\n",
       "       [9.88994439e-01],\n",
       "       [9.88055962e-01],\n",
       "       [9.42640931e-01],\n",
       "       [7.03693502e-01],\n",
       "       [9.87920483e-01],\n",
       "       [9.34723524e-01],\n",
       "       [6.99486033e-01],\n",
       "       [9.75294391e-01],\n",
       "       [9.75300840e-01],\n",
       "       [9.75294391e-01],\n",
       "       [9.75300840e-01]])"
      ]
     },
     "execution_count": 16,
     "metadata": {},
     "output_type": "execute_result"
    }
   ],
   "source": [
    "predicted_labels = m1.predict(testData)[0]"
   ]
  },
  {
   "cell_type": "code",
   "execution_count": null,
   "metadata": {},
   "outputs": [],
   "source": [
    "trainData,trainLabels = createTrainingSet(healthy,malign,1)\n",
    "ker = GPy.kern.RBF(10,variance=1,lengthscale=1.9)\n",
    "lik = GPy.likelihoods.Bernoulli()\n",
    "m2 = GPy.models.gp_var_gauss.GPVariationalGaussianApproximation(trainData,\n",
    "                                        trainLabels.T,kernel=ker,likelihood=lik)\n",
    "# Optimizamos el modelo.\n",
    "m2.optimize()"
   ]
  },
  {
   "cell_type": "code",
   "execution_count": null,
   "metadata": {},
   "outputs": [],
   "source": [
    "trainData,trainLabels = createTrainingSet(healthy,malign,2)\n",
    "ker = GPy.kern.RBF(10,variance=1,lengthscale=1.9)\n",
    "lik = GPy.likelihoods.Bernoulli()\n",
    "m3 = GPy.models.gp_var_gauss.GPVariationalGaussianApproximation(trainData,\n",
    "                                        trainLabels.T,kernel=ker,likelihood=lik)\n",
    "# Optimizamos el modelo.\n",
    "m3.optimize()"
   ]
  },
  {
   "cell_type": "code",
   "execution_count": null,
   "metadata": {},
   "outputs": [],
   "source": [
    "trainData,trainLabels = createTrainingSet(healthy,malign,3)\n",
    "ker = GPy.kern.RBF(10,variance=1,lengthscale=1.9)\n",
    "lik = GPy.likelihoods.Bernoulli()\n",
    "m4 = GPy.models.gp_var_gauss.GPVariationalGaussianApproximation(trainData,\n",
    "                                        trainLabels.T,kernel=ker,likelihood=lik)\n",
    "# Optimizamos el modelo.\n",
    "m4.optimize()"
   ]
  },
  {
   "cell_type": "code",
   "execution_count": null,
   "metadata": {},
   "outputs": [],
   "source": [
    "trainData,trainLabels = createTrainingSet(healthy,malign,4)\n",
    "ker = GPy.kern.RBF(10,variance=1,lengthscale=1.9)\n",
    "lik = GPy.likelihoods.Bernoulli()\n",
    "m5 = GPy.models.gp_var_gauss.GPVariationalGaussianApproximation(trainData,\n",
    "                                        trainLabels.T,kernel=ker,likelihood=lik)\n",
    "# Optimizamos el modelo.\n",
    "m5.optimize()"
   ]
  },
  {
   "cell_type": "code",
   "execution_count": null,
   "metadata": {},
   "outputs": [],
   "source": [
    "def calculateProbs(models,test_data):\n",
    "    probs = np.array([m.predict(test_data)[0].reshape((-1,)) for m in models])\n",
    "    real_probs = np.mean(probs,axis=0)\n",
    "    return real_probs\n",
    "\n",
    "mod = [m1,m2,m3,m4,m5]\n",
    "p4 = calculateProbs(mod,testData)\n",
    "\n",
    "t1,l1 = createTestSet(healthy,malign,0)\n",
    "t2,l2 = createTestSet(healthy,malign,1)\n",
    "t3,l3 = createTestSet(healthy,malign,2)\n",
    "t4,l4 = createTestSet(healthy,malign,3)\n",
    "t5,l5 = createTestSet(healthy,malign,4)\n",
    "test_data = [t1,t2,t3,t4,t5]\n",
    "probabilities = [calculateProbs(mod,data) for data in test_data ]"
   ]
  },
  {
   "cell_type": "code",
   "execution_count": null,
   "metadata": {},
   "outputs": [],
   "source": [
    "def plotRocCurve(y_real,y_probs,savename=None):\n",
    "    fpr, tpr, thresholds = roc_curve(y_real,y_probs)\n",
    "    \n",
    "    # plot the roc curve for the model\n",
    "    plt.plot(fpr, tpr, marker='.')\n",
    "    # plot no skill\n",
    "    plt.plot([0, 1], [0, 1], linestyle='--')\n",
    "    \n",
    "    plt.ylabel(\"True Positive Rate\")\n",
    "    plt.xlabel(\"False Positive Rate\")\n",
    "    plt.title(\"ROC Curve\")\n",
    "    \n",
    "    auc = roc_auc_score(y_real,y_probs)\n",
    "    print('AUC: %.3f' % auc)\n",
    "    plt.legend(['AUC: %.3f' % auc])\n",
    "    \n",
    "    try:\n",
    "        plt.savefig(savename)\n",
    "    except:\n",
    "        pass\n",
    "    \n",
    "    # show the plot\n",
    "    plt.show()\n",
    "\n",
    "plotRocCurve(toLabelArray(l1),probabilities[0],\"./images/p1-roc.pdf\")\n",
    "plotRocCurve(toLabelArray(l2),probabilities[1],\"./images/p2-roc.pdf\")\n",
    "plotRocCurve(toLabelArray(l3),probabilities[2],\"./images/p3-roc.pdf\")\n",
    "plotRocCurve(toLabelArray(l4),probabilities[3],\"./images/p4-roc.pdf\")\n",
    "plotRocCurve(toLabelArray(l5),probabilities[4],\"./images/p5-roc.pdf\")"
   ]
  },
  {
   "cell_type": "code",
   "execution_count": null,
   "metadata": {},
   "outputs": [],
   "source": [
    "from sklearn.metrics import precision_recall_curve,auc,average_precision_score\n",
    "\n",
    "def plotPrecisionRecallCurve(y_real,y_probs,savename=None):\n",
    "    # calculate precision-recall curve\n",
    "    precision, recall, thresholds = precision_recall_curve(y_real, y_probs)\n",
    "    yhat = getLabelsPredicted(y_probs)\n",
    "    \n",
    "    # calculate F1 score\n",
    "    f1 = f1_score(y_real, yhat)\n",
    "    # calculate precision-recall AUC\n",
    "    auc_m = auc(recall, precision)\n",
    "    # calculate average precision score\n",
    "    ap = average_precision_score(y_real, y_probs)\n",
    "    print('f1=%.3f auc=%.3f ap=%.3f' % (f1, auc_m, ap))\n",
    "    \n",
    "    # plot the roc curve for the model\n",
    "    plt.plot(recall, precision, marker='.')\n",
    "    # plot no skill\n",
    "    plt.plot([0, 1], [0.5, 0.5], linestyle='--')\n",
    "    plt.ylabel(\"Precision\")\n",
    "    plt.xlabel(\"Recall\")\n",
    "    plt.title(\"Precision-Recall Curve\")\n",
    "    plt.legend(['AUC: %.3f' % auc_m])\n",
    "    try:\n",
    "        plt.savefig(savename)\n",
    "    except:\n",
    "        pass\n",
    "    \n",
    "    # show the plot\n",
    "    plt.show()\n",
    "    \n",
    "    \n",
    "    \n",
    "\n",
    "plotPrecisionRecallCurve(toLabelArray(l1),probabilities[0],\"./images/p1-curve.pdf\")\n",
    "plotPrecisionRecallCurve(toLabelArray(l2),probabilities[1],\"./images/p2-curve.pdf\")\n",
    "plotPrecisionRecallCurve(toLabelArray(l3),probabilities[2],\"./images/p3-curve.pdf\")\n",
    "plotPrecisionRecallCurve(toLabelArray(l4),probabilities[3],\"./images/p4-curve.pdf\")\n",
    "plotPrecisionRecallCurve(toLabelArray(l5),probabilities[4],\"./images/p5-curve.pdf\")"
   ]
  },
  {
   "cell_type": "code",
   "execution_count": null,
   "metadata": {},
   "outputs": [],
   "source": [
    "import pandas as pd\n",
    "\n",
    "labels = [l1,l2,l3,l4,l5]\n",
    "dataframe = pd.DataFrame(columns=list(calculateMetrics(toLabelArray(l1),getLabelsPredicted(probabilities[0])).keys()))\n",
    "for ind in range(len(labels)):\n",
    "    dataframe.loc[ind] = calculateMetrics(toLabelArray(labels[ind]),\n",
    "                                         getLabelsPredicted(probabilities[ind]))\n",
    "\n",
    "print(dataframe)"
   ]
  },
  {
   "cell_type": "code",
   "execution_count": null,
   "metadata": {},
   "outputs": [],
   "source": [
    "import seaborn as sns\n",
    "def plotConfusionMatrix(y_true,y_pred,savename=None):\n",
    "    confusion_mat = confusion_matrix(y_true,y_pred)\n",
    "    df_mat = pd.DataFrame(confusion_mat,columns=[\"healthy\",\"cancerous\"],index=[\"healthy\",\"cancerous\"])\n",
    "\n",
    "    fig = sns.heatmap(df_mat,annot=True,fmt=\"d\",cbar=False)\n",
    "    fig.set(title=\"confusion matrix\",xlabel=\"predicted labels\",ylabel=\"true labels\")\n",
    "    try:\n",
    "        figure = fig.get_figure()    \n",
    "        figure.savefig(savename)\n",
    "    except:\n",
    "        pass\n",
    "    \n"
   ]
  },
  {
   "cell_type": "code",
   "execution_count": null,
   "metadata": {},
   "outputs": [],
   "source": [
    "plotConfusionMatrix(toLabelArray(l1),\n",
    "                   getLabelsPredicted(probabilities[0]),\n",
    "                   \"./images/confusion_mat1.pdf\")"
   ]
  },
  {
   "cell_type": "code",
   "execution_count": null,
   "metadata": {},
   "outputs": [],
   "source": [
    "plotConfusionMatrix(toLabelArray(l2),\n",
    "                   getLabelsPredicted(probabilities[1]),\n",
    "                   \"./images/confusion_mat2.pdf\")"
   ]
  },
  {
   "cell_type": "code",
   "execution_count": null,
   "metadata": {},
   "outputs": [],
   "source": [
    "plotConfusionMatrix(toLabelArray(l3),\n",
    "                   getLabelsPredicted(probabilities[2]),\n",
    "                   \"./images/confusion_mat3.pdf\")"
   ]
  },
  {
   "cell_type": "code",
   "execution_count": null,
   "metadata": {},
   "outputs": [],
   "source": [
    "plotConfusionMatrix(toLabelArray(l4),\n",
    "                   getLabelsPredicted(probabilities[3]),\n",
    "                   \"./images/confusion_mat4.pdf\")"
   ]
  },
  {
   "cell_type": "code",
   "execution_count": null,
   "metadata": {
    "scrolled": true
   },
   "outputs": [],
   "source": [
    "plotConfusionMatrix(toLabelArray(l5),\n",
    "                   getLabelsPredicted(probabilities[4]),\n",
    "                   \"./images/confusion_mat5.pdf\")"
   ]
  },
  {
   "cell_type": "code",
   "execution_count": null,
   "metadata": {},
   "outputs": [],
   "source": []
  },
  {
   "cell_type": "code",
   "execution_count": null,
   "metadata": {},
   "outputs": [],
   "source": []
  }
 ],
 "metadata": {
  "kernelspec": {
   "display_name": "Keras-CPU",
   "language": "python",
   "name": "neuralnets"
  },
  "language_info": {
   "codemirror_mode": {
    "name": "ipython",
    "version": 3
   },
   "file_extension": ".py",
   "mimetype": "text/x-python",
   "name": "python",
   "nbconvert_exporter": "python",
   "pygments_lexer": "ipython3",
   "version": "3.6.8"
  }
 },
 "nbformat": 4,
 "nbformat_minor": 2
}
